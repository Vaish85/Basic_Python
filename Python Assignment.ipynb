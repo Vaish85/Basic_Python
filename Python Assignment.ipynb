{
 "cells": [
  {
   "cell_type": "markdown",
   "id": "b40b0abc-6e0f-4a4e-85c8-b0547ad25262",
   "metadata": {},
   "source": [
    "# Python Assignment 1"
   ]
  },
  {
   "cell_type": "markdown",
   "id": "cde44495-24e4-451b-90e0-5202aad92f6c",
   "metadata": {},
   "source": [
    "## 1) What is Python? "
   ]
  },
  {
   "attachments": {},
   "cell_type": "markdown",
   "id": "a723f21f-065b-42a4-a9f6-657e86112465",
   "metadata": {},
   "source": [
    "### Python is a programming language mostly used in AI and Data science.\n",
    "### It has very simple syntax and beginner friendly language.\n",
    "### It is open source means freely available to use.\n",
    "### It is interpreted language means runs the code line by line not all at once.\n",
    "### It is platform independent language means we can write & run it on any operating system.\n",
    "### It is rich in libraries."
   ]
  },
  {
   "cell_type": "markdown",
   "id": "e4c20d34-3f32-4653-97be-834a306f5ab6",
   "metadata": {},
   "source": [
    "## 2) How can you filter specific data from a list? "
   ]
  },
  {
   "cell_type": "markdown",
   "id": "4c6843ba-9514-4f05-b958-bbb2426c18fb",
   "metadata": {},
   "source": [
    "### We can filter a specific data from a list by indexing"
   ]
  },
  {
   "cell_type": "code",
   "execution_count": 1,
   "id": "772ce55c-d175-4535-9a9c-2658c978ed65",
   "metadata": {},
   "outputs": [],
   "source": [
    "num = [1,2,3,4,5,6,7,8]"
   ]
  },
  {
   "cell_type": "code",
   "execution_count": 2,
   "id": "3d10e21d-c7a6-41ba-8f89-827e7bffc441",
   "metadata": {},
   "outputs": [
    {
     "data": {
      "text/plain": [
       "4"
      ]
     },
     "execution_count": 2,
     "metadata": {},
     "output_type": "execute_result"
    }
   ],
   "source": [
    "num[3]   #Index no. of an element"
   ]
  },
  {
   "cell_type": "code",
   "execution_count": 3,
   "id": "b5dbf8b5-a7ff-4725-928a-3840e4caa2eb",
   "metadata": {},
   "outputs": [
    {
     "data": {
      "text/plain": [
       "[2, 3, 4]"
      ]
     },
     "execution_count": 3,
     "metadata": {},
     "output_type": "execute_result"
    }
   ],
   "source": [
    "num[1:4]"
   ]
  },
  {
   "cell_type": "markdown",
   "id": "c6c4b7dc-e0ff-4809-8c89-4de7197fcf73",
   "metadata": {},
   "source": [
    "## 3) How do you replace existing data in a list with new data? "
   ]
  },
  {
   "cell_type": "markdown",
   "id": "764f825a-211a-49a4-be22-d6faa1e768c1",
   "metadata": {},
   "source": [
    "### We can replace elements of list by using index value itself."
   ]
  },
  {
   "cell_type": "code",
   "execution_count": 4,
   "id": "a74828b9-9b99-42cc-8ab8-fa672c8906fd",
   "metadata": {},
   "outputs": [],
   "source": [
    "list = ['Vaishnavi','Shruti','Nirbhay',3,7,9]"
   ]
  },
  {
   "cell_type": "code",
   "execution_count": 5,
   "id": "58e7ab06-98cc-48cb-b30b-4aa3c0c23ab2",
   "metadata": {},
   "outputs": [],
   "source": [
    "list[2] = 209"
   ]
  },
  {
   "cell_type": "code",
   "execution_count": 6,
   "id": "d2b5d261-d9b5-4e00-96b0-8b9fb5cb29bc",
   "metadata": {},
   "outputs": [
    {
     "data": {
      "text/plain": [
       "['Vaishnavi', 'Shruti', 209, 3, 7, 9]"
      ]
     },
     "execution_count": 6,
     "metadata": {},
     "output_type": "execute_result"
    }
   ],
   "source": [
    "list"
   ]
  },
  {
   "cell_type": "markdown",
   "id": "4b1e8ea4-8b34-4ffe-8d96-963efc6fb6a2",
   "metadata": {},
   "source": [
    "## 4) What is a nested list? Provide an example. "
   ]
  },
  {
   "cell_type": "markdown",
   "id": "8240be21-d7ad-4328-a13a-aec3bccfe136",
   "metadata": {},
   "source": [
    "### Nested list is nothing but the list in a list😊"
   ]
  },
  {
   "cell_type": "code",
   "execution_count": 9,
   "id": "44b8e8af-5a44-4c57-bfda-474dbb172360",
   "metadata": {},
   "outputs": [],
   "source": [
    "nes_l = [[1,2,3,4,5,6],['cherry','Guava','Apple'],[True,False]]"
   ]
  },
  {
   "cell_type": "code",
   "execution_count": 10,
   "id": "e7a9a3ad-91de-41d2-948c-2407c910a409",
   "metadata": {},
   "outputs": [
    {
     "data": {
      "text/plain": [
       "[[1, 2, 3, 4, 5, 6], ['cherry', 'Guava', 'Apple'], [True, False]]"
      ]
     },
     "execution_count": 10,
     "metadata": {},
     "output_type": "execute_result"
    }
   ],
   "source": [
    "nes_l"
   ]
  },
  {
   "cell_type": "code",
   "execution_count": 11,
   "id": "3547ef21-51c7-4c83-a951-193f87cb324b",
   "metadata": {},
   "outputs": [
    {
     "data": {
      "text/plain": [
       "[1, 2, 3, 4, 5, 6]"
      ]
     },
     "execution_count": 11,
     "metadata": {},
     "output_type": "execute_result"
    }
   ],
   "source": [
    "nes_l[0]   #Prints 0th element of list"
   ]
  },
  {
   "cell_type": "code",
   "execution_count": 14,
   "id": "a11dabd5-746b-4018-b495-453878a1cdb4",
   "metadata": {},
   "outputs": [
    {
     "data": {
      "text/plain": [
       "3"
      ]
     },
     "execution_count": 14,
     "metadata": {},
     "output_type": "execute_result"
    }
   ],
   "source": [
    "nes_l[0][2]  #prints 2nd element of 0th index of list"
   ]
  },
  {
   "cell_type": "markdown",
   "id": "12efa0c0-41f1-41b9-9f89-49c180eb0076",
   "metadata": {},
   "source": [
    "## 5) How can you reverse a list in Python? "
   ]
  },
  {
   "cell_type": "markdown",
   "id": "7ba556d6-1f04-4995-bc0b-9d1e77bca08c",
   "metadata": {},
   "source": [
    "### We have 2 ways to reverse the list"
   ]
  },
  {
   "cell_type": "code",
   "execution_count": 15,
   "id": "7e5a7005-c0e1-43ca-9eed-8986816a68ee",
   "metadata": {},
   "outputs": [],
   "source": [
    "# 1) reverse()\n",
    "num = [1,4,8,0,5]"
   ]
  },
  {
   "cell_type": "code",
   "execution_count": 16,
   "id": "ff0179c1-7447-42ca-ab31-4d667fe1d5ed",
   "metadata": {},
   "outputs": [],
   "source": [
    "num.reverse()"
   ]
  },
  {
   "cell_type": "code",
   "execution_count": 17,
   "id": "c52c3693-4935-403f-ba91-5221ac50f0fb",
   "metadata": {},
   "outputs": [
    {
     "data": {
      "text/plain": [
       "[5, 0, 8, 4, 1]"
      ]
     },
     "execution_count": 17,
     "metadata": {},
     "output_type": "execute_result"
    }
   ],
   "source": [
    "num"
   ]
  },
  {
   "cell_type": "code",
   "execution_count": 18,
   "id": "1c3c8cbf-2636-4c1c-a215-a81e40ffaed2",
   "metadata": {},
   "outputs": [],
   "source": [
    "# 2) Slicing\n",
    "num = [1,4,8,0,5]"
   ]
  },
  {
   "cell_type": "code",
   "execution_count": 19,
   "id": "649ba893-15df-40e9-a2ff-55f129b67d39",
   "metadata": {},
   "outputs": [
    {
     "data": {
      "text/plain": [
       "[5, 0, 8, 4, 1]"
      ]
     },
     "execution_count": 19,
     "metadata": {},
     "output_type": "execute_result"
    }
   ],
   "source": [
    "num[: : -1]"
   ]
  },
  {
   "cell_type": "markdown",
   "id": "a9c7e157-c69f-44f2-8291-eb0e7b01b018",
   "metadata": {},
   "source": [
    "## 6) What is the difference between append() and extend() in a list? "
   ]
  },
  {
   "cell_type": "markdown",
   "id": "13c4f29b-9fb4-4193-9034-03f06f46984f",
   "metadata": {},
   "source": [
    "### Append adds the new element at the end of list"
   ]
  },
  {
   "cell_type": "code",
   "execution_count": 24,
   "id": "14cfa6f4-9de0-45d8-8386-429ebdb3fa86",
   "metadata": {},
   "outputs": [],
   "source": [
    "id = [1,2,3]"
   ]
  },
  {
   "cell_type": "code",
   "execution_count": 25,
   "id": "61705fef-946a-48e5-a7e5-10f0a67d2bee",
   "metadata": {},
   "outputs": [],
   "source": [
    "id.append(4)"
   ]
  },
  {
   "cell_type": "code",
   "execution_count": 26,
   "id": "8f3bd216-2a8a-4314-b654-830209a12daa",
   "metadata": {},
   "outputs": [
    {
     "data": {
      "text/plain": [
       "[1, 2, 3, 4]"
      ]
     },
     "execution_count": 26,
     "metadata": {},
     "output_type": "execute_result"
    }
   ],
   "source": [
    "id"
   ]
  },
  {
   "cell_type": "code",
   "execution_count": 29,
   "id": "6aa83f38-2b0d-4e89-8a09-ef1a8372b1d4",
   "metadata": {},
   "outputs": [],
   "source": [
    "id.append([5,6,7])   #Adds the entire list as single element"
   ]
  },
  {
   "cell_type": "code",
   "execution_count": 30,
   "id": "556d4253-2794-494a-ae1a-03e6009bd2cc",
   "metadata": {},
   "outputs": [
    {
     "data": {
      "text/plain": [
       "[1, 2, 3, 4, [5, 6, 7], [5, 6, 7]]"
      ]
     },
     "execution_count": 30,
     "metadata": {},
     "output_type": "execute_result"
    }
   ],
   "source": [
    "id"
   ]
  },
  {
   "cell_type": "markdown",
   "id": "5b027012-bbba-4632-84de-0c101aa12c66",
   "metadata": {},
   "source": [
    "### Extend adds multiple elements individually at the end of list"
   ]
  },
  {
   "cell_type": "code",
   "execution_count": 31,
   "id": "f74bb505-547d-4176-bf8d-befee97a8bbe",
   "metadata": {},
   "outputs": [],
   "source": [
    "id = [1,2,3]"
   ]
  },
  {
   "cell_type": "code",
   "execution_count": 34,
   "id": "66871118-2a5a-4681-bfbc-8fe9a857f51d",
   "metadata": {},
   "outputs": [],
   "source": [
    "id.extend([4,5,6,7,8,9]) #Adds individually"
   ]
  },
  {
   "cell_type": "code",
   "execution_count": 33,
   "id": "3640bff3-0cfd-4e10-b2ec-236238a1845f",
   "metadata": {},
   "outputs": [
    {
     "data": {
      "text/plain": [
       "[1, 2, 3, 4, 5, 6, 7, 8, 9]"
      ]
     },
     "execution_count": 33,
     "metadata": {},
     "output_type": "execute_result"
    }
   ],
   "source": [
    "id"
   ]
  },
  {
   "cell_type": "markdown",
   "id": "8bad3639-1838-4ceb-8821-c417930da695",
   "metadata": {},
   "source": [
    "## 7) What is a function in Python? Why is it used? "
   ]
  },
  {
   "cell_type": "markdown",
   "id": "e6fe5dde-6f16-4f84-8ffa-b82227122520",
   "metadata": {},
   "source": [
    "### Function is a block of code.\n",
    "### It is used to perform specific taks.\n",
    "### We create function when we want to use the same code repetedly."
   ]
  },
  {
   "cell_type": "markdown",
   "id": "f23a12ab-5ad1-486e-90ad-6da8d6337621",
   "metadata": {},
   "source": [
    "## 8) What is the difference between print() and return in a function? "
   ]
  },
  {
   "cell_type": "markdown",
   "id": "9defedd1-897e-4da5-9780-ac788de53ffc",
   "metadata": {},
   "source": [
    "## 1. print()\n",
    "\n",
    "### Purpose: Displays output on the screen.\n",
    "### Use: For showing results to the user."
   ]
  },
  {
   "cell_type": "code",
   "execution_count": 67,
   "id": "7f84229d-636e-4c06-b702-a7e874ac5e92",
   "metadata": {},
   "outputs": [],
   "source": [
    "def greet():\n",
    "    print(\"Hello!\")"
   ]
  },
  {
   "cell_type": "code",
   "execution_count": 68,
   "id": "63d44470-9490-4338-b581-7ea63fe9a37f",
   "metadata": {},
   "outputs": [
    {
     "name": "stdout",
     "output_type": "stream",
     "text": [
      "Hello!\n"
     ]
    }
   ],
   "source": [
    "greet()"
   ]
  },
  {
   "cell_type": "markdown",
   "id": "34ee6ebc-6d4b-4804-ae1c-38cc7e2116de",
   "metadata": {},
   "source": [
    "## 2. return\n",
    "\n",
    "### Purpose: Sends a value back to the caller (where the function was called).\n",
    "### Use: For using the result in further calculations or logic."
   ]
  },
  {
   "cell_type": "code",
   "execution_count": 72,
   "id": "742dbe6e-a1d9-458a-af8c-300d06877376",
   "metadata": {},
   "outputs": [
    {
     "name": "stdout",
     "output_type": "stream",
     "text": [
      "8\n"
     ]
    }
   ],
   "source": [
    "def add(a, b):\n",
    "    return a + b     #Now how many time we execute this code with different inputs that many times return adds those values\n",
    "                     #no need to write the code again and again\n",
    "result = add(5, 3)  # result now holds the value 8\n",
    "print(result)"
   ]
  },
  {
   "cell_type": "markdown",
   "id": "604a4ba7-b9e9-4bcd-a858-279ce705a3a6",
   "metadata": {},
   "source": [
    "## 9) What are local and global variables? Explain with examples. "
   ]
  },
  {
   "cell_type": "markdown",
   "id": "7816c7f3-0ccb-4019-82e6-797aea954cf9",
   "metadata": {},
   "source": [
    "## Local Variables:\n",
    "\n",
    "### These are variables declared inside a function.\n",
    "### They are accessible only within that function.\n",
    "### Once the function finishes, the variable disappears."
   ]
  },
  {
   "cell_type": "code",
   "execution_count": 64,
   "id": "2f8e6737-6823-4711-9cc1-c392229136d4",
   "metadata": {},
   "outputs": [
    {
     "name": "stdout",
     "output_type": "stream",
     "text": [
      "10\n"
     ]
    }
   ],
   "source": [
    "def my_function():\n",
    "    x = 10  # Local variable\n",
    "    print(x)\n",
    "\n",
    "my_function()\n",
    "# x is not accessible outside the function.\n"
   ]
  },
  {
   "cell_type": "markdown",
   "id": "d9b5d8e6-4285-4a08-8e75-2ac0e0ea4dea",
   "metadata": {},
   "source": [
    "## Global Variables:\n",
    "\n",
    "### These are variables declared outside any function.\n",
    "### They are accessible throughout the program, including inside functionas."
   ]
  },
  {
   "cell_type": "code",
   "execution_count": 65,
   "id": "6628fb19-3c64-47f4-bfd5-1fc47de67530",
   "metadata": {},
   "outputs": [
    {
     "name": "stdout",
     "output_type": "stream",
     "text": [
      "10\n"
     ]
    }
   ],
   "source": [
    "x = 10  # Global variable\n",
    "\n",
    "def my_function():\n",
    "    print(x)  # Can access global variable\n",
    "\n",
    "my_function()"
   ]
  },
  {
   "cell_type": "markdown",
   "id": "2cd233c5-4a27-46e7-b421-733cd68b5833",
   "metadata": {},
   "source": [
    "## 10) Write a Python function to check if a given number is even or odd. "
   ]
  },
  {
   "cell_type": "code",
   "execution_count": 35,
   "id": "dfa72a82-f8d3-486d-873d-450c3f74f4f0",
   "metadata": {},
   "outputs": [],
   "source": [
    "def even_odd(x):\n",
    "    if x % 2 == 0:\n",
    "        return 'Even number',x\n",
    "    else:\n",
    "        return 'Odd number',x"
   ]
  },
  {
   "cell_type": "code",
   "execution_count": 37,
   "id": "ab39b91a-4086-4340-a27c-5a653187db01",
   "metadata": {},
   "outputs": [
    {
     "data": {
      "text/plain": [
       "('Even number', 98)"
      ]
     },
     "execution_count": 37,
     "metadata": {},
     "output_type": "execute_result"
    }
   ],
   "source": [
    "even_odd(98)"
   ]
  },
  {
   "cell_type": "code",
   "execution_count": 38,
   "id": "8ac6b3fd-abc7-44ee-84a2-7fd809964e54",
   "metadata": {},
   "outputs": [
    {
     "data": {
      "text/plain": [
       "('Odd number', 35)"
      ]
     },
     "execution_count": 38,
     "metadata": {},
     "output_type": "execute_result"
    }
   ],
   "source": [
    "even_odd(35)"
   ]
  },
  {
   "cell_type": "markdown",
   "id": "60694598-d1e4-4e0f-9b36-8b1fca537e9e",
   "metadata": {},
   "source": [
    "## 11)\tWrite a Python function to calculate the square of a number. "
   ]
  },
  {
   "cell_type": "code",
   "execution_count": 39,
   "id": "a41b8c0d-d9c0-4ef4-beb6-f27d0a222e5b",
   "metadata": {},
   "outputs": [],
   "source": [
    "def square(a):\n",
    "    return a*a  "
   ]
  },
  {
   "cell_type": "code",
   "execution_count": 40,
   "id": "8a1d4870-b8e1-4fe6-bf71-087913533150",
   "metadata": {},
   "outputs": [
    {
     "data": {
      "text/plain": [
       "3364"
      ]
     },
     "execution_count": 40,
     "metadata": {},
     "output_type": "execute_result"
    }
   ],
   "source": [
    "square(58)"
   ]
  },
  {
   "cell_type": "markdown",
   "id": "0774d969-274b-42d9-a687-2300ef8bc2c7",
   "metadata": {},
   "source": [
    "## 12)\tWrite a function to filter only integer-type data from a given list using: \n",
    "## a)\tA simple function \n",
    "## b)\t args *args*  args "
   ]
  },
  {
   "cell_type": "code",
   "execution_count": 57,
   "id": "7dd46d03-46b7-4ee7-9019-7d24f107d98a",
   "metadata": {},
   "outputs": [],
   "source": [
    "# a) Simple function\n",
    "def filter(x):\n",
    "        if type(x) == int:\n",
    "            return x\n",
    "        else:\n",
    "            print(\"No integer value present\")\n",
    "   "
   ]
  },
  {
   "cell_type": "code",
   "execution_count": 59,
   "id": "ab4f786e-fd2b-4fa9-bd6c-b3fd61adc200",
   "metadata": {},
   "outputs": [
    {
     "data": {
      "text/plain": [
       "10"
      ]
     },
     "execution_count": 59,
     "metadata": {},
     "output_type": "execute_result"
    }
   ],
   "source": [
    "filter(10)"
   ]
  },
  {
   "cell_type": "code",
   "execution_count": 60,
   "id": "e171c4e6-cf26-4973-82e7-841e147443d1",
   "metadata": {},
   "outputs": [
    {
     "name": "stdout",
     "output_type": "stream",
     "text": [
      "No integer value present\n"
     ]
    }
   ],
   "source": [
    "filter('chikoo')"
   ]
  },
  {
   "cell_type": "code",
   "execution_count": 62,
   "id": "6e7ab494-cdee-437e-be84-0dc82c0efed6",
   "metadata": {},
   "outputs": [],
   "source": [
    "# b) args\n",
    "def string_filter(*args):\n",
    "    l = []\n",
    "    for i in args:\n",
    "        if type(i) == int: #Checks type of element if it is string adds in l empty list.\n",
    "            l.append(i)\n",
    "    return l\n",
    "\n"
   ]
  },
  {
   "cell_type": "code",
   "execution_count": 63,
   "id": "f2f3f7e1-2f27-450a-becf-0985048ed42e",
   "metadata": {},
   "outputs": [
    {
     "data": {
      "text/plain": [
       "[4, 2, 45, 7, 8, 78, 345, 23]"
      ]
     },
     "execution_count": 63,
     "metadata": {},
     "output_type": "execute_result"
    }
   ],
   "source": [
    "string_filter(4,2,45,7,8,'cherry','chikoo','ruhi',78,345,23)"
   ]
  }
 ],
 "metadata": {
  "kernelspec": {
   "display_name": "Python 3 (ipykernel)",
   "language": "python",
   "name": "python3"
  },
  "language_info": {
   "codemirror_mode": {
    "name": "ipython",
    "version": 3
   },
   "file_extension": ".py",
   "mimetype": "text/x-python",
   "name": "python",
   "nbconvert_exporter": "python",
   "pygments_lexer": "ipython3",
   "version": "3.12.4"
  }
 },
 "nbformat": 4,
 "nbformat_minor": 5
}
