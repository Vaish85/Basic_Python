{
 "cells": [
  {
   "cell_type": "raw",
   "id": "cbe4ec33-2b62-4281-8e8a-30f5da27657f",
   "metadata": {},
   "source": [
    "1.\tDifference Between print and return \n",
    "\n",
    "•\tQ1: Write a function sum_numbers(a, b) that takes two numbers as input and does the following: \n",
    "o\tPrints the sum of the numbers.\n",
    "o \tReturns the sum of the numbers. \n",
    "o \tCall the function and explain the difference between the print and return values. \n"
   ]
  },
  {
   "cell_type": "code",
   "execution_count": 6,
   "id": "30dab2d5-e6cc-4de4-84e3-97a9ae609ab3",
   "metadata": {},
   "outputs": [],
   "source": [
    "def sum_numbers(a,b):\n",
    "    result = a + b\n",
    "    print(result)\n",
    "    return result  #Returns the sum to be used later"
   ]
  },
  {
   "cell_type": "code",
   "execution_count": 7,
   "id": "7a9002b6-83b8-4b5e-81a5-c01027753f28",
   "metadata": {},
   "outputs": [
    {
     "name": "stdout",
     "output_type": "stream",
     "text": [
      "21\n"
     ]
    },
    {
     "data": {
      "text/plain": [
       "21"
      ]
     },
     "execution_count": 7,
     "metadata": {},
     "output_type": "execute_result"
    }
   ],
   "source": [
    "sum_numbers(12,9)  # Printed sum of 2 no."
   ]
  },
  {
   "cell_type": "raw",
   "id": "0ae07e7e-dab4-4050-9938-ca4cdac58697",
   "metadata": {},
   "source": [
    "2.\tLocal and Global Variables \n",
    "\n",
    "•\tQ2: Write a program where: \n",
    "o\tYou define a global variable counter with an initial value of 0. \n",
    "o\tCreate a function increment() that increments counter by 1 each time it is called and prints its value. \n",
    "o\tCall the function three times and observe the output\n"
   ]
  },
  {
   "cell_type": "code",
   "execution_count": 17,
   "id": "621b4ccf-360a-4357-af8a-736d181a1149",
   "metadata": {},
   "outputs": [],
   "source": [
    "counter = 0         # Global variable \n",
    "def increment():\n",
    "    global counter  # Declare that we want to use the global 'counter' variable\n",
    "    counter += 1\n",
    "    print(\"Counter:\", counter)"
   ]
  },
  {
   "cell_type": "code",
   "execution_count": 18,
   "id": "4408b870-35f7-4643-bc74-0a5f55f59920",
   "metadata": {},
   "outputs": [
    {
     "name": "stdout",
     "output_type": "stream",
     "text": [
      "Counter: 1\n"
     ]
    }
   ],
   "source": [
    "increment()"
   ]
  },
  {
   "cell_type": "code",
   "execution_count": 19,
   "id": "177b0ffa-7beb-45e4-91a1-11c6e579582a",
   "metadata": {},
   "outputs": [
    {
     "name": "stdout",
     "output_type": "stream",
     "text": [
      "Counter: 2\n"
     ]
    }
   ],
   "source": [
    "increment()"
   ]
  },
  {
   "cell_type": "code",
   "execution_count": 20,
   "id": "5df43451-428f-4f25-8159-4ade3df1c06e",
   "metadata": {},
   "outputs": [
    {
     "name": "stdout",
     "output_type": "stream",
     "text": [
      "Counter: 3\n"
     ]
    }
   ],
   "source": [
    "increment()"
   ]
  },
  {
   "cell_type": "code",
   "execution_count": null,
   "id": "fae5d5b8-3260-4d6f-8491-a66bd2fb7416",
   "metadata": {},
   "outputs": [],
   "source": [
    "•\tQ3: Write a function demo_local() that declares a local variable\n",
    "message = \"Hello, Local\" and prints it. \n",
    "Outside the function, try to print the same message variable and note the error. "
   ]
  },
  {
   "cell_type": "code",
   "execution_count": 30,
   "id": "502374de-d78c-4964-bdfe-e75bc5afc253",
   "metadata": {},
   "outputs": [
    {
     "ename": "NameError",
     "evalue": "name 'message' is not defined",
     "output_type": "error",
     "traceback": [
      "\u001b[1;31m---------------------------------------------------------------------------\u001b[0m",
      "\u001b[1;31mNameError\u001b[0m                                 Traceback (most recent call last)",
      "Cell \u001b[1;32mIn[30], line 5\u001b[0m\n\u001b[0;32m      3\u001b[0m     \u001b[38;5;28mprint\u001b[39m(\u001b[38;5;124m\"\u001b[39m\u001b[38;5;124mInside function:\u001b[39m\u001b[38;5;124m\"\u001b[39m, message)\n\u001b[0;32m      4\u001b[0m demo_local\n\u001b[1;32m----> 5\u001b[0m \u001b[38;5;28mprint\u001b[39m(\u001b[38;5;124m\"\u001b[39m\u001b[38;5;124mOutside function:\u001b[39m\u001b[38;5;124m\"\u001b[39m,message)\n",
      "\u001b[1;31mNameError\u001b[0m: name 'message' is not defined"
     ]
    }
   ],
   "source": [
    "def demo_local():\n",
    "    message = \"Hello,Local\"\n",
    "    print(\"Inside function:\", message) #Prints msg\n",
    "demo_local\n",
    "print(\"Outside function:\",message)   # Gives error bcz we declared message variable as local so it only get printed inside\n",
    "                                     # function not outside"
   ]
  },
  {
   "cell_type": "raw",
   "id": "0ec6b467-9597-4157-8420-6e4fa8529592",
   "metadata": {},
   "source": [
    "•\tQ4: Modify demo_local() from the previous question to access a global variable message = \"Hello, Global\" from within the function. "
   ]
  },
  {
   "cell_type": "code",
   "execution_count": 32,
   "id": "68881cb4-60d4-4e8d-94ec-037f682f41b2",
   "metadata": {},
   "outputs": [
    {
     "name": "stdout",
     "output_type": "stream",
     "text": [
      "Inside function: Hello, Global\n",
      "Outside function: Hello, Global\n"
     ]
    }
   ],
   "source": [
    "message = \"Hello, Global\"\n",
    "\n",
    "def demo_local():\n",
    "    print(\"Inside function:\", message)  # Accessing the global variable\n",
    "\n",
    "# Call the function\n",
    "demo_local()\n",
    "\n",
    "# Accessing the same global variable outside the function\n",
    "print(\"Outside function:\", message)"
   ]
  },
  {
   "cell_type": "raw",
   "id": "6d2fe5b2-093e-4307-af0e-02cd4ef80095",
   "metadata": {},
   "source": [
    "3.\tWriting Docstrings \n",
    "\n",
    "•\tQ5: Write a function greet(name) that takes a name as input and returns a greeting message like \"Hello, John!\". \n",
    "o\tAdd a proper docstring describing the purpose of the function, its input parameter, and its return value. \n",
    "o\tUse help() to display the docstring. \n"
   ]
  },
  {
   "cell_type": "code",
   "execution_count": 40,
   "id": "da0e62ee-51ad-4e2c-a593-ea13173fda7f",
   "metadata": {},
   "outputs": [],
   "source": [
    "def greet(name):\n",
    "    \"\"\"\n",
    "    Takes a name and returns a greeting message.     # We used help() to read the function’s explanation (docstring)\n",
    "\n",
    "    Parameter:\n",
    "    name (str): The person's name.\n",
    "\n",
    "    Returns:\n",
    "    str: A greeting message.\n",
    "    \"\"\"\n",
    "    return \"Hello, \" + name + \"!\"\n"
   ]
  },
  {
   "cell_type": "code",
   "execution_count": 43,
   "id": "880f5695-95e2-4df9-9506-a613e2b7a7a3",
   "metadata": {},
   "outputs": [
    {
     "name": "stdout",
     "output_type": "stream",
     "text": [
      "Help on function greet in module __main__:\n",
      "\n",
      "greet(name)\n",
      "    Takes a name and returns a greeting message.\n",
      "\n",
      "    Parameter:\n",
      "    name (str): The person's name.\n",
      "\n",
      "    Returns:\n",
      "    str: A greeting message.\n",
      "\n"
     ]
    }
   ],
   "source": [
    "help(greet)        "
   ]
  },
  {
   "cell_type": "raw",
   "id": "7dbbfb96-93a5-4309-a32e-43fa606d311a",
   "metadata": {},
   "source": [
    "•\tQ6: Write a function calculate_area(radius) to compute the area of a circle given its radius. \r\n",
    "o\tAdd a docstring explaining the formula used for calculation and the purpose of the function\r\n"
   ]
  },
  {
   "cell_type": "code",
   "execution_count": 44,
   "id": "c4d4e765-0982-4a64-bb14-1aaf98f276b7",
   "metadata": {},
   "outputs": [],
   "source": [
    "def calculate_area(radius):\n",
    "    \"\"\"\n",
    "    Calculates the area of a circle using the formula: area = π × radius²\n",
    "\n",
    "    Parameter:\n",
    "    radius (float): The radius of the circle.\n",
    "\n",
    "    Returns:\n",
    "    float: The area of the circle.\n",
    "    \"\"\"\n",
    "    pi = 3.14159\n",
    "    return pi * radius * radius"
   ]
  },
  {
   "cell_type": "code",
   "execution_count": 47,
   "id": "dbde1a1c-3b03-44b7-9e6e-b436dba5dbb0",
   "metadata": {},
   "outputs": [
    {
     "data": {
      "text/plain": [
       "373.2523079"
      ]
     },
     "execution_count": 47,
     "metadata": {},
     "output_type": "execute_result"
    }
   ],
   "source": [
    "calculate_area(10.90)"
   ]
  },
  {
   "cell_type": "raw",
   "id": "9c2c9777-450e-49e5-a42e-e17d2dc85a42",
   "metadata": {},
   "source": [
    "4.\tFunctions with Return \n",
    "\n",
    "•\tQ7: Write a function is_even(n) that returns True if a number is even, otherwise returns False. Test the function with multiple inputs. \n"
   ]
  },
  {
   "cell_type": "code",
   "execution_count": 48,
   "id": "d7dfd187-c94d-4e9e-9f51-2f0259c0f659",
   "metadata": {},
   "outputs": [],
   "source": [
    "def is_even(n):\n",
    "    return n % 2 == 0"
   ]
  },
  {
   "cell_type": "code",
   "execution_count": 49,
   "id": "3c1e2246-4b93-4b79-b186-4d3d6b002184",
   "metadata": {},
   "outputs": [
    {
     "data": {
      "text/plain": [
       "False"
      ]
     },
     "execution_count": 49,
     "metadata": {},
     "output_type": "execute_result"
    }
   ],
   "source": [
    "is_even(45)"
   ]
  },
  {
   "cell_type": "code",
   "execution_count": 50,
   "id": "df8d6add-6d0f-4494-8cd2-b8ebd976e651",
   "metadata": {},
   "outputs": [
    {
     "data": {
      "text/plain": [
       "True"
      ]
     },
     "execution_count": 50,
     "metadata": {},
     "output_type": "execute_result"
    }
   ],
   "source": [
    "is_even(98)"
   ]
  },
  {
   "cell_type": "raw",
   "id": "a7011547-ab85-46ad-b9c1-3ec806b7aaae",
   "metadata": {},
   "source": [
    "•\tQ8: Write a function max_of_three(a, b, c) that returns the largest of three numbers. Test it with different sets of numbers. "
   ]
  },
  {
   "cell_type": "code",
   "execution_count": 52,
   "id": "8455ee05-4228-4ef4-84b8-9b83e455d89c",
   "metadata": {},
   "outputs": [],
   "source": [
    "def max_of_three(a, b, c):\n",
    "    return max(a, b, c)"
   ]
  },
  {
   "cell_type": "code",
   "execution_count": 53,
   "id": "86e62ad7-e3d5-4c79-bbdf-96e651bb6873",
   "metadata": {},
   "outputs": [
    {
     "data": {
      "text/plain": [
       "91"
      ]
     },
     "execution_count": 53,
     "metadata": {},
     "output_type": "execute_result"
    }
   ],
   "source": [
    "max_of_three(34,78,91)"
   ]
  },
  {
   "cell_type": "code",
   "execution_count": 54,
   "id": "23c7e1fb-f8de-4462-a8b8-f626f015d991",
   "metadata": {},
   "outputs": [
    {
     "data": {
      "text/plain": [
       "0"
      ]
     },
     "execution_count": 54,
     "metadata": {},
     "output_type": "execute_result"
    }
   ],
   "source": [
    "max_of_three(0,-65,-3)"
   ]
  },
  {
   "cell_type": "code",
   "execution_count": 55,
   "id": "e7a7ff3c-27cc-4b75-9ef6-b60b82f0c7ce",
   "metadata": {},
   "outputs": [
    {
     "data": {
      "text/plain": [
       "-1"
      ]
     },
     "execution_count": 55,
     "metadata": {},
     "output_type": "execute_result"
    }
   ],
   "source": [
    "max_of_three(-4,-2,-1)"
   ]
  },
  {
   "cell_type": "raw",
   "id": "ed76a801-9c55-476b-8812-bbcc3372b49f",
   "metadata": {},
   "source": [
    "•\tQ9: Write a function reverse_string(s) that takes a string and returns its reverse. Use this function to reverse a user-provided string. "
   ]
  },
  {
   "cell_type": "code",
   "execution_count": 56,
   "id": "027fde9d-759a-4638-bc0d-bc2dc0da85c8",
   "metadata": {},
   "outputs": [],
   "source": [
    "def reverse_string(s):\n",
    "    return s[::-1]  # we use Slicing to reverse the string"
   ]
  },
  {
   "cell_type": "code",
   "execution_count": 57,
   "id": "5ce5308e-de44-4035-bb82-d69d9ab7b801",
   "metadata": {},
   "outputs": [
    {
     "data": {
      "text/plain": [
       "'ivanhsiaV'"
      ]
     },
     "execution_count": 57,
     "metadata": {},
     "output_type": "execute_result"
    }
   ],
   "source": [
    "reverse_string('Vaishnavi')"
   ]
  },
  {
   "cell_type": "raw",
   "id": "b3bdedec-efb9-44b8-bfac-6807c19beb44",
   "metadata": {},
   "source": [
    "5.\tFunctions with Parameters \n",
    "\n",
    "•\tQ10: Write a function add_tax(price, tax_rate) that takes a price and tax rate as input and returns the total price including tax. \n",
    "Example: add_tax(100, 0.18) should return 118. \n"
   ]
  },
  {
   "cell_type": "code",
   "execution_count": 14,
   "id": "d3fbd812-0d95-4446-a599-00d16a6eae3d",
   "metadata": {},
   "outputs": [],
   "source": [
    "def add_tax(price, tax_rate):\n",
    "    return price + (price * tax_rate)  # Givevs total prize with tax 100+100*0.18 = 118"
   ]
  },
  {
   "cell_type": "code",
   "execution_count": 16,
   "id": "bb345b8c-b7c8-49cf-8d65-89a23bfe05d2",
   "metadata": {},
   "outputs": [
    {
     "data": {
      "text/plain": [
       "118.0"
      ]
     },
     "execution_count": 16,
     "metadata": {},
     "output_type": "execute_result"
    }
   ],
   "source": [
    "add_tax(100,0.18)"
   ]
  },
  {
   "cell_type": "raw",
   "id": "a5f24f25-d63c-4cfb-b40f-d9579593dd07",
   "metadata": {},
   "source": [
    "•\tQ11: Write a function fahrenheit_to_celsius(f) that converts Fahrenheit to Celsius using the formula: \n",
    "\n",
    "Celsius=(Fahrenheit−32)1.8Celsius = \\frac{(Fahrenheit - 32)}{1.8}Celsius=1.8(Fahrenheit−32) \n"
   ]
  },
  {
   "cell_type": "code",
   "execution_count": 17,
   "id": "4740fe08-2e97-454e-96b6-d473e8b2ff65",
   "metadata": {},
   "outputs": [],
   "source": [
    "def fahrenheit_to_celsius(f):\n",
    "    return (f - 32) / 1.8"
   ]
  },
  {
   "cell_type": "code",
   "execution_count": 18,
   "id": "6b08f6b1-d366-4ac5-b3d5-b5970e21e151",
   "metadata": {},
   "outputs": [
    {
     "data": {
      "text/plain": [
       "13.15"
      ]
     },
     "execution_count": 18,
     "metadata": {},
     "output_type": "execute_result"
    }
   ],
   "source": [
    "fahrenheit_to_celsius(55.67)  # 55.67 F is 13.15 C"
   ]
  }
 ],
 "metadata": {
  "kernelspec": {
   "display_name": "Python 3 (ipykernel)",
   "language": "python",
   "name": "python3"
  },
  "language_info": {
   "codemirror_mode": {
    "name": "ipython",
    "version": 3
   },
   "file_extension": ".py",
   "mimetype": "text/x-python",
   "name": "python",
   "nbconvert_exporter": "python",
   "pygments_lexer": "ipython3",
   "version": "3.12.4"
  }
 },
 "nbformat": 4,
 "nbformat_minor": 5
}
