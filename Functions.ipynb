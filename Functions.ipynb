{
 "cells": [
  {
   "cell_type": "markdown",
   "id": "9a36b802-c736-4688-8c2c-b118ae9eced3",
   "metadata": {},
   "source": [
    "# Functions "
   ]
  },
  {
   "cell_type": "markdown",
   "id": "89a174fc-9f33-486a-b858-862f4e7fa544",
   "metadata": {},
   "source": [
    "### #Functions are nothing but the block of reusable code that performs specific tasks."
   ]
  },
  {
   "cell_type": "markdown",
   "id": "05083dc7-21b9-49cb-8441-a6d2124e718c",
   "metadata": {},
   "source": [
    "### Syntax:-\n",
    "#### def function_name(parameters):\n",
    "   #### #(Function body)\n",
    "   #### return value\n",
    " \n"
   ]
  },
  {
   "cell_type": "markdown",
   "id": "12655da4-cb08-457f-9e1f-73435c473708",
   "metadata": {},
   "source": [
    "## Function Practice"
   ]
  },
  {
   "cell_type": "code",
   "execution_count": 3,
   "id": "b14c774a-bcda-43b0-9303-2843db54726d",
   "metadata": {},
   "outputs": [],
   "source": [
    "def dora():\n",
    "    print('Nobita')"
   ]
  },
  {
   "cell_type": "code",
   "execution_count": 4,
   "id": "7eb8526a-e201-4292-8063-964e9c428b4b",
   "metadata": {},
   "outputs": [
    {
     "name": "stdout",
     "output_type": "stream",
     "text": [
      "Nobita\n"
     ]
    }
   ],
   "source": [
    "dora()\n"
   ]
  },
  {
   "cell_type": "code",
   "execution_count": 5,
   "id": "6d22866d-d093-4844-9e98-e0b103d576b4",
   "metadata": {},
   "outputs": [],
   "source": [
    "def is_me():\n",
    "    print(\"Vaish\")"
   ]
  },
  {
   "cell_type": "code",
   "execution_count": 6,
   "id": "e5d81c7b-4793-4353-89fe-e5079afef006",
   "metadata": {},
   "outputs": [
    {
     "name": "stdout",
     "output_type": "stream",
     "text": [
      "Vaish\n"
     ]
    }
   ],
   "source": [
    "is_me()"
   ]
  },
  {
   "cell_type": "code",
   "execution_count": 11,
   "id": "8b0f6561-ffe1-4be3-bacb-02437e994bec",
   "metadata": {},
   "outputs": [],
   "source": [
    "def code():\n",
    "    print(\"This is my Function😊\")"
   ]
  },
  {
   "cell_type": "code",
   "execution_count": 12,
   "id": "dfc5698c-1f79-42ea-9a63-efeb0bbed51b",
   "metadata": {},
   "outputs": [
    {
     "name": "stdout",
     "output_type": "stream",
     "text": [
      "This is my Function😊\n"
     ]
    }
   ],
   "source": [
    "code()"
   ]
  },
  {
   "cell_type": "code",
   "execution_count": 14,
   "id": "545b59d1-81dd-4003-86c3-f695ee222adf",
   "metadata": {},
   "outputs": [],
   "source": [
    "def greet():\n",
    "    print(\"Hello Bacchooooo, Welcome to Python\")"
   ]
  },
  {
   "cell_type": "code",
   "execution_count": 15,
   "id": "737c9cd4-34e8-45ed-8eb1-c8693402292d",
   "metadata": {},
   "outputs": [
    {
     "name": "stdout",
     "output_type": "stream",
     "text": [
      "Hello Bacchooooo, Welcome to Python\n"
     ]
    }
   ],
   "source": [
    "greet()"
   ]
  },
  {
   "cell_type": "code",
   "execution_count": 21,
   "id": "bd53f5f7-efd4-415a-b25a-f78535254e54",
   "metadata": {},
   "outputs": [],
   "source": [
    "def lines():\n",
    "    print('--------------------------')"
   ]
  },
  {
   "cell_type": "code",
   "execution_count": 22,
   "id": "88b2157f-a2fa-4583-89b5-792082002e7f",
   "metadata": {},
   "outputs": [
    {
     "name": "stdout",
     "output_type": "stream",
     "text": [
      "--------------------------\n"
     ]
    }
   ],
   "source": [
    "lines()"
   ]
  },
  {
   "cell_type": "code",
   "execution_count": 24,
   "id": "0ff2b071-56ca-4651-a904-5064957d991c",
   "metadata": {},
   "outputs": [],
   "source": [
    "def something():\n",
    "    print('😊🤞👌👍😎🤖')"
   ]
  },
  {
   "cell_type": "code",
   "execution_count": 25,
   "id": "f3c1c49c-4da6-497a-8e15-dcb047c21222",
   "metadata": {},
   "outputs": [
    {
     "name": "stdout",
     "output_type": "stream",
     "text": [
      "😊🤞👌👍😎🤖\n"
     ]
    }
   ],
   "source": [
    "something()"
   ]
  },
  {
   "cell_type": "code",
   "execution_count": 26,
   "id": "f36b9586-689d-4690-b861-d528f85affce",
   "metadata": {},
   "outputs": [],
   "source": [
    "def goodbye():\n",
    "    print(\"Bye Guys, See you soon\")"
   ]
  },
  {
   "cell_type": "code",
   "execution_count": 27,
   "id": "1be9edca-a25e-4293-8872-29afc978839e",
   "metadata": {},
   "outputs": [
    {
     "name": "stdout",
     "output_type": "stream",
     "text": [
      "Bye Guys, See you soon\n"
     ]
    }
   ],
   "source": [
    "goodbye()"
   ]
  },
  {
   "cell_type": "markdown",
   "id": "2b43d4ae-7335-44fd-b918-3b4e11ad036e",
   "metadata": {},
   "source": [
    "## Docstring"
   ]
  },
  {
   "cell_type": "markdown",
   "id": "8582757e-eb0d-4166-a334-92173650738c",
   "metadata": {},
   "source": [
    "### #It is a special type of comment in python which tells about the function, what is it about. "
   ]
  },
  {
   "cell_type": "markdown",
   "id": "639dbbba-0d51-4e75-a740-d0f5a166974e",
   "metadata": {},
   "source": [
    "### #It is written in triple quotes (\"\"\" \"\"\"\" or ''' ''')"
   ]
  },
  {
   "cell_type": "code",
   "execution_count": 37,
   "id": "c9d62ac3-0bb2-4667-af7f-296ca2c4b32e",
   "metadata": {},
   "outputs": [
    {
     "name": "stdout",
     "output_type": "stream",
     "text": [
      "This is my test function.\n",
      "    It returns hello\n"
     ]
    }
   ],
   "source": [
    "def test():\n",
    "    \"\"\"This is my test function.\n",
    "    It returns hello\"\"\"\n",
    "    return('hello')\n",
    "\n",
    "print(test.__doc__)       # Shows that is written in docstring"
   ]
  },
  {
   "cell_type": "code",
   "execution_count": 38,
   "id": "e878881c-c6c3-42b5-9170-8e81e5d52814",
   "metadata": {},
   "outputs": [
    {
     "data": {
      "text/plain": [
       "'hello'"
      ]
     },
     "execution_count": 38,
     "metadata": {},
     "output_type": "execute_result"
    }
   ],
   "source": [
    "test()"
   ]
  },
  {
   "cell_type": "markdown",
   "id": "34315660-8100-4eb4-87a8-1b0c722a4fa7",
   "metadata": {},
   "source": [
    "## Functions with parameters"
   ]
  },
  {
   "cell_type": "code",
   "execution_count": 45,
   "id": "e075cb38-dbed-48f1-99ee-2cb21a1dfcd0",
   "metadata": {},
   "outputs": [],
   "source": [
    "def s(x,y):\n",
    "    return x,y"
   ]
  },
  {
   "cell_type": "code",
   "execution_count": 46,
   "id": "ebaa7c96-1a69-4e49-9e43-e1c8198df582",
   "metadata": {},
   "outputs": [
    {
     "data": {
      "text/plain": [
       "(40, 21)"
      ]
     },
     "execution_count": 46,
     "metadata": {},
     "output_type": "execute_result"
    }
   ],
   "source": [
    "s(40,21)"
   ]
  },
  {
   "cell_type": "code",
   "execution_count": 79,
   "id": "8c1597e3-7883-4b65-811d-4f11477a022b",
   "metadata": {},
   "outputs": [],
   "source": [
    "def add(a,b,c,d,e,f):\n",
    "    return a+b+c+d+e+f     #function for addition"
   ]
  },
  {
   "cell_type": "code",
   "execution_count": 81,
   "id": "6271e782-f224-401d-ae3f-b744d7ae230f",
   "metadata": {},
   "outputs": [
    {
     "data": {
      "text/plain": [
       "34"
      ]
     },
     "execution_count": 81,
     "metadata": {},
     "output_type": "execute_result"
    }
   ],
   "source": [
    "add(5,7,3,2,8,9)"
   ]
  },
  {
   "cell_type": "code",
   "execution_count": 51,
   "id": "44ac3405-cc86-4a9e-8432-fd89dd48c83b",
   "metadata": {},
   "outputs": [],
   "source": [
    "def sub(r,s):\n",
    "    return r-s     #function for subtraction"
   ]
  },
  {
   "cell_type": "code",
   "execution_count": 52,
   "id": "06d62d3d-9c79-43ef-b6e3-2b76fa2b22f1",
   "metadata": {},
   "outputs": [
    {
     "data": {
      "text/plain": [
       "-11"
      ]
     },
     "execution_count": 52,
     "metadata": {},
     "output_type": "execute_result"
    }
   ],
   "source": [
    "sub(78,89)"
   ]
  },
  {
   "cell_type": "code",
   "execution_count": 57,
   "id": "37641b3b-a671-4a6f-a816-7ce5a3b898af",
   "metadata": {},
   "outputs": [],
   "source": [
    "def mul(y,z):\n",
    "    return y*z   #function for multiplication"
   ]
  },
  {
   "cell_type": "code",
   "execution_count": 58,
   "id": "468de848-914a-4239-af26-d8b9bf8fa2a6",
   "metadata": {},
   "outputs": [
    {
     "data": {
      "text/plain": [
       "1260"
      ]
     },
     "execution_count": 58,
     "metadata": {},
     "output_type": "execute_result"
    }
   ],
   "source": [
    "mul(60,21)"
   ]
  },
  {
   "cell_type": "code",
   "execution_count": 75,
   "id": "8b53f051-9b96-4444-8904-3c493293dba1",
   "metadata": {},
   "outputs": [],
   "source": [
    "def square(a):\n",
    "    return a*a     #return a**2 we can write like this also."
   ]
  },
  {
   "cell_type": "code",
   "execution_count": 76,
   "id": "6c19a397-c6f8-40d5-99d3-9af72ed4c7b8",
   "metadata": {},
   "outputs": [
    {
     "data": {
      "text/plain": [
       "3136"
      ]
     },
     "execution_count": 76,
     "metadata": {},
     "output_type": "execute_result"
    }
   ],
   "source": [
    "square(56)"
   ]
  },
  {
   "cell_type": "code",
   "execution_count": 77,
   "id": "cc45469e-4fbe-466c-a1bc-36a352e15d24",
   "metadata": {},
   "outputs": [],
   "source": [
    "def cube(v):\n",
    "    return v**3  "
   ]
  },
  {
   "cell_type": "code",
   "execution_count": 78,
   "id": "d94977c9-9dc5-4b84-a3f2-669b7f4798ea",
   "metadata": {},
   "outputs": [
    {
     "data": {
      "text/plain": [
       "729000"
      ]
     },
     "execution_count": 78,
     "metadata": {},
     "output_type": "execute_result"
    }
   ],
   "source": [
    "cube(90)"
   ]
  },
  {
   "cell_type": "markdown",
   "id": "794df15c-4b33-42e3-b13e-0342d08f7182",
   "metadata": {},
   "source": [
    "## Functions with conditions"
   ]
  },
  {
   "cell_type": "code",
   "execution_count": 92,
   "id": "576f1d6b-f4eb-4162-8d07-a0a123e549c0",
   "metadata": {},
   "outputs": [],
   "source": [
    "def even_odd(x):\n",
    "    if x % 2 == 0:\n",
    "        return 'Even number',x\n",
    "    else:\n",
    "        return 'Odd number',x\n",
    "    "
   ]
  },
  {
   "cell_type": "code",
   "execution_count": 93,
   "id": "8d726f1c-f153-4df9-8d66-7021e1d08ed5",
   "metadata": {},
   "outputs": [
    {
     "data": {
      "text/plain": [
       "('Odd number', 67)"
      ]
     },
     "execution_count": 93,
     "metadata": {},
     "output_type": "execute_result"
    }
   ],
   "source": [
    "even_odd(67)"
   ]
  },
  {
   "cell_type": "code",
   "execution_count": 90,
   "id": "ff8324f9-e9f7-4df4-b3f8-920ade6bd169",
   "metadata": {},
   "outputs": [
    {
     "data": {
      "text/plain": [
       "('Even number', 74)"
      ]
     },
     "execution_count": 90,
     "metadata": {},
     "output_type": "execute_result"
    }
   ],
   "source": [
    "even_odd(74)"
   ]
  },
  {
   "cell_type": "code",
   "execution_count": 112,
   "id": "27b4ac30-0aea-4378-8370-dc99b95c4a65",
   "metadata": {},
   "outputs": [],
   "source": [
    "def max(k,l):\n",
    "    if k < l:\n",
    "        return 'max no.',l\n",
    "    else:\n",
    "        return \"Both no. are equal\""
   ]
  },
  {
   "cell_type": "code",
   "execution_count": 113,
   "id": "6dd799ec-c8bd-48dc-8d39-91447d311d40",
   "metadata": {},
   "outputs": [
    {
     "data": {
      "text/plain": [
       "('max no.', 9)"
      ]
     },
     "execution_count": 113,
     "metadata": {},
     "output_type": "execute_result"
    }
   ],
   "source": [
    "min_max(4,9)"
   ]
  },
  {
   "cell_type": "code",
   "execution_count": 114,
   "id": "fb452bf3-aa47-4c07-b35e-14677d25ce5f",
   "metadata": {},
   "outputs": [
    {
     "data": {
      "text/plain": [
       "'Both no. are equal'"
      ]
     },
     "execution_count": 114,
     "metadata": {},
     "output_type": "execute_result"
    }
   ],
   "source": [
    "min_max(78,78)"
   ]
  },
  {
   "cell_type": "markdown",
   "id": "5f42e05c-011d-4562-aded-18c3d4ff5918",
   "metadata": {},
   "source": [
    "### *args "
   ]
  },
  {
   "cell_type": "markdown",
   "id": "4b0eec79-2474-4a83-b51c-f6242552c514",
   "metadata": {},
   "source": [
    "#### It is used to pass n no.of arguments or parameters to the function."
   ]
  },
  {
   "cell_type": "code",
   "execution_count": 117,
   "id": "32bf6c36-8167-4886-ba3f-6394bdd4494b",
   "metadata": {},
   "outputs": [],
   "source": [
    "def vaish(*args):\n",
    "    return args"
   ]
  },
  {
   "cell_type": "code",
   "execution_count": 119,
   "id": "a6084cf5-4272-4836-baab-50eb9d2ff5ff",
   "metadata": {},
   "outputs": [
    {
     "data": {
      "text/plain": [
       "(1, 3.9, 5, 4, 2, True, 6, 8, 7, 9, (5+60j), 0, 223, 65, 'Hello,')"
      ]
     },
     "execution_count": 119,
     "metadata": {},
     "output_type": "execute_result"
    }
   ],
   "source": [
    "vaish(1,3.9,5,4,2,True,6,8,7,9,5+60j,0,223,65,\"Hello,\")"
   ]
  },
  {
   "cell_type": "code",
   "execution_count": 127,
   "id": "e5a3189c-9517-4ccf-b65c-a183b52574ac",
   "metadata": {},
   "outputs": [],
   "source": [
    "def shru(a,*args):\n",
    "    return a, args"
   ]
  },
  {
   "cell_type": "code",
   "execution_count": 129,
   "id": "02ad9ef0-6753-4832-b122-a582667b403c",
   "metadata": {},
   "outputs": [
    {
     "data": {
      "text/plain": [
       "('r', ('y', 't', 'World', 3, 98, 65, 45))"
      ]
     },
     "execution_count": 129,
     "metadata": {},
     "output_type": "execute_result"
    }
   ],
   "source": [
    "shru('r','y','t',\"World\",3,98,65,45)  # It keeps the 1st element separate than others"
   ]
  },
  {
   "cell_type": "markdown",
   "id": "55c3d564-c5bd-407f-b3b2-dde6c42f30cc",
   "metadata": {},
   "source": [
    "### **kwargs"
   ]
  },
  {
   "cell_type": "markdown",
   "id": "880559f9-aa68-494b-8486-33104b2814d6",
   "metadata": {},
   "source": [
    "#### It is used to pass n no. of key-value pairs to the function."
   ]
  },
  {
   "cell_type": "code",
   "execution_count": 147,
   "id": "9606b515-a507-461d-aa07-f085d401bc5a",
   "metadata": {},
   "outputs": [],
   "source": [
    "def moh(**kwargs):\n",
    "    return kwargs"
   ]
  },
  {
   "cell_type": "code",
   "execution_count": 148,
   "id": "6a850d92-2ca6-460f-ad5f-9a19dcdd9a94",
   "metadata": {},
   "outputs": [
    {
     "data": {
      "text/plain": [
       "{'x': 60, 'y': 51, 'z': 26, 'name': 'vaish'}"
      ]
     },
     "execution_count": 148,
     "metadata": {},
     "output_type": "execute_result"
    }
   ],
   "source": [
    "moh(x=60 , y=51 , z=26,name='vaish')"
   ]
  },
  {
   "cell_type": "code",
   "execution_count": 157,
   "id": "ef454e62-9e04-459f-aa42-2b80849ed91d",
   "metadata": {},
   "outputs": [],
   "source": [
    "def moh(**kwargs):\n",
    "    return kwargs.keys()"
   ]
  },
  {
   "cell_type": "code",
   "execution_count": 158,
   "id": "d30e1832-3014-463a-8553-0a8bec588c1c",
   "metadata": {},
   "outputs": [
    {
     "data": {
      "text/plain": [
       "dict_keys(['name', 'hobby', 'school'])"
      ]
     },
     "execution_count": 158,
     "metadata": {},
     "output_type": "execute_result"
    }
   ],
   "source": [
    "moh(name='abc',hobby='dance',school='xyz')"
   ]
  },
  {
   "cell_type": "code",
   "execution_count": 159,
   "id": "d0b929dd-fb63-4ab0-b2fa-b101457f11b4",
   "metadata": {},
   "outputs": [],
   "source": [
    "def moh(**kwargs):\n",
    "    return kwargs.values()"
   ]
  },
  {
   "cell_type": "code",
   "execution_count": 160,
   "id": "d5a73ac0-d620-41d2-a3d3-22abfdf20792",
   "metadata": {},
   "outputs": [
    {
     "data": {
      "text/plain": [
       "dict_values(['abc', 'dance', 'xyz'])"
      ]
     },
     "execution_count": 160,
     "metadata": {},
     "output_type": "execute_result"
    }
   ],
   "source": [
    "moh(name='abc',hobby='dance',school='xyz')"
   ]
  },
  {
   "cell_type": "code",
   "execution_count": 161,
   "id": "61c5a0d6-bde8-4020-9f0e-ea57efdc6958",
   "metadata": {},
   "outputs": [],
   "source": [
    "def fast(*args, **kwargs):\n",
    "    return args, kwargs"
   ]
  },
  {
   "cell_type": "code",
   "execution_count": 162,
   "id": "aac45918-6cda-4e7e-b148-ff2e1ac0686e",
   "metadata": {},
   "outputs": [
    {
     "data": {
      "text/plain": [
       "((3, 5, 3, 5, 44, 63), {'a': 6, 'b': 7, 'd': 5})"
      ]
     },
     "execution_count": 162,
     "metadata": {},
     "output_type": "execute_result"
    }
   ],
   "source": [
    "fast(3,5,3,5,44,63,a = 6, b= 7, d =5)"
   ]
  },
  {
   "cell_type": "code",
   "execution_count": 22,
   "id": "560e009a-5a37-4eb1-9500-63cb3e819cb2",
   "metadata": {},
   "outputs": [],
   "source": [
    "def fast(g,*args, **kwargs):\n",
    "    return g, args, kwargs #Seperates first element."
   ]
  },
  {
   "cell_type": "code",
   "execution_count": 23,
   "id": "5b46637c-ed1f-4074-87db-93e4d6ed80a2",
   "metadata": {},
   "outputs": [
    {
     "data": {
      "text/plain": [
       "(3, (28, 90, 5, 44, 63), {'a': 6, 'b': 7, 'd': 5})"
      ]
     },
     "execution_count": 23,
     "metadata": {},
     "output_type": "execute_result"
    }
   ],
   "source": [
    "fast(3,28,90,5,44,63,a = 6, b= 7, d =5)"
   ]
  },
  {
   "cell_type": "code",
   "execution_count": 25,
   "id": "44238bf9-9577-44bc-9e4f-43d769cd2943",
   "metadata": {},
   "outputs": [],
   "source": [
    "def nir(a,b,c, *args, **kwargs):\n",
    "    return a, b, c, args, kwargs   #Seperates first 3 elements."
   ]
  },
  {
   "cell_type": "code",
   "execution_count": 26,
   "id": "17b66406-948c-4f96-abe6-0d98706eea57",
   "metadata": {},
   "outputs": [
    {
     "data": {
      "text/plain": [
       "(3, 67, 5, (87, 3, 123, 67, 87, 90), {'q': 56, 't': 76, 'y': 90})"
      ]
     },
     "execution_count": 26,
     "metadata": {},
     "output_type": "execute_result"
    }
   ],
   "source": [
    "nir(3,67,5,87,3,123,67,87,90,q=56,t=76,y=90)"
   ]
  },
  {
   "cell_type": "markdown",
   "id": "7fe34c36-1303-4782-b20d-d304c3de59c5",
   "metadata": {},
   "source": [
    "### User Input in function"
   ]
  },
  {
   "cell_type": "code",
   "execution_count": 38,
   "id": "02ebbfd6-f13d-4259-acce-2dd3b1683b3b",
   "metadata": {},
   "outputs": [],
   "source": [
    "def even_odd(*args):\n",
    "    odd = []           # Empty list \n",
    "    even = []\n",
    "    for i in args:\n",
    "        if i % 2 == 0:\n",
    "            even.append(i)    # Adds even elements in even empty list\n",
    "        else:\n",
    "            odd.append(i)    # Adds odd elements in odd empty list\n",
    "    return 'Even no.:', even , 'Odd no.:', odd"
   ]
  },
  {
   "cell_type": "code",
   "execution_count": 39,
   "id": "61ccf99d-c971-4e12-a207-9599b7ff8f0a",
   "metadata": {},
   "outputs": [
    {
     "data": {
      "text/plain": [
       "('Even no.:', [8, 56, 68, 90, 18], 'Odd no.:', [5, 9, 7, 67, 41, 53, 91])"
      ]
     },
     "execution_count": 39,
     "metadata": {},
     "output_type": "execute_result"
    }
   ],
   "source": [
    "even_odd(5,8,9,56,7,67,41,53,91,68,90,18)"
   ]
  },
  {
   "cell_type": "code",
   "execution_count": 43,
   "id": "e7abb5db-758b-46be-a373-e1ac18cb55c7",
   "metadata": {},
   "outputs": [],
   "source": [
    "l=[43,50,9,190.54,'Python', [9+7j,4,52,False]]"
   ]
  },
  {
   "cell_type": "code",
   "execution_count": 45,
   "id": "f55fd0aa-9830-4e85-951a-d1b648ccf858",
   "metadata": {},
   "outputs": [
    {
     "name": "stdout",
     "output_type": "stream",
     "text": [
      "43\n",
      "50\n",
      "9\n",
      "190.54\n",
      "Python\n",
      "[(9+7j), 4, 52, False]\n"
     ]
    }
   ],
   "source": [
    "for i in l:\n",
    "    print(i)"
   ]
  },
  {
   "cell_type": "code",
   "execution_count": 46,
   "id": "5ab984c2-694e-4962-a741-2c4a5368b4c6",
   "metadata": {},
   "outputs": [],
   "source": [
    "l1 = []\n",
    "for i in l:\n",
    "    if type(i) == int:    #Checks the type of element if it is int adds in l1 empty list\n",
    "        l1.append(i)\n",
    "    if type(i) == list:   \n",
    "        for num in i:\n",
    "            if type(num) == int:\n",
    "                l1.append(num)"
   ]
  },
  {
   "cell_type": "code",
   "execution_count": 47,
   "id": "dffcbd20-333c-4455-bc40-a59e95e3c0f3",
   "metadata": {},
   "outputs": [
    {
     "data": {
      "text/plain": [
       "[43, 50, 9, 4, 52]"
      ]
     },
     "execution_count": 47,
     "metadata": {},
     "output_type": "execute_result"
    }
   ],
   "source": [
    "l1"
   ]
  },
  {
   "cell_type": "code",
   "execution_count": 50,
   "id": "51319d41-00e8-47d1-b6bb-7556ea49b432",
   "metadata": {},
   "outputs": [],
   "source": [
    "def string_filter(*args):\n",
    "    l = []\n",
    "    for i in args:\n",
    "        if type(i) == str: #Checks type of element if it is string adds in l empty list.\n",
    "            l.append(i)\n",
    "    return l"
   ]
  },
  {
   "cell_type": "code",
   "execution_count": 53,
   "id": "5bc5d2bf-2343-4f95-ba42-67cf0d6652d6",
   "metadata": {},
   "outputs": [
    {
     "data": {
      "text/plain": [
       "['hello', 'Python', 'World', 'Anaconda']"
      ]
     },
     "execution_count": 53,
     "metadata": {},
     "output_type": "execute_result"
    }
   ],
   "source": [
    "string_filter(4,16,'hello','Python',2,7,'World',9,21.9,'Anaconda')"
   ]
  },
  {
   "cell_type": "code",
   "execution_count": 55,
   "id": "56cdad1d-1bed-4058-8652-aeb8d295b9b4",
   "metadata": {},
   "outputs": [],
   "source": [
    "def char_filter(*args):\n",
    "    l = []\n",
    "    for i in args:\n",
    "        if type(i) == str:   #Checks the type of element if it is str seperates its characters one by one vertically\n",
    "            for char in i:\n",
    "                l.append(char)\n",
    "    return l"
   ]
  },
  {
   "cell_type": "code",
   "execution_count": 56,
   "id": "df90146b-708a-4989-884d-9af1da6bdea3",
   "metadata": {},
   "outputs": [
    {
     "data": {
      "text/plain": [
       "['h',\n",
       " 'e',\n",
       " 'l',\n",
       " 'l',\n",
       " 'o',\n",
       " 'P',\n",
       " 'y',\n",
       " 't',\n",
       " 'h',\n",
       " 'o',\n",
       " 'n',\n",
       " 'W',\n",
       " 'o',\n",
       " 'r',\n",
       " 'l',\n",
       " 'd',\n",
       " 'A',\n",
       " 'n',\n",
       " 'a',\n",
       " 'c',\n",
       " 'o',\n",
       " 'n',\n",
       " 'd',\n",
       " 'a']"
      ]
     },
     "execution_count": 56,
     "metadata": {},
     "output_type": "execute_result"
    }
   ],
   "source": [
    "char_filter(4,16,'hello','Python',2,7,'World',9,21.9,'Anaconda')"
   ]
  },
  {
   "cell_type": "markdown",
   "id": "eb474f8e-c73b-47f6-9ee6-38b30c2bfae9",
   "metadata": {},
   "source": [
    "### Most used Inbuilt Functions in python"
   ]
  },
  {
   "cell_type": "markdown",
   "id": "65df2737-3e5a-4f14-90b0-8e01276b5d2b",
   "metadata": {},
   "source": [
    "#### (capityalize() ,max() , min() , center() , split() , sorted() , abs() , count() , round() , sum())"
   ]
  },
  {
   "cell_type": "code",
   "execution_count": 66,
   "id": "f6d49cde-e320-4824-9107-8d6067f77416",
   "metadata": {},
   "outputs": [],
   "source": [
    "t='vaishnavi'"
   ]
  },
  {
   "cell_type": "code",
   "execution_count": 67,
   "id": "de9b8155-5997-4f0f-a9d9-87c204158d12",
   "metadata": {},
   "outputs": [
    {
     "data": {
      "text/plain": [
       "'Vaishnavi'"
      ]
     },
     "execution_count": 67,
     "metadata": {},
     "output_type": "execute_result"
    }
   ],
   "source": [
    "'vaishnavi'.capitalize()  #Capitalize the first letter of the word"
   ]
  },
  {
   "cell_type": "code",
   "execution_count": 68,
   "id": "5e2dc7c0-ca29-4f5b-a19b-1affaab726af",
   "metadata": {},
   "outputs": [
    {
     "data": {
      "text/plain": [
       "'Vaishnavi'"
      ]
     },
     "execution_count": 68,
     "metadata": {},
     "output_type": "execute_result"
    }
   ],
   "source": [
    "t.capitalize()"
   ]
  },
  {
   "cell_type": "code",
   "execution_count": 69,
   "id": "e9fee717-db7d-4969-80d1-6e3b659f673e",
   "metadata": {},
   "outputs": [],
   "source": [
    "num=(3,65,78,90,123,5,67)"
   ]
  },
  {
   "cell_type": "code",
   "execution_count": 71,
   "id": "eee11b8d-8d1b-4f0b-ba37-b92930fafa05",
   "metadata": {},
   "outputs": [
    {
     "data": {
      "text/plain": [
       "123"
      ]
     },
     "execution_count": 71,
     "metadata": {},
     "output_type": "execute_result"
    }
   ],
   "source": [
    "max(num)     #Prints max no."
   ]
  },
  {
   "cell_type": "code",
   "execution_count": 72,
   "id": "edfc6a7d-ad3e-485a-b161-4e0a5ce68cff",
   "metadata": {},
   "outputs": [
    {
     "data": {
      "text/plain": [
       "3"
      ]
     },
     "execution_count": 72,
     "metadata": {},
     "output_type": "execute_result"
    }
   ],
   "source": [
    "min(num)     #Prints min no."
   ]
  },
  {
   "cell_type": "code",
   "execution_count": 77,
   "id": "35256623-e081-423a-b747-dc219c056b0a",
   "metadata": {},
   "outputs": [
    {
     "data": {
      "text/plain": [
       "2"
      ]
     },
     "execution_count": 77,
     "metadata": {},
     "output_type": "execute_result"
    }
   ],
   "source": [
    "'Hello Python'.count('l')   #Counts l is repeted how many times"
   ]
  },
  {
   "cell_type": "code",
   "execution_count": 79,
   "id": "5535c2c9-659e-4456-a93e-29f08abd1a5c",
   "metadata": {},
   "outputs": [
    {
     "data": {
      "text/plain": [
       "'************Clever************'"
      ]
     },
     "execution_count": 79,
     "metadata": {},
     "output_type": "execute_result"
    }
   ],
   "source": [
    "'Clever'.center(30, '*')  #It keeps the word at center."
   ]
  },
  {
   "cell_type": "code",
   "execution_count": 80,
   "id": "40fb8a1d-3dc7-4dd7-88d5-3f9f5e741488",
   "metadata": {},
   "outputs": [
    {
     "data": {
      "text/plain": [
       "['Hello', 'we', 'are', 'learning', 'python', 'functions']"
      ]
     },
     "execution_count": 80,
     "metadata": {},
     "output_type": "execute_result"
    }
   ],
   "source": [
    "'Hello we are learning python functions'.split(' ')  #Splits the sencence into words"
   ]
  },
  {
   "cell_type": "code",
   "execution_count": 82,
   "id": "f53b356c-a2dd-4f40-8494-99c90a0709e6",
   "metadata": {},
   "outputs": [
    {
     "data": {
      "text/plain": [
       "['10', '02', '2025']"
      ]
     },
     "execution_count": 82,
     "metadata": {},
     "output_type": "execute_result"
    }
   ],
   "source": [
    "'10-02-2025'.split('-')    #Splits the no. from -"
   ]
  },
  {
   "cell_type": "code",
   "execution_count": 92,
   "id": "a77ed2c0-fed0-43e3-ae41-0fc45da17eca",
   "metadata": {},
   "outputs": [],
   "source": [
    "l=[6,8,9,1,3,56,80,96,54,62,0,2]"
   ]
  },
  {
   "cell_type": "code",
   "execution_count": 93,
   "id": "eb0ffafe-1beb-4755-a698-c0f9eccd5e86",
   "metadata": {},
   "outputs": [
    {
     "data": {
      "text/plain": [
       "[0, 1, 2, 3, 6, 8, 9, 54, 56, 62, 80, 96]"
      ]
     },
     "execution_count": 93,
     "metadata": {},
     "output_type": "execute_result"
    }
   ],
   "source": [
    "sorted(l)          #Sorts the no. in ascending order."
   ]
  },
  {
   "cell_type": "code",
   "execution_count": 111,
   "id": "390e8392-4dbb-43a8-bf16-fd55297522d6",
   "metadata": {},
   "outputs": [],
   "source": [
    "c=-67"
   ]
  },
  {
   "cell_type": "code",
   "execution_count": 112,
   "id": "15075bba-c35e-4328-b9f4-3554ecff1e48",
   "metadata": {},
   "outputs": [
    {
     "data": {
      "text/plain": [
       "67"
      ]
     },
     "execution_count": 112,
     "metadata": {},
     "output_type": "execute_result"
    }
   ],
   "source": [
    "abs(c)    #GIves absolute value i.e if (-) gives (+) "
   ]
  },
  {
   "cell_type": "code",
   "execution_count": 114,
   "id": "2b4300f8-0323-4703-9c42-81a7ff173e67",
   "metadata": {},
   "outputs": [
    {
     "data": {
      "text/plain": [
       "55"
      ]
     },
     "execution_count": 114,
     "metadata": {},
     "output_type": "execute_result"
    }
   ],
   "source": [
    "round(54.8923451)     #Roundups the figure"
   ]
  },
  {
   "cell_type": "code",
   "execution_count": 115,
   "id": "30ab8e04-aed6-4b32-9aeb-f4544d671282",
   "metadata": {},
   "outputs": [],
   "source": [
    "num=[3,78,9,1,34,56,92]"
   ]
  },
  {
   "cell_type": "code",
   "execution_count": 117,
   "id": "be6d6c5a-6086-4f8d-8e0b-9d7434cc56cc",
   "metadata": {},
   "outputs": [
    {
     "data": {
      "text/plain": [
       "273"
      ]
     },
     "execution_count": 117,
     "metadata": {},
     "output_type": "execute_result"
    }
   ],
   "source": [
    "sum(num)     #Adds all the numbers "
   ]
  },
  {
   "cell_type": "markdown",
   "id": "266a2dfe-c1dd-483b-a498-745ceb7ecbf8",
   "metadata": {},
   "source": [
    "# Lambda Function"
   ]
  },
  {
   "cell_type": "markdown",
   "id": "4b6464ab-ac34-420a-913c-212184132075",
   "metadata": {},
   "source": [
    "#### It is an anonymous & small one line function defined in python|."
   ]
  },
  {
   "cell_type": "markdown",
   "id": "75c03bdc-a442-4aa5-a7d7-86a102ac1231",
   "metadata": {},
   "source": [
    "#### syntax :- lambda arguments : expression "
   ]
  },
  {
   "cell_type": "markdown",
   "id": "90ffb097-9c02-4271-ba49-941852344d43",
   "metadata": {},
   "source": [
    "#### It works same as regular function just  written in single line"
   ]
  },
  {
   "cell_type": "code",
   "execution_count": 2,
   "id": "3baebe90-8dd3-4f60-a743-fd04fe29b225",
   "metadata": {},
   "outputs": [],
   "source": [
    "x =lambda a:a+10"
   ]
  },
  {
   "cell_type": "code",
   "execution_count": 3,
   "id": "c127794c-27bf-4800-b58a-e391dd064525",
   "metadata": {},
   "outputs": [
    {
     "data": {
      "text/plain": [
       "20"
      ]
     },
     "execution_count": 3,
     "metadata": {},
     "output_type": "execute_result"
    }
   ],
   "source": [
    "x(10)"
   ]
  },
  {
   "cell_type": "code",
   "execution_count": 8,
   "id": "a4c4ad5e-d02c-4b2d-bddd-d3cbf987eeb5",
   "metadata": {},
   "outputs": [],
   "source": [
    "#Regular Function\n",
    "def square(a):\n",
    "    return a**2   "
   ]
  },
  {
   "cell_type": "code",
   "execution_count": 9,
   "id": "1281ffda-2c6a-4c2b-938c-f0f3c9ed4fca",
   "metadata": {},
   "outputs": [
    {
     "data": {
      "text/plain": [
       "25"
      ]
     },
     "execution_count": 9,
     "metadata": {},
     "output_type": "execute_result"
    }
   ],
   "source": [
    "square(5)"
   ]
  },
  {
   "cell_type": "code",
   "execution_count": 10,
   "id": "610d0bc4-291b-4991-b8aa-451e615fd8de",
   "metadata": {},
   "outputs": [],
   "source": [
    "#Lambda Function\n",
    "square_lambda=lambda x : x**2"
   ]
  },
  {
   "cell_type": "code",
   "execution_count": 11,
   "id": "e801b136-3e33-4888-8cf6-8887f5a473f6",
   "metadata": {},
   "outputs": [
    {
     "data": {
      "text/plain": [
       "25"
      ]
     },
     "execution_count": 11,
     "metadata": {},
     "output_type": "execute_result"
    }
   ],
   "source": [
    "square_lambda(5)"
   ]
  },
  {
   "cell_type": "markdown",
   "id": "15af314e-ef5a-40b2-be96-b5ed90da7c31",
   "metadata": {},
   "source": [
    "#### As lambda functions are written in single line they are memory efficient bcz they required less space."
   ]
  },
  {
   "cell_type": "code",
   "execution_count": 12,
   "id": "c88954e8-634a-4672-9546-788cccfef62d",
   "metadata": {},
   "outputs": [],
   "source": [
    "arithmatic_operations = lambda a, b : (a+b , a-b, a*b, a/b)"
   ]
  },
  {
   "cell_type": "code",
   "execution_count": 13,
   "id": "5e9fc0ce-adcb-4654-8bcd-79b51a6afebf",
   "metadata": {},
   "outputs": [
    {
     "data": {
      "text/plain": [
       "(6, -2, 8, 0.5)"
      ]
     },
     "execution_count": 13,
     "metadata": {},
     "output_type": "execute_result"
    }
   ],
   "source": [
    "arithmatic_operations(2,4)"
   ]
  },
  {
   "cell_type": "markdown",
   "id": "dc5e083c-f807-4e4f-b12d-bc6e6b0a5c72",
   "metadata": {},
   "source": [
    "## List Comprehension"
   ]
  },
  {
   "cell_type": "code",
   "execution_count": 14,
   "id": "0a86f627-b683-41cf-b29a-ee4f4f4d5f37",
   "metadata": {},
   "outputs": [],
   "source": [
    "# Regular\n",
    "l=[2,6,7,3,4,5,78,9,0,1,3,57]"
   ]
  },
  {
   "cell_type": "code",
   "execution_count": 15,
   "id": "292a5365-665e-42c7-be2f-ced42e6e68b3",
   "metadata": {},
   "outputs": [
    {
     "name": "stdout",
     "output_type": "stream",
     "text": [
      "2\n",
      "6\n",
      "7\n",
      "3\n",
      "4\n",
      "5\n",
      "78\n",
      "9\n",
      "0\n",
      "1\n",
      "3\n",
      "57\n"
     ]
    }
   ],
   "source": [
    "for i in l:\n",
    "    print(i)"
   ]
  },
  {
   "cell_type": "code",
   "execution_count": 16,
   "id": "4a6433f8-8563-42d8-b452-de0399360a3c",
   "metadata": {},
   "outputs": [
    {
     "data": {
      "text/plain": [
       "[2, 6, 7, 3, 4, 5, 78, 9, 0, 1, 3, 57]"
      ]
     },
     "execution_count": 16,
     "metadata": {},
     "output_type": "execute_result"
    }
   ],
   "source": [
    "# Lambda\n",
    "[i for i in l]"
   ]
  },
  {
   "cell_type": "code",
   "execution_count": 17,
   "id": "030a2fa0-d22f-4d64-b7c8-bfaf73680980",
   "metadata": {},
   "outputs": [
    {
     "data": {
      "text/plain": [
       "[12, 16, 17, 13, 14, 15, 88, 19, 10, 11, 13, 67]"
      ]
     },
     "execution_count": 17,
     "metadata": {},
     "output_type": "execute_result"
    }
   ],
   "source": [
    "[i+10 for i in l]"
   ]
  },
  {
   "cell_type": "code",
   "execution_count": 18,
   "id": "483f0065-3d80-454c-b5bb-01e4e77aceca",
   "metadata": {},
   "outputs": [
    {
     "data": {
      "text/plain": [
       "[1, 2, 3, 4, 5]"
      ]
     },
     "execution_count": 18,
     "metadata": {},
     "output_type": "execute_result"
    }
   ],
   "source": [
    "[i for i in range(1,6)]"
   ]
  },
  {
   "cell_type": "code",
   "execution_count": 19,
   "id": "bad4f46c-3117-498a-995c-bc2a4af5c076",
   "metadata": {},
   "outputs": [
    {
     "data": {
      "text/plain": [
       "[1, 4, 9, 16, 25, 36, 49, 64, 81, 100]"
      ]
     },
     "execution_count": 19,
     "metadata": {},
     "output_type": "execute_result"
    }
   ],
   "source": [
    "[i*i for i in range(1,11)]"
   ]
  },
  {
   "cell_type": "code",
   "execution_count": 21,
   "id": "f8dd3410-5461-457d-b856-78d3daa6ad70",
   "metadata": {},
   "outputs": [
    {
     "data": {
      "text/plain": [
       "[2, 4, 6, 8, 10]"
      ]
     },
     "execution_count": 21,
     "metadata": {},
     "output_type": "execute_result"
    }
   ],
   "source": [
    "[i for i in range(1,11) if i%2 == 0]"
   ]
  },
  {
   "cell_type": "markdown",
   "id": "01f52395-7e4c-446e-9227-8ff792912242",
   "metadata": {},
   "source": [
    "## Dict Comprehension"
   ]
  },
  {
   "cell_type": "code",
   "execution_count": 24,
   "id": "28fb6c54-fc72-4e05-944b-e02f14ac82f9",
   "metadata": {},
   "outputs": [
    {
     "data": {
      "text/plain": [
       "{11: 1, 12: 2, 13: 3, 14: 4, 15: 5, 16: 6, 17: 7, 18: 8}"
      ]
     },
     "execution_count": 24,
     "metadata": {},
     "output_type": "execute_result"
    }
   ],
   "source": [
    "{i+10:i for i in range(1,9)}"
   ]
  },
  {
   "cell_type": "code",
   "execution_count": 27,
   "id": "ff613bfe-5131-4019-8277-d3fb22c74bc6",
   "metadata": {},
   "outputs": [
    {
     "data": {
      "text/plain": [
       "{4: 2, 9: 3, 16: 4, 25: 5, 36: 6, 49: 7, 64: 8, 81: 9, 100: 10, 121: 11}"
      ]
     },
     "execution_count": 27,
     "metadata": {},
     "output_type": "execute_result"
    }
   ],
   "source": [
    "{i*i:i for i in range(2,12)}"
   ]
  },
  {
   "cell_type": "code",
   "execution_count": null,
   "id": "810f1f73-63ff-4fc2-9866-c351562fb447",
   "metadata": {},
   "outputs": [],
   "source": []
  }
 ],
 "metadata": {
  "kernelspec": {
   "display_name": "Python 3 (ipykernel)",
   "language": "python",
   "name": "python3"
  },
  "language_info": {
   "codemirror_mode": {
    "name": "ipython",
    "version": 3
   },
   "file_extension": ".py",
   "mimetype": "text/x-python",
   "name": "python",
   "nbconvert_exporter": "python",
   "pygments_lexer": "ipython3",
   "version": "3.12.4"
  }
 },
 "nbformat": 4,
 "nbformat_minor": 5
}
