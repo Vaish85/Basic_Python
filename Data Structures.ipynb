{
 "cells": [
  {
   "cell_type": "markdown",
   "id": "8b48e4fd-2ad0-4960-966c-3d173e0ecd9b",
   "metadata": {},
   "source": [
    "# Data Structures in Python"
   ]
  },
  {
   "cell_type": "markdown",
   "id": "4792058f-30ac-45ed-a73a-5191fc37bdfc",
   "metadata": {},
   "source": [
    "### Data structures are ways to organize and store data efficiently to perform various operations."
   ]
  },
  {
   "cell_type": "markdown",
   "id": "84d03a2c-1444-48cc-9fe2-d407db1574e4",
   "metadata": {},
   "source": [
    "#### There are 4 main data structures in python"
   ]
  },
  {
   "cell_type": "markdown",
   "id": "671e5b8f-d629-469a-a237-567256c05ec4",
   "metadata": {},
   "source": [
    "#### (List , Tuple , Dictionary , Set )"
   ]
  },
  {
   "cell_type": "markdown",
   "id": "6b5d390b-3f18-4b45-aaf3-a7eb0b084b48",
   "metadata": {},
   "source": [
    "## 1) List"
   ]
  },
  {
   "cell_type": "markdown",
   "id": "fe43bb4b-68bf-4cf6-af61-cfabd13ca72c",
   "metadata": {},
   "source": [
    "#### It is an Ordered , Mutable (Changable) collection of data.\n",
    "#### Store elements of different data types.\n",
    "#### Elements are enclosed in [ ] bracket.\n",
    "#### Allows duplicate values."
   ]
  },
  {
   "cell_type": "code",
   "execution_count": 1,
   "id": "5646cd00-00a1-446c-8f51-66f6741d17f0",
   "metadata": {},
   "outputs": [],
   "source": [
    " list=[1,2,3.5,'cherry','banana',True,10+5j]"
   ]
  },
  {
   "cell_type": "code",
   "execution_count": 2,
   "id": "44397a13-7be6-4b70-9240-338e206381a7",
   "metadata": {},
   "outputs": [
    {
     "data": {
      "text/plain": [
       "[1, 2, 3.5, 'cherry', 'banana', True, (10+5j)]"
      ]
     },
     "execution_count": 2,
     "metadata": {},
     "output_type": "execute_result"
    }
   ],
   "source": [
    "list"
   ]
  },
  {
   "cell_type": "markdown",
   "id": "29b83f10-1467-402a-82e8-f2f45dfd684f",
   "metadata": {},
   "source": [
    "### Operations on List"
   ]
  },
  {
   "cell_type": "markdown",
   "id": "fab8cbcd-3f77-4ecd-999f-d51f38c44137",
   "metadata": {},
   "source": [
    "#### I) append() "
   ]
  },
  {
   "cell_type": "markdown",
   "id": "d02a23ef-a4f7-4607-b984-cf5a3cb39e33",
   "metadata": {},
   "source": [
    "#### Adds  new element at the end of list"
   ]
  },
  {
   "cell_type": "code",
   "execution_count": null,
   "id": "0abc32e1-cb0c-40fb-95da-017a418d504c",
   "metadata": {},
   "outputs": [],
   "source": [
    "list=[1,2,3.5,'cherry','banana',True,10+5j]"
   ]
  },
  {
   "cell_type": "code",
   "execution_count": 3,
   "id": "8f4919b7-04a8-4499-b392-e1314127c7e7",
   "metadata": {},
   "outputs": [],
   "source": [
    "list.append(700)"
   ]
  },
  {
   "cell_type": "code",
   "execution_count": 4,
   "id": "d951d222-d2b2-4986-80fd-2f1e0c0496f8",
   "metadata": {},
   "outputs": [
    {
     "data": {
      "text/plain": [
       "[1, 2, 3.5, 'cherry', 'banana', True, (10+5j), 700]"
      ]
     },
     "execution_count": 4,
     "metadata": {},
     "output_type": "execute_result"
    }
   ],
   "source": [
    "list"
   ]
  },
  {
   "cell_type": "markdown",
   "id": "b66c5811-a356-47cc-ad96-a252e6cfe156",
   "metadata": {},
   "source": [
    "#### II) insert()"
   ]
  },
  {
   "cell_type": "markdown",
   "id": "46f8a83d-84df-40ab-afd2-dd91cf8c776d",
   "metadata": {},
   "source": [
    "#### Inserts an element at specific index"
   ]
  },
  {
   "cell_type": "code",
   "execution_count": 12,
   "id": "e84b0435-5ae5-4080-a14f-660e2114255e",
   "metadata": {},
   "outputs": [],
   "source": [
    "list=[1,2,3.5,'cherry','banana',True,10+5j]"
   ]
  },
  {
   "cell_type": "code",
   "execution_count": 13,
   "id": "d7858feb-aa27-48fb-a8a0-e06d8bf00d33",
   "metadata": {},
   "outputs": [],
   "source": [
    "list.insert(4,'Guava')"
   ]
  },
  {
   "cell_type": "code",
   "execution_count": 14,
   "id": "051d881d-d597-4f97-a2da-260bd93d2a89",
   "metadata": {},
   "outputs": [
    {
     "data": {
      "text/plain": [
       "[1, 2, 3.5, 'cherry', 'Guava', 'banana', True, (10+5j)]"
      ]
     },
     "execution_count": 14,
     "metadata": {},
     "output_type": "execute_result"
    }
   ],
   "source": [
    "list"
   ]
  },
  {
   "cell_type": "markdown",
   "id": "13608f91-240f-49ad-8667-0ee15d882c90",
   "metadata": {},
   "source": [
    "#### III) len()\n"
   ]
  },
  {
   "cell_type": "markdown",
   "id": "93da00fb-58dc-4f17-a177-b32adc656f43",
   "metadata": {},
   "source": [
    "#### Gives length of the list"
   ]
  },
  {
   "cell_type": "code",
   "execution_count": 18,
   "id": "44f7c02e-fe96-410f-a46b-429d66c28914",
   "metadata": {},
   "outputs": [],
   "source": [
    "list=[1,2,3.5,'cherry','banana',True,10+5j]"
   ]
  },
  {
   "cell_type": "code",
   "execution_count": 20,
   "id": "0c3075f2-2143-412b-957d-b0a8de67a2cf",
   "metadata": {},
   "outputs": [
    {
     "data": {
      "text/plain": [
       "7"
      ]
     },
     "execution_count": 20,
     "metadata": {},
     "output_type": "execute_result"
    }
   ],
   "source": [
    "len(list)"
   ]
  },
  {
   "cell_type": "markdown",
   "id": "f717fe28-5d8c-4e3c-b551-32517dccef73",
   "metadata": {},
   "source": [
    "#### IV) remove()"
   ]
  },
  {
   "cell_type": "markdown",
   "id": "118f0492-bf06-43b0-bf86-e749a31d3772",
   "metadata": {},
   "source": [
    "#### Removes specific element from list"
   ]
  },
  {
   "cell_type": "code",
   "execution_count": 21,
   "id": "09c08c52-ab95-4c7c-8d6d-8ecd50092c3c",
   "metadata": {},
   "outputs": [],
   "source": [
    "list=[1,2,3.5,'cherry','banana',True,10+5j]"
   ]
  },
  {
   "cell_type": "code",
   "execution_count": 23,
   "id": "1299b97e-38c5-4662-a307-014b969c9296",
   "metadata": {},
   "outputs": [],
   "source": [
    "list.remove('cherry')"
   ]
  },
  {
   "cell_type": "code",
   "execution_count": 24,
   "id": "c2d68031-56de-4d2b-8447-5b97abf9c6d2",
   "metadata": {},
   "outputs": [
    {
     "data": {
      "text/plain": [
       "[1, 2, 3.5, 'banana', True, (10+5j)]"
      ]
     },
     "execution_count": 24,
     "metadata": {},
     "output_type": "execute_result"
    }
   ],
   "source": [
    "list"
   ]
  },
  {
   "cell_type": "markdown",
   "id": "5450fa63-44d7-4f3b-b278-0ea3212635e5",
   "metadata": {},
   "source": [
    "#### V) Slicing"
   ]
  },
  {
   "cell_type": "markdown",
   "id": "73cffc7e-8b3c-4f6f-8237-299216b05860",
   "metadata": {},
   "source": [
    "#### Access a range of items from list"
   ]
  },
  {
   "cell_type": "code",
   "execution_count": 26,
   "id": "486c9f74-856e-4424-94f5-b66c49b6eb76",
   "metadata": {},
   "outputs": [],
   "source": [
    "list= [1, 2, 3.5, 'cherry', 'Guava', 'banana', True, (10+5j)]"
   ]
  },
  {
   "cell_type": "code",
   "execution_count": 27,
   "id": "5598e2e0-c2cf-4c15-8794-d7639731899b",
   "metadata": {},
   "outputs": [
    {
     "data": {
      "text/plain": [
       "[1, 2, 3.5]"
      ]
     },
     "execution_count": 27,
     "metadata": {},
     "output_type": "execute_result"
    }
   ],
   "source": [
    "list[0:3]"
   ]
  },
  {
   "cell_type": "code",
   "execution_count": 28,
   "id": "04896a76-0a4c-4b65-938e-d831f45398cf",
   "metadata": {},
   "outputs": [
    {
     "data": {
      "text/plain": [
       "[1, 2, 3.5, 'cherry', 'Guava', 'banana', True, (10+5j)]"
      ]
     },
     "execution_count": 28,
     "metadata": {},
     "output_type": "execute_result"
    }
   ],
   "source": [
    "list[ : ]"
   ]
  },
  {
   "cell_type": "code",
   "execution_count": 29,
   "id": "9dfd85df-eea1-49fa-b231-182c6f8ee8f5",
   "metadata": {},
   "outputs": [
    {
     "data": {
      "text/plain": [
       "[1, 'cherry']"
      ]
     },
     "execution_count": 29,
     "metadata": {},
     "output_type": "execute_result"
    }
   ],
   "source": [
    "list[0:6:3]"
   ]
  },
  {
   "cell_type": "code",
   "execution_count": 34,
   "id": "72a5028c-4bba-4d84-bc1b-8d6717df15d7",
   "metadata": {},
   "outputs": [
    {
     "data": {
      "text/plain": [
       "[1, 'Guava']"
      ]
     },
     "execution_count": 34,
     "metadata": {},
     "output_type": "execute_result"
    }
   ],
   "source": [
    "list[ :6 : 4] # Start point : End point : Jump Point"
   ]
  },
  {
   "cell_type": "markdown",
   "id": "ed7cb6be-7cd6-486d-bdba-58a5f44e109d",
   "metadata": {},
   "source": [
    "# 2) Tuple"
   ]
  },
  {
   "cell_type": "markdown",
   "id": "4bc824f3-0c4f-4f18-a388-979b1864e019",
   "metadata": {},
   "source": [
    "#### It is an Ordered, Immutable (Unchangeble) collection of data\n",
    "#### Store elements of different data types.\n",
    "#### Elements are enclosed in ( ) bracket.\n",
    "#### Allows duplicate values."
   ]
  },
  {
   "cell_type": "code",
   "execution_count": 35,
   "id": "e0956470-60de-4df7-89f1-554bf7e97207",
   "metadata": {},
   "outputs": [],
   "source": [
    "tuple=(30,6.8,'AI','ML',3+90j,False)\n"
   ]
  },
  {
   "cell_type": "code",
   "execution_count": 36,
   "id": "1300448e-67ef-4ce2-8d70-e48650a14001",
   "metadata": {},
   "outputs": [
    {
     "data": {
      "text/plain": [
       "(30, 6.8, 'AI', 'ML', (3+90j), False)"
      ]
     },
     "execution_count": 36,
     "metadata": {},
     "output_type": "execute_result"
    }
   ],
   "source": [
    "tuple"
   ]
  },
  {
   "cell_type": "markdown",
   "id": "8d9fd8c6-33e7-4210-8761-9d686906dc7e",
   "metadata": {},
   "source": [
    "### Operations"
   ]
  },
  {
   "cell_type": "markdown",
   "id": "a48f2ac3-cfce-4aca-b85e-921e50be8acc",
   "metadata": {},
   "source": [
    "#### I) Count"
   ]
  },
  {
   "cell_type": "code",
   "execution_count": 2,
   "id": "64d7dd23-d40d-4f32-872d-b8205cddaec2",
   "metadata": {},
   "outputs": [],
   "source": [
    "tuple=(30, 6.8,'AI','ML',3+90j,False,'AI',6.8,30,False)"
   ]
  },
  {
   "cell_type": "code",
   "execution_count": 3,
   "id": "ac132139-6b5a-4a4a-b727-7f089490bf0d",
   "metadata": {},
   "outputs": [
    {
     "data": {
      "text/plain": [
       "2"
      ]
     },
     "execution_count": 3,
     "metadata": {},
     "output_type": "execute_result"
    }
   ],
   "source": [
    "tuple.count(False) #Counts how many times that element is occured in tuple"
   ]
  },
  {
   "cell_type": "markdown",
   "id": "b252b72a-20ee-409a-9605-5296157f3a6a",
   "metadata": {},
   "source": [
    "#### II) Index"
   ]
  },
  {
   "cell_type": "code",
   "execution_count": null,
   "id": "47ae9ce9-551a-4279-ba71-6e7338de4ec3",
   "metadata": {},
   "outputs": [],
   "source": [
    "tuple=(30, 6.8,'AI','ML',3+90j,False,'AI',6.8,30)"
   ]
  },
  {
   "cell_type": "code",
   "execution_count": 74,
   "id": "b64eea85-335c-470f-9fe4-4906085c880b",
   "metadata": {},
   "outputs": [
    {
     "data": {
      "text/plain": [
       "1"
      ]
     },
     "execution_count": 74,
     "metadata": {},
     "output_type": "execute_result"
    }
   ],
   "source": [
    "tuple.index(6.8) #Gives index no. of first occure element"
   ]
  },
  {
   "cell_type": "markdown",
   "id": "c0a891c3-11d6-477e-af9d-65aa910dfa81",
   "metadata": {},
   "source": [
    "# 3) Dictionary"
   ]
  },
  {
   "cell_type": "markdown",
   "id": "e4eefa30-10ce-4fc9-aa3e-d0a43434b9de",
   "metadata": {},
   "source": [
    "#### It is an Unordered, Mutable (Changeble) collection of data in Key-Value pairs. Key is immutable , values are mutable.\n",
    "#### Each Key is unique and value is the data associated with it.\n",
    "#### Enclosed in { } braces.\n",
    "#### Allows duplicate elements in value not in key"
   ]
  },
  {
   "cell_type": "code",
   "execution_count": 80,
   "id": "266b6627-6eb6-44c8-840e-f37ac0e7b648",
   "metadata": {},
   "outputs": [],
   "source": [
    "dict = {'A':10, 'B':20, 'C':30}"
   ]
  },
  {
   "cell_type": "code",
   "execution_count": 81,
   "id": "ca62d3a5-73eb-459a-ba37-62d6f9d8b639",
   "metadata": {},
   "outputs": [
    {
     "data": {
      "text/plain": [
       "{'A': 10, 'B': 20, 'C': 30}"
      ]
     },
     "execution_count": 81,
     "metadata": {},
     "output_type": "execute_result"
    }
   ],
   "source": [
    "dict"
   ]
  },
  {
   "cell_type": "code",
   "execution_count": 83,
   "id": "96537119-3141-404a-9bd7-060f417d276c",
   "metadata": {},
   "outputs": [
    {
     "data": {
      "text/plain": [
       "dict_values([10, 20, 30])"
      ]
     },
     "execution_count": 83,
     "metadata": {},
     "output_type": "execute_result"
    }
   ],
   "source": [
    "dict.values() #Gives all values in dict"
   ]
  },
  {
   "cell_type": "code",
   "execution_count": 84,
   "id": "0608b00e-0f76-443b-9dd8-6cb3a0967c3d",
   "metadata": {},
   "outputs": [
    {
     "data": {
      "text/plain": [
       "dict_keys(['A', 'B', 'C'])"
      ]
     },
     "execution_count": 84,
     "metadata": {},
     "output_type": "execute_result"
    }
   ],
   "source": [
    "dict.keys() #Gives all keys in dict"
   ]
  },
  {
   "cell_type": "code",
   "execution_count": 85,
   "id": "52abde66-d54c-4efb-a375-72810da384f1",
   "metadata": {},
   "outputs": [
    {
     "data": {
      "text/plain": [
       "10"
      ]
     },
     "execution_count": 85,
     "metadata": {},
     "output_type": "execute_result"
    }
   ],
   "source": [
    "dict['A'] #Gives value of key A"
   ]
  },
  {
   "cell_type": "code",
   "execution_count": 88,
   "id": "e57648b4-50c7-41ce-bbd5-b4de2ce5434e",
   "metadata": {},
   "outputs": [],
   "source": [
    "dict['E'] = 40 #Adds new key-value in dict"
   ]
  },
  {
   "cell_type": "code",
   "execution_count": 89,
   "id": "b8b179d3-cd14-4612-bb22-f4e9b2fe3289",
   "metadata": {},
   "outputs": [
    {
     "data": {
      "text/plain": [
       "{'A': 10, 'B': 20, 'C': 30, 'E': 40}"
      ]
     },
     "execution_count": 89,
     "metadata": {},
     "output_type": "execute_result"
    }
   ],
   "source": [
    "dict"
   ]
  },
  {
   "cell_type": "code",
   "execution_count": 91,
   "id": "22b1b72d-ee0b-4ad5-b1c7-6b792e6efed0",
   "metadata": {},
   "outputs": [],
   "source": [
    "dict['E'] = 1000 #Changes value of key E"
   ]
  },
  {
   "cell_type": "code",
   "execution_count": 92,
   "id": "39387b48-1b89-4e91-a586-d3923d432e32",
   "metadata": {},
   "outputs": [
    {
     "data": {
      "text/plain": [
       "{'A': 10, 'B': 20, 'C': 30, 'E': 1000}"
      ]
     },
     "execution_count": 92,
     "metadata": {},
     "output_type": "execute_result"
    }
   ],
   "source": [
    "dict"
   ]
  },
  {
   "cell_type": "markdown",
   "id": "be26727b-7502-4ba6-9758-dcd102a1b0c8",
   "metadata": {},
   "source": [
    "# 4) Set"
   ]
  },
  {
   "cell_type": "markdown",
   "id": "5878b943-dce4-4ccb-ac5f-93cf5d42e548",
   "metadata": {},
   "source": [
    "#### It is an Unordered, Mutable (changeble) collection of data\n",
    "#### Store elements of different data types.\n",
    "#### Elements are enclosed in { } bracket.\n",
    "#### Never allow duplicate values."
   ]
  },
  {
   "cell_type": "markdown",
   "id": "32610bbf-55f6-4a5b-93e8-b28c2c0384a5",
   "metadata": {},
   "source": [
    "### Operations"
   ]
  },
  {
   "cell_type": "markdown",
   "id": "1deee563-28dd-45c4-90b8-8dd628cd234f",
   "metadata": {},
   "source": [
    "#### I) Union"
   ]
  },
  {
   "cell_type": "code",
   "execution_count": 93,
   "id": "fbe7821f-f605-425e-be03-1cee54048baf",
   "metadata": {},
   "outputs": [],
   "source": [
    "set1={1,2,3,4,5,6}\n"
   ]
  },
  {
   "cell_type": "code",
   "execution_count": 94,
   "id": "a11dd8dd-a258-4388-8c8b-24e63cd28eb6",
   "metadata": {},
   "outputs": [],
   "source": [
    "set2={3,4,6,8,7}"
   ]
  },
  {
   "cell_type": "code",
   "execution_count": 98,
   "id": "051e27b4-0170-46b2-99d8-fb8aaa80e688",
   "metadata": {},
   "outputs": [
    {
     "data": {
      "text/plain": [
       "{1, 2, 3, 4, 5, 6, 7, 8}"
      ]
     },
     "execution_count": 98,
     "metadata": {},
     "output_type": "execute_result"
    }
   ],
   "source": [
    "set1.union(set2) #Combines elements of both sets"
   ]
  },
  {
   "cell_type": "markdown",
   "id": "0ca73cc4-5536-4955-8f10-9928ffbb72de",
   "metadata": {},
   "source": [
    "#### II) Intersection"
   ]
  },
  {
   "cell_type": "code",
   "execution_count": 5,
   "id": "b6d73f94-a201-4b55-aa18-5ee482d541e7",
   "metadata": {},
   "outputs": [],
   "source": [
    "set1={1,2,3,4,5,6}\n",
    "set2={3,4,6,8,7}\n"
   ]
  },
  {
   "cell_type": "code",
   "execution_count": 6,
   "id": "9ce824dc-bb26-4916-a4df-060648c2e819",
   "metadata": {},
   "outputs": [
    {
     "data": {
      "text/plain": [
       "{3, 4, 6}"
      ]
     },
     "execution_count": 6,
     "metadata": {},
     "output_type": "execute_result"
    }
   ],
   "source": [
    "set1.intersection(set2) #Gives common elements between 2 sets"
   ]
  },
  {
   "cell_type": "markdown",
   "id": "8e062bc0-4ed9-40ae-a8c3-1352a7004e8a",
   "metadata": {},
   "source": [
    "#### III) Difference"
   ]
  },
  {
   "cell_type": "code",
   "execution_count": 102,
   "id": "5e93092e-50a8-43f1-8287-759cce19af62",
   "metadata": {},
   "outputs": [],
   "source": [
    "set1={1,2,3,4,5,6}\n",
    "set2={3,4,6,8,7}\n"
   ]
  },
  {
   "cell_type": "code",
   "execution_count": 104,
   "id": "a3c8e497-3df7-41f2-8226-3459c13355d2",
   "metadata": {},
   "outputs": [
    {
     "data": {
      "text/plain": [
       "{1, 2, 5}"
      ]
     },
     "execution_count": 104,
     "metadata": {},
     "output_type": "execute_result"
    }
   ],
   "source": [
    "set1.difference(set2) #Gives elements present in 1 set but not in 2"
   ]
  }
 ],
 "metadata": {
  "kernelspec": {
   "display_name": "Python 3 (ipykernel)",
   "language": "python",
   "name": "python3"
  },
  "language_info": {
   "codemirror_mode": {
    "name": "ipython",
    "version": 3
   },
   "file_extension": ".py",
   "mimetype": "text/x-python",
   "name": "python",
   "nbconvert_exporter": "python",
   "pygments_lexer": "ipython3",
   "version": "3.12.4"
  }
 },
 "nbformat": 4,
 "nbformat_minor": 5
}
