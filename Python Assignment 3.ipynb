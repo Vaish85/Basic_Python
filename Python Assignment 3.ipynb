{
 "cells": [
  {
   "cell_type": "code",
   "execution_count": null,
   "id": "d2fdef72-4bc7-49c3-801a-6d502106ed8a",
   "metadata": {},
   "outputs": [],
   "source": [
    "1)\tHow would you convert one data type to another in Python? For example, an integer to a string. "
   ]
  },
  {
   "cell_type": "code",
   "execution_count": 19,
   "id": "8ce2b7ac-02dc-4fe0-bb57-e8ef92375269",
   "metadata": {},
   "outputs": [],
   "source": [
    "# To convert one data type to another in Python, we use something called \"type casting.\" "
   ]
  },
  {
   "cell_type": "code",
   "execution_count": 20,
   "id": "5b9f8948-b09d-4100-8a2f-1b5857544b03",
   "metadata": {},
   "outputs": [
    {
     "name": "stdout",
     "output_type": "stream",
     "text": [
      "5\n",
      "<class 'str'>\n"
     ]
    }
   ],
   "source": [
    "num = 5 \n",
    "num_as_string = str(num) # Converts 5 to \"5\" \n",
    "print(num_as_string)\n",
    "print(type(num_as_string))"
   ]
  },
  {
   "cell_type": "code",
   "execution_count": null,
   "id": "9ac5bcc1-ac40-416a-a99b-2ae88277c170",
   "metadata": {},
   "outputs": [],
   "source": [
    "2)\tWhat is the difference between == and = in Python? "
   ]
  },
  {
   "cell_type": "code",
   "execution_count": 21,
   "id": "14efa805-a598-4a3a-ba08-88935857b70d",
   "metadata": {},
   "outputs": [],
   "source": [
    "a = 30 # Assigns 30 to a "
   ]
  },
  {
   "cell_type": "code",
   "execution_count": 22,
   "id": "e44bf988-cf4c-4539-8106-01a24c590d6a",
   "metadata": {},
   "outputs": [
    {
     "name": "stdout",
     "output_type": "stream",
     "text": [
      "Equal!\n"
     ]
    }
   ],
   "source": [
    "if a == 30:  # Checks if a is equal to 30 or not. It is a relational operator \n",
    "    print(\"Equal!\") "
   ]
  },
  {
   "cell_type": "code",
   "execution_count": null,
   "id": "18efbdca-a938-4859-936b-7fba86d8dcab",
   "metadata": {},
   "outputs": [],
   "source": [
    " 3)  How does the modulus operator (%) work in Python? "
   ]
  },
  {
   "cell_type": "code",
   "execution_count": 23,
   "id": "7782d9f8-a165-45f0-a672-464ecc014506",
   "metadata": {},
   "outputs": [
    {
     "data": {
      "text/plain": [
       "2"
      ]
     },
     "execution_count": 23,
     "metadata": {},
     "output_type": "execute_result"
    }
   ],
   "source": [
    "20 % 3  # It gives the remainder"
   ]
  },
  {
   "cell_type": "code",
   "execution_count": null,
   "id": "3a0f1065-a23f-4300-89e9-078f4c582203",
   "metadata": {},
   "outputs": [],
   "source": [
    "4) \tWhat will be the output of 3 * \"Hello\" in Python? Explain why. "
   ]
  },
  {
   "cell_type": "code",
   "execution_count": 24,
   "id": "f378aaab-8e58-4d2b-b76e-155bd52e2990",
   "metadata": {},
   "outputs": [
    {
     "data": {
      "text/plain": [
       "'HelloHelloHello'"
      ]
     },
     "execution_count": 24,
     "metadata": {},
     "output_type": "execute_result"
    }
   ],
   "source": [
    "3 * \"Hello\" # Multiplying a string by an integer repeats the string that many times. "
   ]
  },
  {
   "cell_type": "code",
   "execution_count": null,
   "id": "6cbf07dc-7162-46f8-8e3f-846ad912bf6a",
   "metadata": {},
   "outputs": [],
   "source": [
    "5)  What is string concatenation, and how would you do it in Python"
   ]
  },
  {
   "cell_type": "code",
   "execution_count": 25,
   "id": "c3027d0f-21fd-4e53-9fee-98e212555490",
   "metadata": {},
   "outputs": [],
   "source": [
    "# String concatenation means joining two or more strings together using (+) oprator"
   ]
  },
  {
   "cell_type": "code",
   "execution_count": 26,
   "id": "7f0be1a6-fe4e-43bb-b78d-0ebf2bece00e",
   "metadata": {},
   "outputs": [
    {
     "name": "stdout",
     "output_type": "stream",
     "text": [
      "India Maharashtra\n"
     ]
    }
   ],
   "source": [
    "country = \"India\" \n",
    "state = \"Maharashtra\" \n",
    "addrs = country + \" \" + state  # Adds a space between first and last name \n",
    "print(addrs)  # Output: John Doe \n"
   ]
  }
 ],
 "metadata": {
  "kernelspec": {
   "display_name": "Python 3 (ipykernel)",
   "language": "python",
   "name": "python3"
  },
  "language_info": {
   "codemirror_mode": {
    "name": "ipython",
    "version": 3
   },
   "file_extension": ".py",
   "mimetype": "text/x-python",
   "name": "python",
   "nbconvert_exporter": "python",
   "pygments_lexer": "ipython3",
   "version": "3.12.4"
  }
 },
 "nbformat": 4,
 "nbformat_minor": 5
}
