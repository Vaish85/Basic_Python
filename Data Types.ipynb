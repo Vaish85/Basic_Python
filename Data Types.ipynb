{
 "cells": [
  {
   "cell_type": "markdown",
   "id": "9f369d02-d2a3-484c-9ea7-95f27cf78132",
   "metadata": {},
   "source": [
    "# Data Types in Python"
   ]
  },
  {
   "cell_type": "markdown",
   "id": "a717e732-0926-4533-aa4c-d774af9db778",
   "metadata": {},
   "source": [
    "### Defines which type of data a variable can hold"
   ]
  },
  {
   "cell_type": "markdown",
   "id": "e143916a-20d4-4fe9-bde0-4afa4ee32494",
   "metadata": {},
   "source": [
    "#### (int , float , complex , str , boolean , )"
   ]
  },
  {
   "cell_type": "markdown",
   "id": "49e13c53-6c6b-4a3c-8de5-4b49b2e195bd",
   "metadata": {},
   "source": [
    "## Int"
   ]
  },
  {
   "cell_type": "markdown",
   "id": "f7d531c3-00b9-4e30-97c3-907c2fb1c968",
   "metadata": {},
   "source": [
    "#### Used for positive and negative Whole numbers numbers "
   ]
  },
  {
   "cell_type": "code",
   "execution_count": null,
   "id": "345157b5-0f0b-44c9-91d3-d30d247fa1de",
   "metadata": {},
   "outputs": [],
   "source": [
    "4"
   ]
  },
  {
   "cell_type": "code",
   "execution_count": 2,
   "id": "1229050e-efed-4565-8814-3b97a9b558be",
   "metadata": {},
   "outputs": [
    {
     "data": {
      "text/plain": [
       "int"
      ]
     },
     "execution_count": 2,
     "metadata": {},
     "output_type": "execute_result"
    }
   ],
   "source": [
    "type(4)"
   ]
  },
  {
   "cell_type": "markdown",
   "id": "de96c3c7-a5f7-4eba-9e46-f9e6ec208493",
   "metadata": {},
   "source": [
    "## Float"
   ]
  },
  {
   "cell_type": "markdown",
   "id": "09fddc76-bc5f-4519-960e-2f9d2e543b63",
   "metadata": {},
   "source": [
    "#### Used for decimal numbers"
   ]
  },
  {
   "cell_type": "code",
   "execution_count": null,
   "id": "098dcd84-f2f8-48dd-811d-9e2fa402a5c1",
   "metadata": {},
   "outputs": [],
   "source": [
    "30.75"
   ]
  },
  {
   "cell_type": "code",
   "execution_count": 4,
   "id": "6a229889-5d97-4049-b791-4931e3a84830",
   "metadata": {},
   "outputs": [
    {
     "data": {
      "text/plain": [
       "float"
      ]
     },
     "execution_count": 4,
     "metadata": {},
     "output_type": "execute_result"
    }
   ],
   "source": [
    "type(30.75)"
   ]
  },
  {
   "cell_type": "markdown",
   "id": "7cd5b719-dc9a-46bf-82a7-41cc5accbab8",
   "metadata": {},
   "source": [
    "# Complex"
   ]
  },
  {
   "cell_type": "code",
   "execution_count": null,
   "id": "500c4f25-855d-4f81-8282-a04d4ddbeffc",
   "metadata": {},
   "outputs": [],
   "source": [
    "10+5j"
   ]
  },
  {
   "cell_type": "code",
   "execution_count": 17,
   "id": "997ccd46-ecef-4717-8e35-05a89c03365f",
   "metadata": {},
   "outputs": [
    {
     "data": {
      "text/plain": [
       "complex"
      ]
     },
     "execution_count": 17,
     "metadata": {},
     "output_type": "execute_result"
    }
   ],
   "source": [
    "type(10+5j)"
   ]
  },
  {
   "cell_type": "markdown",
   "id": "4c67dfc4-4752-4ee9-a9c1-b9eb26273132",
   "metadata": {},
   "source": [
    "# Str"
   ]
  },
  {
   "cell_type": "markdown",
   "id": "408e77fc-c9b3-4d3c-906b-c75caffac837",
   "metadata": {},
   "source": [
    "### Used for Text type data"
   ]
  },
  {
   "cell_type": "code",
   "execution_count": 19,
   "id": "dbb8fa40-a0f6-45f8-8999-22a4655296be",
   "metadata": {},
   "outputs": [],
   "source": [
    "name=\"Vaishnavi\""
   ]
  },
  {
   "cell_type": "code",
   "execution_count": 20,
   "id": "42110b5e-ca8c-44c6-a1ea-924888bd6526",
   "metadata": {},
   "outputs": [
    {
     "data": {
      "text/plain": [
       "str"
      ]
     },
     "execution_count": 20,
     "metadata": {},
     "output_type": "execute_result"
    }
   ],
   "source": [
    "type(name)"
   ]
  },
  {
   "cell_type": "markdown",
   "id": "a1399590-21bd-46d4-9156-9d75d1eb9dcd",
   "metadata": {},
   "source": [
    "# Boolean"
   ]
  },
  {
   "cell_type": "markdown",
   "id": "429b95b0-f89b-440b-96e8-7466df85ae4a",
   "metadata": {},
   "source": [
    "### Used for True , False type data"
   ]
  },
  {
   "cell_type": "code",
   "execution_count": 21,
   "id": "e4e85716-b24e-432b-8dad-c6596adabb21",
   "metadata": {},
   "outputs": [
    {
     "data": {
      "text/plain": [
       "False"
      ]
     },
     "execution_count": 21,
     "metadata": {},
     "output_type": "execute_result"
    }
   ],
   "source": [
    "46>80"
   ]
  },
  {
   "cell_type": "code",
   "execution_count": 22,
   "id": "4d0bafd4-c15e-424b-b4d1-25e6093a6ed3",
   "metadata": {},
   "outputs": [
    {
     "data": {
      "text/plain": [
       "True"
      ]
     },
     "execution_count": 22,
     "metadata": {},
     "output_type": "execute_result"
    }
   ],
   "source": [
    "46<80"
   ]
  },
  {
   "cell_type": "code",
   "execution_count": null,
   "id": "1587c7ad-7718-47ca-a627-434791b102c6",
   "metadata": {},
   "outputs": [],
   "source": []
  }
 ],
 "metadata": {
  "kernelspec": {
   "display_name": "Python 3 (ipykernel)",
   "language": "python",
   "name": "python3"
  },
  "language_info": {
   "codemirror_mode": {
    "name": "ipython",
    "version": 3
   },
   "file_extension": ".py",
   "mimetype": "text/x-python",
   "name": "python",
   "nbconvert_exporter": "python",
   "pygments_lexer": "ipython3",
   "version": "3.12.4"
  }
 },
 "nbformat": 4,
 "nbformat_minor": 5
}
