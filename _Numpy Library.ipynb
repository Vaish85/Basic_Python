{
 "cells": [
  {
   "cell_type": "markdown",
   "id": "93f11ba7-d636-4875-920c-0a24c1104749",
   "metadata": {},
   "source": [
    "# Numpy Library"
   ]
  },
  {
   "cell_type": "markdown",
   "id": "2da60ce0-d84b-482d-b61b-01266c7e0c01",
   "metadata": {},
   "source": [
    "### Numpy library is used to perform Mathematical operations on dataset."
   ]
  },
  {
   "cell_type": "code",
   "execution_count": 1,
   "id": "59f79331-2c5f-49be-8d95-3950b33c9d2d",
   "metadata": {},
   "outputs": [
    {
     "name": "stdout",
     "output_type": "stream",
     "text": [
      "Requirement already satisfied: numpy in c:\\programdata\\anaconda3\\lib\\site-packages (1.26.4)\n",
      "Note: you may need to restart the kernel to use updated packages.\n"
     ]
    }
   ],
   "source": [
    "pip install numpy"
   ]
  },
  {
   "cell_type": "code",
   "execution_count": 2,
   "id": "9e6625ac-20b1-4bff-a56e-c3d9a4f39a7a",
   "metadata": {},
   "outputs": [],
   "source": [
    "import numpy as np"
   ]
  },
  {
   "cell_type": "code",
   "execution_count": 3,
   "id": "1348102d-d1ef-4c84-b9ff-021257f5fb1f",
   "metadata": {},
   "outputs": [
    {
     "data": {
      "text/plain": [
       "23.1"
      ]
     },
     "execution_count": 3,
     "metadata": {},
     "output_type": "execute_result"
    }
   ],
   "source": [
    "np.mean([34,56,7,8,90,12,4,5,7,8])"
   ]
  },
  {
   "cell_type": "code",
   "execution_count": 4,
   "id": "30b4f06c-21e9-42a3-9750-5ac3f48c067d",
   "metadata": {},
   "outputs": [
    {
     "data": {
      "text/plain": [
       "8.0"
      ]
     },
     "execution_count": 4,
     "metadata": {},
     "output_type": "execute_result"
    }
   ],
   "source": [
    "np.median([34,56,7,8,90,12,4,5,7,8])"
   ]
  },
  {
   "cell_type": "code",
   "execution_count": 5,
   "id": "4ca42471-a147-4a20-80ec-6b581974eb2a",
   "metadata": {},
   "outputs": [
    {
     "data": {
      "text/plain": [
       "23.1"
      ]
     },
     "execution_count": 5,
     "metadata": {},
     "output_type": "execute_result"
    }
   ],
   "source": [
    "np.average([34,56,7,8,90,12,4,5,7,8])"
   ]
  },
  {
   "cell_type": "markdown",
   "id": "90934b8d-23cd-47a6-a4ac-4dc714eedf26",
   "metadata": {},
   "source": [
    "### Dimentions"
   ]
  },
  {
   "cell_type": "code",
   "execution_count": 17,
   "id": "50a01fe7-c0cb-4dfa-8460-2df49089e153",
   "metadata": {},
   "outputs": [],
   "source": [
    "d_1=[4,8,9,0,5,3,12,56,90]"
   ]
  },
  {
   "cell_type": "code",
   "execution_count": 18,
   "id": "49f73e37-2fba-4ce0-a5ce-1bd7ba4990a0",
   "metadata": {},
   "outputs": [],
   "source": [
    "df=np.array(l1)"
   ]
  },
  {
   "cell_type": "code",
   "execution_count": 19,
   "id": "ce3d0cb6-8a4e-48fe-9333-23675997cf12",
   "metadata": {},
   "outputs": [
    {
     "data": {
      "text/plain": [
       "array([ 4,  8,  9,  0,  5,  3, 12, 56, 90])"
      ]
     },
     "execution_count": 19,
     "metadata": {},
     "output_type": "execute_result"
    }
   ],
   "source": [
    "df"
   ]
  },
  {
   "cell_type": "code",
   "execution_count": 20,
   "id": "743483c9-3e08-4ab0-91f5-9387f1ce8908",
   "metadata": {},
   "outputs": [
    {
     "data": {
      "text/plain": [
       "1"
      ]
     },
     "execution_count": 20,
     "metadata": {},
     "output_type": "execute_result"
    }
   ],
   "source": [
    "df.ndim        # Gives direcrtion of data i.e 1D"
   ]
  },
  {
   "cell_type": "code",
   "execution_count": 21,
   "id": "31427731-358a-4a01-acd4-d3e14f916fc2",
   "metadata": {},
   "outputs": [],
   "source": [
    "df_2 = np.array([[7,8,9,5,12],[2,6,8,9,3]])"
   ]
  },
  {
   "cell_type": "code",
   "execution_count": 22,
   "id": "08ce7184-58a8-4ad9-91fc-da7683f45db5",
   "metadata": {},
   "outputs": [
    {
     "data": {
      "text/plain": [
       "array([[ 7,  8,  9,  5, 12],\n",
       "       [ 2,  6,  8,  9,  3]])"
      ]
     },
     "execution_count": 22,
     "metadata": {},
     "output_type": "execute_result"
    }
   ],
   "source": [
    "df_2"
   ]
  },
  {
   "cell_type": "code",
   "execution_count": 23,
   "id": "a3f4f030-e193-4a28-ba2a-d5662a2c9b25",
   "metadata": {},
   "outputs": [
    {
     "data": {
      "text/plain": [
       "2"
      ]
     },
     "execution_count": 23,
     "metadata": {},
     "output_type": "execute_result"
    }
   ],
   "source": [
    "df_2.ndim       #2D array"
   ]
  },
  {
   "cell_type": "code",
   "execution_count": 24,
   "id": "18e5c75e-6343-4f88-a18c-f3e5a1846ca5",
   "metadata": {},
   "outputs": [],
   "source": [
    "df_3 = np.array([[2,4,6,8,10,12,3],[10,20,70,50,30,20,80],['a','b','c','d','e','f','t']])"
   ]
  },
  {
   "cell_type": "code",
   "execution_count": 25,
   "id": "975ee53e-1fc1-4c88-9816-753f8be0c10e",
   "metadata": {},
   "outputs": [
    {
     "data": {
      "text/plain": [
       "array([['2', '4', '6', '8', '10', '12', '3'],\n",
       "       ['10', '20', '70', '50', '30', '20', '80'],\n",
       "       ['a', 'b', 'c', 'd', 'e', 'f', 't']], dtype='<U11')"
      ]
     },
     "execution_count": 25,
     "metadata": {},
     "output_type": "execute_result"
    }
   ],
   "source": [
    "df_3"
   ]
  },
  {
   "cell_type": "code",
   "execution_count": 26,
   "id": "de756a8e-2bdc-4fc0-a2c1-4c8b281d829a",
   "metadata": {},
   "outputs": [
    {
     "data": {
      "text/plain": [
       "2"
      ]
     },
     "execution_count": 26,
     "metadata": {},
     "output_type": "execute_result"
    }
   ],
   "source": [
    "df_3.ndim"
   ]
  },
  {
   "cell_type": "code",
   "execution_count": 27,
   "id": "3ae98111-7309-4c0b-9557-0a3ce21b722a",
   "metadata": {},
   "outputs": [
    {
     "data": {
      "text/plain": [
       "[4, 8, 9, 0, 5, 3, 12, 56, 90]"
      ]
     },
     "execution_count": 27,
     "metadata": {},
     "output_type": "execute_result"
    }
   ],
   "source": [
    "d_1"
   ]
  },
  {
   "cell_type": "code",
   "execution_count": 28,
   "id": "139cf256-d0ae-497c-926d-b722861c701b",
   "metadata": {},
   "outputs": [
    {
     "data": {
      "text/plain": [
       "4"
      ]
     },
     "execution_count": 28,
     "metadata": {},
     "output_type": "execute_result"
    }
   ],
   "source": [
    "d_1[0]"
   ]
  },
  {
   "cell_type": "markdown",
   "id": "8c2cbee0-4fb7-4ea2-abe4-f125bb7cf000",
   "metadata": {},
   "source": [
    "### Random No. Generation"
   ]
  },
  {
   "cell_type": "code",
   "execution_count": 29,
   "id": "18142249-5025-453d-916f-3c00ecf4f359",
   "metadata": {},
   "outputs": [
    {
     "data": {
      "text/plain": [
       "array([2, 2, 4, 2, 3, 3, 1, 4])"
      ]
     },
     "execution_count": 29,
     "metadata": {},
     "output_type": "execute_result"
    }
   ],
   "source": [
    "np.random.randint(1,5,8)   # Gives random integer type of no."
   ]
  },
  {
   "cell_type": "code",
   "execution_count": 30,
   "id": "c7d80781-13e8-49c8-9df1-54ddacf535df",
   "metadata": {},
   "outputs": [
    {
     "data": {
      "text/plain": [
       "array([0.32253869, 0.84968171, 0.32315367, 0.28690197, 0.37740793,\n",
       "       0.87856563, 0.36419223, 0.41317688, 0.29198942, 0.03630365])"
      ]
     },
     "execution_count": 30,
     "metadata": {},
     "output_type": "execute_result"
    }
   ],
   "source": [
    "np.random.random(10)     # Gives any random 10 no. of float type"
   ]
  },
  {
   "cell_type": "code",
   "execution_count": 32,
   "id": "d35f0fac-647e-44e8-b53a-6e1b1158d59c",
   "metadata": {},
   "outputs": [
    {
     "data": {
      "text/plain": [
       "array([[0.99798316, 0.12106266, 0.20952818, 0.43770696],\n",
       "       [0.66559602, 0.90668431, 0.45679402, 0.00564652],\n",
       "       [0.70198643, 0.28767152, 0.65394172, 0.72508422]])"
      ]
     },
     "execution_count": 32,
     "metadata": {},
     "output_type": "execute_result"
    }
   ],
   "source": [
    "np.random.rand(3,4)   # Creats random no. in 3 rows & 4 columns"
   ]
  },
  {
   "cell_type": "code",
   "execution_count": 33,
   "id": "4524f5dd-4b45-4cc0-b462-772e7e9bfb71",
   "metadata": {},
   "outputs": [
    {
     "data": {
      "text/plain": [
       "array([[0.26490479],\n",
       "       [0.24348575]])"
      ]
     },
     "execution_count": 33,
     "metadata": {},
     "output_type": "execute_result"
    }
   ],
   "source": [
    "np.random.rand(2,1)"
   ]
  },
  {
   "cell_type": "code",
   "execution_count": 35,
   "id": "45a8cff1-65bf-4f22-ac70-86894231bffc",
   "metadata": {},
   "outputs": [
    {
     "data": {
      "text/plain": [
       "array([[0.46266962, 0.66482852, 0.9180074 ]])"
      ]
     },
     "execution_count": 35,
     "metadata": {},
     "output_type": "execute_result"
    }
   ],
   "source": [
    "np.random.rand(1,3)"
   ]
  }
 ],
 "metadata": {
  "kernelspec": {
   "display_name": "Python 3 (ipykernel)",
   "language": "python",
   "name": "python3"
  },
  "language_info": {
   "codemirror_mode": {
    "name": "ipython",
    "version": 3
   },
   "file_extension": ".py",
   "mimetype": "text/x-python",
   "name": "python",
   "nbconvert_exporter": "python",
   "pygments_lexer": "ipython3",
   "version": "3.12.4"
  }
 },
 "nbformat": 4,
 "nbformat_minor": 5
}
