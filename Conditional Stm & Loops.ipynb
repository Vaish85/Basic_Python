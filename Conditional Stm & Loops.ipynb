{
 "cells": [
  {
   "cell_type": "markdown",
   "id": "94771b0c-8ffa-48e7-9021-4869145e3565",
   "metadata": {},
   "source": [
    "# Conditional stm"
   ]
  },
  {
   "cell_type": "markdown",
   "id": "76beb814-2667-43c0-9cc4-af29d6bf5c27",
   "metadata": {},
   "source": [
    " ### (if, else, elif)"
   ]
  },
  {
   "cell_type": "code",
   "execution_count": 1,
   "id": "1f0f7d96-b994-4539-8189-954b28aa2d26",
   "metadata": {},
   "outputs": [
    {
     "name": "stdout",
     "output_type": "stream",
     "text": [
      "Greater\n"
     ]
    }
   ],
   "source": [
    "if 30 >= 20 :\n",
    "    print('Greater')\n",
    "else:\n",
    "    print('Not Greater')"
   ]
  },
  {
   "cell_type": "code",
   "execution_count": 2,
   "id": "6deb1a9b-70a9-4a88-8d08-2f2bb5e04aee",
   "metadata": {},
   "outputs": [],
   "source": [
    "marks=60"
   ]
  },
  {
   "cell_type": "code",
   "execution_count": 3,
   "id": "0bd96796-d3c1-4dd6-a607-a9b17043184b",
   "metadata": {},
   "outputs": [
    {
     "name": "stdout",
     "output_type": "stream",
     "text": [
      "Pass\n"
     ]
    }
   ],
   "source": [
    "if marks > 35:\n",
    "    print(\"Pass\")\n",
    "else:\n",
    "    print(\"Fail\")"
   ]
  },
  {
   "cell_type": "code",
   "execution_count": 4,
   "id": "40f28f60-16b8-402e-92f6-6fc27f416dc3",
   "metadata": {},
   "outputs": [
    {
     "name": "stdin",
     "output_type": "stream",
     "text": [
      "Enter Your Marks 90\n"
     ]
    },
    {
     "name": "stdout",
     "output_type": "stream",
     "text": [
      "A+\n"
     ]
    }
   ],
   "source": [
    "marks= int(input(\"Enter Your Marks\")) \n",
    "if marks>= 90 and marks < 100:\n",
    "    print('A+')\n",
    "elif marks >= 70 and marks < 90:      # elif is used for multiple conditions \n",
    "    print('B')\n",
    "elif marks >= 50 and marks < 70:\n",
    "    print('C')\n",
    "elif marks >= 35 and marks < 50:\n",
    "    print('Pass')\n",
    "elif marks > 0 and marks < 35:\n",
    "    print('Fail')\n",
    "else:\n",
    "    print('Please write marks between range of 0-100')\n",
    "    "
   ]
  },
  {
   "cell_type": "markdown",
   "id": "7d1a12be-6bab-4d56-8808-83b91694d67b",
   "metadata": {},
   "source": [
    "# Loops "
   ]
  },
  {
   "cell_type": "markdown",
   "id": "f723c038-6e2b-4ba5-a6fb-50eb933f58c4",
   "metadata": {},
   "source": [
    "### (for , while)"
   ]
  },
  {
   "cell_type": "markdown",
   "id": "ccfcde36-db72-4ab5-9707-e8c1327eab8b",
   "metadata": {},
   "source": [
    "## for"
   ]
  },
  {
   "cell_type": "markdown",
   "id": "dbd4036e-4a7f-46a8-900d-90e81ac96259",
   "metadata": {},
   "source": [
    "### #for loop iterate the elements one by one & executes the code as many times as the lengh of list"
   ]
  },
  {
   "cell_type": "code",
   "execution_count": 12,
   "id": "9dc28841-97d6-4e11-980b-cc0d5e5aa1bf",
   "metadata": {},
   "outputs": [],
   "source": [
    "num=[1,2,3,4,5,6,7,8,9,10]\n"
   ]
  },
  {
   "cell_type": "code",
   "execution_count": 13,
   "id": "f9683ebf-8ccb-4f5d-81c1-248f709b7b1b",
   "metadata": {},
   "outputs": [
    {
     "name": "stdout",
     "output_type": "stream",
     "text": [
      "1\n",
      "2\n",
      "3\n",
      "4\n",
      "5\n",
      "6\n",
      "7\n",
      "8\n",
      "9\n",
      "10\n"
     ]
    }
   ],
   "source": [
    "for i in num:     # i is the temporary name used for each element in the list\n",
    "    print(i)\n"
   ]
  },
  {
   "cell_type": "code",
   "execution_count": 22,
   "id": "9bd1a610-7906-4f89-8a4a-623bdcc8f739",
   "metadata": {},
   "outputs": [
    {
     "name": "stdout",
     "output_type": "stream",
     "text": [
      "0\n",
      "1\n",
      "2\n",
      "3\n",
      "4\n"
     ]
    }
   ],
   "source": [
    "for i in range(5):\n",
    "    print(i)"
   ]
  },
  {
   "cell_type": "code",
   "execution_count": 23,
   "id": "b0fbe7f5-cade-4ca0-ada5-a4743c96fed1",
   "metadata": {},
   "outputs": [],
   "source": [
    "word = \"PYTHON\"\n"
   ]
  },
  {
   "cell_type": "code",
   "execution_count": 24,
   "id": "0056ed96-98ce-4003-90c7-7922c43121fa",
   "metadata": {},
   "outputs": [
    {
     "name": "stdout",
     "output_type": "stream",
     "text": [
      "P\n",
      "Y\n",
      "T\n",
      "H\n",
      "O\n",
      "N\n"
     ]
    }
   ],
   "source": [
    "for letters in word:\n",
    "    print(letters)"
   ]
  },
  {
   "cell_type": "code",
   "execution_count": 25,
   "id": "dfcf5ea2-3e72-46e4-87c9-534ed09238c2",
   "metadata": {},
   "outputs": [
    {
     "name": "stdout",
     "output_type": "stream",
     "text": [
      "SHello\n",
      "cHello\n",
      "iHello\n",
      "eHello\n",
      "nHello\n",
      "cHello\n",
      "eHello\n"
     ]
    }
   ],
   "source": [
    "for i in 'Science':\n",
    "    print(i + 'Hello')"
   ]
  },
  {
   "cell_type": "markdown",
   "id": "e58b6ee7-496b-46fc-b7d1-b4b4fd13b3e6",
   "metadata": {},
   "source": [
    "## While"
   ]
  },
  {
   "cell_type": "markdown",
   "id": "c47f1df6-f0eb-464f-afdd-ac2ad3992804",
   "metadata": {},
   "source": [
    "### #While loop executes a block of code repeatedly untill & unless the condition becomes false"
   ]
  },
  {
   "cell_type": "code",
   "execution_count": 34,
   "id": "2b267945-f286-4863-83dc-a7471da1832e",
   "metadata": {},
   "outputs": [],
   "source": [
    "count=1\n"
   ]
  },
  {
   "cell_type": "code",
   "execution_count": 35,
   "id": "0e4a141c-d33e-4d58-9186-5d5288f22b96",
   "metadata": {},
   "outputs": [
    {
     "name": "stdout",
     "output_type": "stream",
     "text": [
      "1\n",
      "2\n",
      "3\n",
      "4\n",
      "5\n"
     ]
    }
   ],
   "source": [
    "while count <=5:\n",
    "    print(count)\n",
    "    count += 1"
   ]
  },
  {
   "cell_type": "code",
   "execution_count": 43,
   "id": "3a267b3c-7637-4739-9e53-8e7187e59913",
   "metadata": {},
   "outputs": [],
   "source": [
    "age = 20"
   ]
  },
  {
   "cell_type": "code",
   "execution_count": 45,
   "id": "95453ad5-c3f5-401e-8979-35ca846b799f",
   "metadata": {},
   "outputs": [
    {
     "name": "stdout",
     "output_type": "stream",
     "text": [
      "Student 20\n",
      "Student 21\n",
      "Student 22\n",
      "Student 23\n",
      "Student 24\n"
     ]
    }
   ],
   "source": [
    "while age < 25:\n",
    "    print('Student', age)\n",
    "    age = age + 1"
   ]
  },
  {
   "cell_type": "code",
   "execution_count": 40,
   "id": "76d1940a-079b-4480-94ea-fbfff0878d7a",
   "metadata": {},
   "outputs": [],
   "source": [
    "num = 15\n",
    "sum = 0"
   ]
  },
  {
   "cell_type": "code",
   "execution_count": 41,
   "id": "090fe6d5-920c-431a-a666-3136831142fd",
   "metadata": {
    "jp-MarkdownHeadingCollapsed": true
   },
   "outputs": [],
   "source": [
    "\n",
    "while num > 0:\r\n",
    "    sum = sum + num\r\n",
    "    num = num - 1"
   ]
  },
  {
   "cell_type": "code",
   "execution_count": 42,
   "id": "58f9401e-52ac-4538-b61b-31f183fb699b",
   "metadata": {},
   "outputs": [
    {
     "data": {
      "text/plain": [
       "120"
      ]
     },
     "execution_count": 42,
     "metadata": {},
     "output_type": "execute_result"
    }
   ],
   "source": [
    "sum"
   ]
  },
  {
   "cell_type": "markdown",
   "id": "6ed8d5f2-96b1-44a5-bd04-ff20b4f16651",
   "metadata": {},
   "source": [
    "# Control Flow Stmt"
   ]
  },
  {
   "cell_type": "markdown",
   "id": "91e947a7-f327-4468-aecf-a0820174cd6e",
   "metadata": {},
   "source": [
    "### (break, continue, pass )"
   ]
  },
  {
   "cell_type": "markdown",
   "id": "4903a5ab-ea6d-49f9-a8ed-77df893d7eeb",
   "metadata": {},
   "source": [
    "## Break"
   ]
  },
  {
   "cell_type": "code",
   "execution_count": 54,
   "id": "370dce3c-986b-45c9-995a-f3d508654d87",
   "metadata": {},
   "outputs": [
    {
     "name": "stdout",
     "output_type": "stream",
     "text": [
      "0\n",
      "1\n",
      "2\n"
     ]
    }
   ],
   "source": [
    "for i in range(5):\n",
    "    if i==3:\n",
    "        break  #break breaks the code when i=3 then further no. not get printed\n",
    "    print(i)"
   ]
  },
  {
   "cell_type": "markdown",
   "id": "9c0735da-af2c-4f92-bd51-73b06cac931c",
   "metadata": {},
   "source": [
    "## Continue"
   ]
  },
  {
   "cell_type": "markdown",
   "id": "f6e81394-5115-4371-a698-2fbd3fe3a843",
   "metadata": {},
   "source": [
    "### It is used to skip current iteration & move to next"
   ]
  },
  {
   "cell_type": "code",
   "execution_count": 62,
   "id": "cd9dd338-940f-4340-9bfe-bfb595ac13e9",
   "metadata": {},
   "outputs": [
    {
     "name": "stdout",
     "output_type": "stream",
     "text": [
      "0\n",
      "1\n",
      "2\n",
      "3\n",
      "5\n",
      "6\n",
      "8\n",
      "9\n"
     ]
    }
   ],
   "source": [
    "for i in range(10):\n",
    "    if i ==4:\n",
    "        continue  #Skips 4\n",
    "    elif i==7:    #Skips 7\n",
    "        continue\n",
    "    print(i)    "
   ]
  },
  {
   "cell_type": "markdown",
   "id": "8bd39117-0f1d-448f-8bc6-acc20d26e27a",
   "metadata": {},
   "source": [
    "## pass"
   ]
  },
  {
   "cell_type": "markdown",
   "id": "5b94bcc2-4c1a-4d73-8a68-f39805ff95d6",
   "metadata": {},
   "source": [
    "### It just fill the block of code does not do anything in the code"
   ]
  },
  {
   "cell_type": "code",
   "execution_count": 65,
   "id": "daf32b38-be2f-4374-aef3-fc204d22522f",
   "metadata": {},
   "outputs": [
    {
     "ename": "SyntaxError",
     "evalue": "incomplete input (1200621531.py, line 2)",
     "output_type": "error",
     "traceback": [
      "\u001b[1;36m  Cell \u001b[1;32mIn[65], line 2\u001b[1;36m\u001b[0m\n\u001b[1;33m    if i == 3:\u001b[0m\n\u001b[1;37m              ^\u001b[0m\n\u001b[1;31mSyntaxError\u001b[0m\u001b[1;31m:\u001b[0m incomplete input\n"
     ]
    }
   ],
   "source": [
    "for i in range(1,5):\n",
    "    if i == 3:"
   ]
  },
  {
   "cell_type": "code",
   "execution_count": 67,
   "id": "1200d8fe-cd31-4fab-bc81-c5cdb81610b1",
   "metadata": {},
   "outputs": [],
   "source": [
    "for i in range(1,5):\n",
    "    if i == 3:\n",
    "        pass"
   ]
  }
 ],
 "metadata": {
  "kernelspec": {
   "display_name": "Python 3 (ipykernel)",
   "language": "python",
   "name": "python3"
  },
  "language_info": {
   "codemirror_mode": {
    "name": "ipython",
    "version": 3
   },
   "file_extension": ".py",
   "mimetype": "text/x-python",
   "name": "python",
   "nbconvert_exporter": "python",
   "pygments_lexer": "ipython3",
   "version": "3.12.4"
  }
 },
 "nbformat": 4,
 "nbformat_minor": 5
}
