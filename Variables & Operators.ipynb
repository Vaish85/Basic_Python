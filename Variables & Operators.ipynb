{
 "cells": [
  {
   "cell_type": "markdown",
   "id": "cf924437-9ed5-4e3e-b5bd-a8e9065267b2",
   "metadata": {},
   "source": [
    "# Variables\n",
    "### #Variables are nothing but the containers in which we store values."
   ]
  },
  {
   "cell_type": "markdown",
   "id": "47e6b9a0-1aa2-4487-b93a-95c53ddf55e5",
   "metadata": {},
   "source": [
    "## *Rules "
   ]
  },
  {
   "cell_type": "markdown",
   "id": "6a3c99d6-c865-4bbc-ad35-3810ae3bc83d",
   "metadata": {},
   "source": [
    "### 1) It should not start with any special character like (_,@,#,$,%,&,*)\n",
    "### 2) It should not start with any number.\n",
    "### 3) It should always start with lower case letters,not uppercase.\n",
    "### 4) Our variable names should always be related to the program or project.\n"
   ]
  },
  {
   "cell_type": "code",
   "execution_count": 1,
   "id": "d40655ef-583b-4b33-ad76-4841a2de6daf",
   "metadata": {},
   "outputs": [],
   "source": [
    "height= 172         ## height is a variable containg valve 172\n",
    "weight= 60          ## Weight is a variable containing value 60"
   ]
  },
  {
   "cell_type": "code",
   "execution_count": 2,
   "id": "a161d416-6b83-45ff-a1f1-e2f2c8826005",
   "metadata": {},
   "outputs": [
    {
     "name": "stdout",
     "output_type": "stream",
     "text": [
      "172\n"
     ]
    }
   ],
   "source": [
    "print(height)"
   ]
  },
  {
   "cell_type": "code",
   "execution_count": 4,
   "id": "c2ad19a8-971f-4cf1-9afd-4cf058a83ad5",
   "metadata": {},
   "outputs": [
    {
     "name": "stdout",
     "output_type": "stream",
     "text": [
      "60\n"
     ]
    }
   ],
   "source": [
    "print(weight)"
   ]
  },
  {
   "cell_type": "markdown",
   "id": "86b13282-b38a-49ec-a8e9-7f0357dfd54f",
   "metadata": {},
   "source": [
    " ### Invalid Variable names"
   ]
  },
  {
   "cell_type": "code",
   "execution_count": 2,
   "id": "7dca72fc-c3b3-43c4-aa0d-7bd939287cc6",
   "metadata": {},
   "outputs": [
    {
     "ename": "SyntaxError",
     "evalue": "cannot assign to literal here. Maybe you meant '==' instead of '='? (3030356720.py, line 1)",
     "output_type": "error",
     "traceback": [
      "\u001b[1;36m  Cell \u001b[1;32mIn[2], line 1\u001b[1;36m\u001b[0m\n\u001b[1;33m    2= \"Hello\"\u001b[0m\n\u001b[1;37m    ^\u001b[0m\n\u001b[1;31mSyntaxError\u001b[0m\u001b[1;31m:\u001b[0m cannot assign to literal here. Maybe you meant '==' instead of '='?\n"
     ]
    }
   ],
   "source": [
    "2= \"Hello\""
   ]
  },
  {
   "cell_type": "code",
   "execution_count": 3,
   "id": "a474acdb-9cfd-45bc-ad99-f8118fc6fe47",
   "metadata": {},
   "outputs": [
    {
     "ename": "SyntaxError",
     "evalue": "invalid syntax. Maybe you meant '==' or ':=' instead of '='? (512180754.py, line 1)",
     "output_type": "error",
     "traceback": [
      "\u001b[1;36m  Cell \u001b[1;32mIn[3], line 1\u001b[1;36m\u001b[0m\n\u001b[1;33m    @num=45\u001b[0m\n\u001b[1;37m     ^\u001b[0m\n\u001b[1;31mSyntaxError\u001b[0m\u001b[1;31m:\u001b[0m invalid syntax. Maybe you meant '==' or ':=' instead of '='?\n"
     ]
    }
   ],
   "source": [
    "@num=45"
   ]
  },
  {
   "cell_type": "markdown",
   "id": "a40ded6a-2b16-4382-8c6e-fac40d7f3131",
   "metadata": {},
   "source": [
    "### Valid "
   ]
  },
  {
   "cell_type": "code",
   "execution_count": 17,
   "id": "c01d15f7-dd2b-42f5-9b8a-d76817328d31",
   "metadata": {},
   "outputs": [
    {
     "name": "stdout",
     "output_type": "stream",
     "text": [
      "34\n"
     ]
    }
   ],
   "source": [
    "num=34\n",
    "print(num)"
   ]
  },
  {
   "cell_type": "code",
   "execution_count": 19,
   "id": "384cd540-c84c-49ff-8876-f94699e348ed",
   "metadata": {},
   "outputs": [
    {
     "name": "stdout",
     "output_type": "stream",
     "text": [
      "vaishnavi\n"
     ]
    }
   ],
   "source": [
    "studentName=\"vaishnavi\"\n",
    "print(studentName)"
   ]
  },
  {
   "cell_type": "code",
   "execution_count": null,
   "id": "3e587434-8257-4794-be7f-5a92054d6415",
   "metadata": {},
   "outputs": [],
   "source": []
  },
  {
   "cell_type": "markdown",
   "id": "ad45b9fb-d577-42f7-8b39-650bb8cd5843",
   "metadata": {},
   "source": [
    "# Operators in python"
   ]
  },
  {
   "cell_type": "markdown",
   "id": "55266fb5-83f7-4d30-a87b-8453da89d31a",
   "metadata": {},
   "source": [
    "## 1) Arithmetic Operators"
   ]
  },
  {
   "cell_type": "markdown",
   "id": "83d5c9b8-0764-4a04-88c6-34393b9b77d2",
   "metadata": {},
   "source": [
    "### (+ , - , * , / , % , ** , //)"
   ]
  },
  {
   "cell_type": "code",
   "execution_count": 54,
   "id": "78a20510-4277-4f14-a516-96769d62eed6",
   "metadata": {},
   "outputs": [],
   "source": [
    "a=30\n",
    "b=40\n"
   ]
  },
  {
   "cell_type": "code",
   "execution_count": 55,
   "id": "d3420189-85cb-46c8-b158-efc11c4edc3f",
   "metadata": {},
   "outputs": [],
   "source": [
    "c=a+b"
   ]
  },
  {
   "cell_type": "code",
   "execution_count": 56,
   "id": "ba4f30f4-c3a1-4c72-9777-b7453e87b080",
   "metadata": {},
   "outputs": [
    {
     "name": "stdout",
     "output_type": "stream",
     "text": [
      "70\n"
     ]
    }
   ],
   "source": [
    "print(c)"
   ]
  },
  {
   "cell_type": "code",
   "execution_count": 57,
   "id": "ef35cd9f-bf0a-40df-8030-d525b9b9e4b5",
   "metadata": {},
   "outputs": [],
   "source": [
    "d= a-b"
   ]
  },
  {
   "cell_type": "code",
   "execution_count": 58,
   "id": "087952c9-c8a8-4e98-a575-20d56a6476a9",
   "metadata": {},
   "outputs": [
    {
     "name": "stdout",
     "output_type": "stream",
     "text": [
      "-10\n"
     ]
    }
   ],
   "source": [
    "print(d)"
   ]
  },
  {
   "cell_type": "code",
   "execution_count": 59,
   "id": "1f9ade56-aa44-459b-88d4-6ff9c8c62f3b",
   "metadata": {},
   "outputs": [],
   "source": [
    "e=a*b"
   ]
  },
  {
   "cell_type": "code",
   "execution_count": 60,
   "id": "5d762b14-2a30-48cb-aa1b-5fd7ea239a8a",
   "metadata": {},
   "outputs": [
    {
     "name": "stdout",
     "output_type": "stream",
     "text": [
      "1200\n"
     ]
    }
   ],
   "source": [
    "print(e)"
   ]
  },
  {
   "cell_type": "code",
   "execution_count": 67,
   "id": "2a844dad-8d91-4a79-a635-ddd213dd10be",
   "metadata": {},
   "outputs": [],
   "source": [
    "f= b/a  #Give answer of division"
   ]
  },
  {
   "cell_type": "code",
   "execution_count": 68,
   "id": "526d7024-f399-49c7-82a9-34cc1c8ac31d",
   "metadata": {},
   "outputs": [
    {
     "name": "stdout",
     "output_type": "stream",
     "text": [
      "1.3333333333333333\n"
     ]
    }
   ],
   "source": [
    "print(f)"
   ]
  },
  {
   "cell_type": "code",
   "execution_count": 71,
   "id": "69ff0ddc-767e-4967-87fa-bd1a2a7635f5",
   "metadata": {},
   "outputs": [],
   "source": [
    "g=a%b  #Giuves remainder of division"
   ]
  },
  {
   "cell_type": "code",
   "execution_count": 72,
   "id": "d3b5aa4e-302a-449c-a201-e0e05784e0d7",
   "metadata": {},
   "outputs": [
    {
     "name": "stdout",
     "output_type": "stream",
     "text": [
      "30\n"
     ]
    }
   ],
   "source": [
    "print(g)"
   ]
  },
  {
   "cell_type": "code",
   "execution_count": 73,
   "id": "b90ab0a5-16e1-491c-aae2-af89cf2cbe2e",
   "metadata": {},
   "outputs": [],
   "source": [
    "h= a**b  #Gives power means 30 raised to the power 40"
   ]
  },
  {
   "cell_type": "code",
   "execution_count": 74,
   "id": "2c535dcd-eae7-4b5c-a4d9-c90086763208",
   "metadata": {},
   "outputs": [
    {
     "name": "stdout",
     "output_type": "stream",
     "text": [
      "121576654590569288010000000000000000000000000000000000000000\n"
     ]
    }
   ],
   "source": [
    "print(h)"
   ]
  },
  {
   "cell_type": "code",
   "execution_count": 77,
   "id": "945db439-5802-42eb-a4d9-9daef23127c6",
   "metadata": {},
   "outputs": [],
   "source": [
    "l=a//b  #Gives the answer of division but the whole no. only ignores decimal"
   ]
  },
  {
   "cell_type": "code",
   "execution_count": 78,
   "id": "4053d390-418a-4335-838d-7e3b6470c044",
   "metadata": {},
   "outputs": [
    {
     "name": "stdout",
     "output_type": "stream",
     "text": [
      "0\n"
     ]
    }
   ],
   "source": [
    "print(l)"
   ]
  },
  {
   "cell_type": "markdown",
   "id": "718cb571-62ba-4dda-9367-7696f2ea3112",
   "metadata": {},
   "source": [
    "## 2) Relational Operators"
   ]
  },
  {
   "cell_type": "markdown",
   "id": "c5b987f0-8675-4240-abad-37125a251495",
   "metadata": {},
   "source": [
    "### (== , != , < , > , <= , >= )"
   ]
  },
  {
   "cell_type": "code",
   "execution_count": 79,
   "id": "bfa6f186-d02c-4637-ae31-b597ac0073ff",
   "metadata": {},
   "outputs": [],
   "source": [
    "n=5\n",
    "m=10"
   ]
  },
  {
   "cell_type": "code",
   "execution_count": 80,
   "id": "5ca5f3b7-6266-4f0b-9f9f-ee38148ff8e2",
   "metadata": {},
   "outputs": [
    {
     "data": {
      "text/plain": [
       "False"
      ]
     },
     "execution_count": 80,
     "metadata": {},
     "output_type": "execute_result"
    }
   ],
   "source": [
    "n==m  #Checks both vales are equal."
   ]
  },
  {
   "cell_type": "code",
   "execution_count": 81,
   "id": "cb0ae282-b836-48e4-8bf8-a4812407b83d",
   "metadata": {},
   "outputs": [
    {
     "data": {
      "text/plain": [
       "True"
      ]
     },
     "execution_count": 81,
     "metadata": {},
     "output_type": "execute_result"
    }
   ],
   "source": [
    "n!=m #Checks both values are not equal"
   ]
  },
  {
   "cell_type": "code",
   "execution_count": 82,
   "id": "cf8b9494-886e-4db4-9168-40254ee80669",
   "metadata": {},
   "outputs": [
    {
     "data": {
      "text/plain": [
       "True"
      ]
     },
     "execution_count": 82,
     "metadata": {},
     "output_type": "execute_result"
    }
   ],
   "source": [
    "n<m "
   ]
  },
  {
   "cell_type": "code",
   "execution_count": 84,
   "id": "58dad6d8-267e-4420-ab61-a83484a62eca",
   "metadata": {},
   "outputs": [
    {
     "data": {
      "text/plain": [
       "False"
      ]
     },
     "execution_count": 84,
     "metadata": {},
     "output_type": "execute_result"
    }
   ],
   "source": [
    "n>m"
   ]
  },
  {
   "cell_type": "code",
   "execution_count": 85,
   "id": "1e8e7c2c-7c8d-4df8-a96d-5fbb93579707",
   "metadata": {},
   "outputs": [
    {
     "data": {
      "text/plain": [
       "True"
      ]
     },
     "execution_count": 85,
     "metadata": {},
     "output_type": "execute_result"
    }
   ],
   "source": [
    "n<=m #Checks n is less than or equal to m any one condition is true gives true"
   ]
  },
  {
   "cell_type": "code",
   "execution_count": 86,
   "id": "e96d64f7-8a97-490f-81cb-3d7765c14118",
   "metadata": {},
   "outputs": [
    {
     "data": {
      "text/plain": [
       "False"
      ]
     },
     "execution_count": 86,
     "metadata": {},
     "output_type": "execute_result"
    }
   ],
   "source": [
    "n>=m"
   ]
  },
  {
   "cell_type": "code",
   "execution_count": null,
   "id": "b6419a9f-4928-43de-a70b-1a36cbf41900",
   "metadata": {},
   "outputs": [],
   "source": []
  },
  {
   "cell_type": "markdown",
   "id": "c2b748ff-9e00-414e-b65f-feb37fe05ac1",
   "metadata": {},
   "source": [
    "# 3) Logical Operators"
   ]
  },
  {
   "cell_type": "markdown",
   "id": "1de4c59e-685c-4f60-9252-afe98de4336a",
   "metadata": {},
   "source": [
    "### (and , or , not )"
   ]
  },
  {
   "cell_type": "code",
   "execution_count": 87,
   "id": "a21628bc-72a4-4cca-bfd8-11097d581da9",
   "metadata": {},
   "outputs": [],
   "source": [
    "x=10\n",
    "y=20"
   ]
  },
  {
   "cell_type": "code",
   "execution_count": 90,
   "id": "234babcd-16b8-49ec-9f9b-10d6f86af3d5",
   "metadata": {},
   "outputs": [
    {
     "data": {
      "text/plain": [
       "True"
      ]
     },
     "execution_count": 90,
     "metadata": {},
     "output_type": "execute_result"
    }
   ],
   "source": [
    "y>x and x<y #Needs both conditions true then gives true otherwise false "
   ]
  },
  {
   "cell_type": "code",
   "execution_count": 92,
   "id": "6d523308-97fd-48f4-bb5f-b0d3c1e236e1",
   "metadata": {},
   "outputs": [
    {
     "data": {
      "text/plain": [
       "True"
      ]
     },
     "execution_count": 92,
     "metadata": {},
     "output_type": "execute_result"
    }
   ],
   "source": [
    "x>y or x<y #Any one condition is true gives true, if both are false gives false"
   ]
  },
  {
   "cell_type": "code",
   "execution_count": 97,
   "id": "41f41af1-d27c-4e7a-b5f2-d10c73f36fed",
   "metadata": {},
   "outputs": [
    {
     "data": {
      "text/plain": [
       "True"
      ]
     },
     "execution_count": 97,
     "metadata": {},
     "output_type": "execute_result"
    }
   ],
   "source": [
    "not x>y #Makes true condition false and false condition true"
   ]
  },
  {
   "cell_type": "code",
   "execution_count": null,
   "id": "de891bbb-76a5-4d7d-841f-61fbe0c7ff29",
   "metadata": {},
   "outputs": [],
   "source": []
  },
  {
   "cell_type": "markdown",
   "id": "9e2a4441-d66d-43dc-92ee-b180ab3f9398",
   "metadata": {},
   "source": [
    "# 4) Assignment Operator"
   ]
  },
  {
   "cell_type": "markdown",
   "id": "30f2233b-3302-4949-92d4-0e0c8929f1e2",
   "metadata": {},
   "source": [
    "### (= , += , -= , *= , /= )"
   ]
  },
  {
   "cell_type": "code",
   "execution_count": null,
   "id": "1af1eb9e-9abd-4ff3-9b85-8ec9c688103e",
   "metadata": {},
   "outputs": [],
   "source": [
    "a=5"
   ]
  },
  {
   "cell_type": "code",
   "execution_count": 100,
   "id": "1c876a1d-769b-4b0a-adfb-72a19af9557c",
   "metadata": {},
   "outputs": [],
   "source": [
    "a+=5 #a=a+5 adds first and then assign. "
   ]
  },
  {
   "cell_type": "code",
   "execution_count": null,
   "id": "5599fee4-7945-44a3-bb91-fcdc4a457a3f",
   "metadata": {},
   "outputs": [],
   "source": [
    "a-=5 #a=a-5 "
   ]
  },
  {
   "cell_type": "code",
   "execution_count": null,
   "id": "be36ca06-649c-4a66-8a9f-4787750d43a4",
   "metadata": {},
   "outputs": [],
   "source": []
  },
  {
   "cell_type": "markdown",
   "id": "1ec8f2cd-87a2-463e-a9a0-8b2f8bb9dccd",
   "metadata": {},
   "source": [
    "# 5) Membership Operators\n",
    "### Used for data structure like list , tuple , dictionary , set"
   ]
  },
  {
   "cell_type": "markdown",
   "id": "f6bf9677-9a79-4731-a1c1-92e623772490",
   "metadata": {},
   "source": [
    "### (in , not in)"
   ]
  },
  {
   "cell_type": "code",
   "execution_count": 108,
   "id": "676a7932-6a2e-48a1-a690-cba041c3843f",
   "metadata": {},
   "outputs": [],
   "source": [
    "num=[1,2,3,4,5]"
   ]
  },
  {
   "cell_type": "code",
   "execution_count": 115,
   "id": "ee6b3d7a-351f-4e1f-bbaa-ca313577a770",
   "metadata": {},
   "outputs": [
    {
     "data": {
      "text/plain": [
       "True"
      ]
     },
     "execution_count": 115,
     "metadata": {},
     "output_type": "execute_result"
    }
   ],
   "source": [
    "3 in num #Checks the no. is exist if exists fives true"
   ]
  },
  {
   "cell_type": "code",
   "execution_count": 114,
   "id": "405c6c63-c49c-43d8-b8d5-d29738f61479",
   "metadata": {},
   "outputs": [
    {
     "data": {
      "text/plain": [
       "False"
      ]
     },
     "execution_count": 114,
     "metadata": {},
     "output_type": "execute_result"
    }
   ],
   "source": [
    "5 not in num #Checks no. not exist if not exist gives true if exists gives false "
   ]
  },
  {
   "cell_type": "code",
   "execution_count": null,
   "id": "836b6576-9e93-45c6-bcdd-9e3426c3acd3",
   "metadata": {},
   "outputs": [],
   "source": []
  },
  {
   "cell_type": "markdown",
   "id": "8564fb8d-fc7f-40f6-b61e-a203f33cd34e",
   "metadata": {},
   "source": [
    "# 6) Identity Operators"
   ]
  },
  {
   "cell_type": "markdown",
   "id": "3d577040-0738-4dfd-9eb0-81d79956fb8e",
   "metadata": {},
   "source": [
    "### (is , is not )"
   ]
  },
  {
   "cell_type": "code",
   "execution_count": 121,
   "id": "f1e2324f-b0e2-4fc0-ac94-0b2a93bef829",
   "metadata": {},
   "outputs": [],
   "source": [
    "a=5\n",
    "b=5"
   ]
  },
  {
   "cell_type": "code",
   "execution_count": 122,
   "id": "af200709-37cf-459d-b51f-4bba22418ed0",
   "metadata": {},
   "outputs": [
    {
     "data": {
      "text/plain": [
       "True"
      ]
     },
     "execution_count": 122,
     "metadata": {},
     "output_type": "execute_result"
    }
   ],
   "source": [
    "a is b #Checks a is b if both same gives true"
   ]
  },
  {
   "cell_type": "code",
   "execution_count": 123,
   "id": "4936fe06-2871-4d81-bbfa-72d35b4aa03f",
   "metadata": {},
   "outputs": [
    {
     "data": {
      "text/plain": [
       "False"
      ]
     },
     "execution_count": 123,
     "metadata": {},
     "output_type": "execute_result"
    }
   ],
   "source": [
    "a is not b "
   ]
  },
  {
   "cell_type": "code",
   "execution_count": null,
   "id": "6d2ba9ae-9b80-4fa2-987e-fb52c3267e45",
   "metadata": {},
   "outputs": [],
   "source": []
  }
 ],
 "metadata": {
  "kernelspec": {
   "display_name": "Python 3 (ipykernel)",
   "language": "python",
   "name": "python3"
  },
  "language_info": {
   "codemirror_mode": {
    "name": "ipython",
    "version": 3
   },
   "file_extension": ".py",
   "mimetype": "text/x-python",
   "name": "python",
   "nbconvert_exporter": "python",
   "pygments_lexer": "ipython3",
   "version": "3.12.4"
  }
 },
 "nbformat": 4,
 "nbformat_minor": 5
}
