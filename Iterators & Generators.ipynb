{
 "cells": [
  {
   "cell_type": "markdown",
   "id": "4d67d829-dcce-4f71-9d27-22e1ace40ac4",
   "metadata": {},
   "source": [
    "# Iterators"
   ]
  },
  {
   "cell_type": "markdown",
   "id": "01c8a1cc-0ad8-4b4c-8c3b-87d802b78d5f",
   "metadata": {},
   "source": [
    "#### It is an object that traverse through items of collection one by one."
   ]
  },
  {
   "cell_type": "markdown",
   "id": "23e4b523-ec1f-48e6-91b6-772a108c2ebb",
   "metadata": {},
   "source": [
    "#### It uses iter() & next() methods"
   ]
  },
  {
   "cell_type": "markdown",
   "id": "a937b240-1199-4a21-84f0-bff7ef7e0cec",
   "metadata": {},
   "source": [
    "#### iter() :- Makes the collection of data iterable"
   ]
  },
  {
   "cell_type": "markdown",
   "id": "11533f3e-da99-4b76-a3e9-01a971f2e7d8",
   "metadata": {},
   "source": [
    "#### next() :-Retrieves the next item"
   ]
  },
  {
   "cell_type": "code",
   "execution_count": 9,
   "id": "09d5795b-90b3-49bc-9b51-b617ea9289e8",
   "metadata": {},
   "outputs": [],
   "source": [
    "z='Blue'"
   ]
  },
  {
   "cell_type": "code",
   "execution_count": 10,
   "id": "f192e61c-af56-4ab3-9957-61e87cd3f8f3",
   "metadata": {},
   "outputs": [],
   "source": [
    "z=iter(z)"
   ]
  },
  {
   "cell_type": "code",
   "execution_count": 11,
   "id": "94e4b0d0-c6f4-465b-8604-f50e8e88080a",
   "metadata": {},
   "outputs": [
    {
     "data": {
      "text/plain": [
       "'B'"
      ]
     },
     "execution_count": 11,
     "metadata": {},
     "output_type": "execute_result"
    }
   ],
   "source": [
    "next(z)"
   ]
  },
  {
   "cell_type": "code",
   "execution_count": 12,
   "id": "45a048b5-6630-4f16-95dd-6297ce88368a",
   "metadata": {},
   "outputs": [
    {
     "data": {
      "text/plain": [
       "'l'"
      ]
     },
     "execution_count": 12,
     "metadata": {},
     "output_type": "execute_result"
    }
   ],
   "source": [
    "next(z)"
   ]
  },
  {
   "cell_type": "code",
   "execution_count": 13,
   "id": "a9f8cad8-86a2-44f1-8054-2fa06d792296",
   "metadata": {},
   "outputs": [
    {
     "data": {
      "text/plain": [
       "'u'"
      ]
     },
     "execution_count": 13,
     "metadata": {},
     "output_type": "execute_result"
    }
   ],
   "source": [
    "next(z)"
   ]
  },
  {
   "cell_type": "code",
   "execution_count": 14,
   "id": "048b9fe9-049d-4af2-8049-733ff30b6bb3",
   "metadata": {},
   "outputs": [
    {
     "data": {
      "text/plain": [
       "'e'"
      ]
     },
     "execution_count": 14,
     "metadata": {},
     "output_type": "execute_result"
    }
   ],
   "source": [
    "next(z)"
   ]
  },
  {
   "cell_type": "code",
   "execution_count": 15,
   "id": "3806ba15-3e49-4e7e-be9b-49c5d08c10d1",
   "metadata": {},
   "outputs": [
    {
     "ename": "StopIteration",
     "evalue": "",
     "output_type": "error",
     "traceback": [
      "\u001b[1;31m---------------------------------------------------------------------------\u001b[0m",
      "\u001b[1;31mStopIteration\u001b[0m                             Traceback (most recent call last)",
      "Cell \u001b[1;32mIn[15], line 1\u001b[0m\n\u001b[1;32m----> 1\u001b[0m \u001b[38;5;28mnext\u001b[39m(z)\n",
      "\u001b[1;31mStopIteration\u001b[0m: "
     ]
    }
   ],
   "source": [
    "next(z)  #Gives error beause letters are finished as word completed."
   ]
  },
  {
   "cell_type": "code",
   "execution_count": 23,
   "id": "866a1409-2246-4909-96a1-c48c3dc9cdd2",
   "metadata": {},
   "outputs": [],
   "source": [
    "l = [1,True,2+7j,'h']"
   ]
  },
  {
   "cell_type": "code",
   "execution_count": 24,
   "id": "a6801dc6-f054-4c30-a277-48f59665a856",
   "metadata": {},
   "outputs": [],
   "source": [
    "l=iter(l)"
   ]
  },
  {
   "cell_type": "code",
   "execution_count": 25,
   "id": "42b1dde6-1456-4a4d-aed0-232c59c0ae6e",
   "metadata": {},
   "outputs": [
    {
     "data": {
      "text/plain": [
       "1"
      ]
     },
     "execution_count": 25,
     "metadata": {},
     "output_type": "execute_result"
    }
   ],
   "source": [
    "next(l)"
   ]
  },
  {
   "cell_type": "code",
   "execution_count": 26,
   "id": "42e4c4d0-fcd5-4640-892e-01d127607a02",
   "metadata": {},
   "outputs": [
    {
     "data": {
      "text/plain": [
       "True"
      ]
     },
     "execution_count": 26,
     "metadata": {},
     "output_type": "execute_result"
    }
   ],
   "source": [
    "next(l)"
   ]
  },
  {
   "cell_type": "code",
   "execution_count": 27,
   "id": "91f334fd-65dc-44be-8eb2-b16d1564ab28",
   "metadata": {},
   "outputs": [
    {
     "data": {
      "text/plain": [
       "(2+7j)"
      ]
     },
     "execution_count": 27,
     "metadata": {},
     "output_type": "execute_result"
    }
   ],
   "source": [
    "next(l)"
   ]
  },
  {
   "cell_type": "code",
   "execution_count": 28,
   "id": "06e1d080-a57d-4c20-8bbe-d33d96b9246c",
   "metadata": {},
   "outputs": [
    {
     "data": {
      "text/plain": [
       "'h'"
      ]
     },
     "execution_count": 28,
     "metadata": {},
     "output_type": "execute_result"
    }
   ],
   "source": [
    "next(l)"
   ]
  },
  {
   "cell_type": "code",
   "execution_count": 1,
   "id": "dc90f7ae-9297-4b7d-89d5-f3d7550cb549",
   "metadata": {},
   "outputs": [],
   "source": [
    "c=(3045)"
   ]
  },
  {
   "cell_type": "code",
   "execution_count": 2,
   "id": "7e8dc76c-5f0e-4ad7-a3aa-4618b86aad08",
   "metadata": {},
   "outputs": [
    {
     "ename": "TypeError",
     "evalue": "'int' object is not iterable",
     "output_type": "error",
     "traceback": [
      "\u001b[1;31m---------------------------------------------------------------------------\u001b[0m",
      "\u001b[1;31mTypeError\u001b[0m                                 Traceback (most recent call last)",
      "Cell \u001b[1;32mIn[2], line 1\u001b[0m\n\u001b[1;32m----> 1\u001b[0m c\u001b[38;5;241m=\u001b[39m\u001b[38;5;28miter\u001b[39m(c)\n",
      "\u001b[1;31mTypeError\u001b[0m: 'int' object is not iterable"
     ]
    }
   ],
   "source": [
    "c=iter(c)     #Gives error as integers are not iterable"
   ]
  },
  {
   "cell_type": "markdown",
   "id": "160b9174-a742-4193-aebf-fd245b0325d0",
   "metadata": {},
   "source": [
    "### To make an integer iterable we need to convert it into string just by giving double or single quotes"
   ]
  },
  {
   "cell_type": "code",
   "execution_count": 4,
   "id": "0dc6e20e-ea68-4849-ab66-a5f9fa66140b",
   "metadata": {},
   "outputs": [],
   "source": [
    "c=(\"3045\") "
   ]
  },
  {
   "cell_type": "code",
   "execution_count": 5,
   "id": "92e0b72e-142a-438b-a081-d2635e46c2cd",
   "metadata": {},
   "outputs": [],
   "source": [
    "c=iter(c) "
   ]
  },
  {
   "cell_type": "code",
   "execution_count": 6,
   "id": "072ea18b-88e5-42e9-afd8-7a36829456ee",
   "metadata": {},
   "outputs": [
    {
     "data": {
      "text/plain": [
       "'3'"
      ]
     },
     "execution_count": 6,
     "metadata": {},
     "output_type": "execute_result"
    }
   ],
   "source": [
    "next(c)"
   ]
  },
  {
   "cell_type": "code",
   "execution_count": 7,
   "id": "d394afbe-5030-42d3-8c4c-bb59cfeeddbb",
   "metadata": {},
   "outputs": [
    {
     "data": {
      "text/plain": [
       "'0'"
      ]
     },
     "execution_count": 7,
     "metadata": {},
     "output_type": "execute_result"
    }
   ],
   "source": [
    "next(c)"
   ]
  },
  {
   "cell_type": "code",
   "execution_count": 8,
   "id": "6e18e204-b20f-4496-9116-cfda14201918",
   "metadata": {},
   "outputs": [
    {
     "data": {
      "text/plain": [
       "'4'"
      ]
     },
     "execution_count": 8,
     "metadata": {},
     "output_type": "execute_result"
    }
   ],
   "source": [
    "next(c)"
   ]
  },
  {
   "cell_type": "code",
   "execution_count": 9,
   "id": "f9de30eb-6ff7-432f-a9dc-be44a437a5f1",
   "metadata": {},
   "outputs": [
    {
     "data": {
      "text/plain": [
       "'5'"
      ]
     },
     "execution_count": 9,
     "metadata": {},
     "output_type": "execute_result"
    }
   ],
   "source": [
    "next(c)"
   ]
  },
  {
   "cell_type": "markdown",
   "id": "1b63819e-049d-4137-95fd-888a22cc8de0",
   "metadata": {},
   "source": [
    "### For iterating the elements we use for loop also"
   ]
  },
  {
   "cell_type": "code",
   "execution_count": 11,
   "id": "7a0aab5f-d83a-4fa5-9012-b22e43139c90",
   "metadata": {},
   "outputs": [
    {
     "name": "stdout",
     "output_type": "stream",
     "text": [
      "V\n",
      "a\n",
      "i\n",
      "s\n",
      "h\n",
      "n\n",
      "a\n",
      "v\n",
      "i\n"
     ]
    }
   ],
   "source": [
    "for i in \"Vaishnavi\":\n",
    "    print(i)"
   ]
  },
  {
   "cell_type": "code",
   "execution_count": 12,
   "id": "4e6a2af1-d05c-4394-8cbf-2e4f8ef57c9a",
   "metadata": {},
   "outputs": [
    {
     "name": "stdout",
     "output_type": "stream",
     "text": [
      "2\n",
      "0\n",
      "9\n",
      "3\n",
      "4\n",
      "5\n"
     ]
    }
   ],
   "source": [
    "for i in \"209345\":\n",
    "    print(i)"
   ]
  },
  {
   "cell_type": "code",
   "execution_count": 22,
   "id": "a79e1160-a334-476e-8251-3a3004185f33",
   "metadata": {},
   "outputs": [
    {
     "name": "stdout",
     "output_type": "stream",
     "text": [
      "G 💕\n",
      "h 💕\n",
      "o 💕\n",
      "r 💕\n",
      "p 💕\n",
      "a 💕\n",
      "d 💕\n",
      "e 💕\n"
     ]
    }
   ],
   "source": [
    "for i in \"Ghorpade\":\n",
    "    print(i + \" 💕\")"
   ]
  },
  {
   "cell_type": "code",
   "execution_count": 25,
   "id": "ebc269a8-2dba-4ec5-9099-c51a92a16764",
   "metadata": {},
   "outputs": [
    {
     "name": "stdout",
     "output_type": "stream",
     "text": [
      "👍 2\n",
      "👍 4\n",
      "👍 6\n",
      "👍 8\n",
      "👍 9\n",
      "👍 0\n"
     ]
    }
   ],
   "source": [
    "for i in '246890':\n",
    "    print('👍 '+ i)"
   ]
  },
  {
   "cell_type": "markdown",
   "id": "4c05d72b-7cf8-4354-b134-79579bdce3ae",
   "metadata": {},
   "source": [
    "# Generators"
   ]
  },
  {
   "cell_type": "code",
   "execution_count": 31,
   "id": "f32e84aa-c231-43db-8d4c-d417a9043e3c",
   "metadata": {},
   "outputs": [],
   "source": [
    "def gen_square(n):\n",
    "    for i in range(n):\n",
    "        yield square(7)     #Save the logic and give the location where ir "
   ]
  },
  {
   "cell_type": "code",
   "execution_count": 32,
   "id": "6d310904-7dc6-4c58-a9a6-cb7942cd8ca1",
   "metadata": {},
   "outputs": [
    {
     "data": {
      "text/plain": [
       "<generator object gen_square at 0x000002320B57B440>"
      ]
     },
     "execution_count": 32,
     "metadata": {},
     "output_type": "execute_result"
    }
   ],
   "source": [
    "gen_square(7)"
   ]
  },
  {
   "cell_type": "code",
   "execution_count": 34,
   "id": "ee0def6b-7684-4013-8c4b-f7a63182d1cb",
   "metadata": {},
   "outputs": [],
   "source": [
    "def cube(a):\n",
    "    return a*a*a"
   ]
  },
  {
   "cell_type": "code",
   "execution_count": 35,
   "id": "0f61b6e3-c54c-43aa-9fb5-f2e9ba54dd63",
   "metadata": {},
   "outputs": [
    {
     "data": {
      "text/plain": [
       "216"
      ]
     },
     "execution_count": 35,
     "metadata": {},
     "output_type": "execute_result"
    }
   ],
   "source": [
    "cube(6)"
   ]
  },
  {
   "cell_type": "code",
   "execution_count": 36,
   "id": "d5c9839f-a499-4165-a84c-95e4f602b42f",
   "metadata": {},
   "outputs": [],
   "source": [
    "def cube_gen(n):\n",
    "    for i in range(n):\n",
    "        yield i*i*i"
   ]
  },
  {
   "cell_type": "code",
   "execution_count": 37,
   "id": "ad039fa2-01ec-4385-9384-3f3e6c0cdc54",
   "metadata": {},
   "outputs": [
    {
     "data": {
      "text/plain": [
       "<generator object cube_gen at 0x000002320B579970>"
      ]
     },
     "execution_count": 37,
     "metadata": {},
     "output_type": "execute_result"
    }
   ],
   "source": [
    "cube_gen(5)"
   ]
  }
 ],
 "metadata": {
  "kernelspec": {
   "display_name": "Python 3 (ipykernel)",
   "language": "python",
   "name": "python3"
  },
  "language_info": {
   "codemirror_mode": {
    "name": "ipython",
    "version": 3
   },
   "file_extension": ".py",
   "mimetype": "text/x-python",
   "name": "python",
   "nbconvert_exporter": "python",
   "pygments_lexer": "ipython3",
   "version": "3.12.4"
  }
 },
 "nbformat": 4,
 "nbformat_minor": 5
}
