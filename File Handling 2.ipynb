{
 "cells": [
  {
   "cell_type": "code",
   "execution_count": 17,
   "id": "287be3e8-db8a-45b8-9967-400f8d7bb41c",
   "metadata": {},
   "outputs": [],
   "source": [
    "f = open('test.csv', mode= 'w')"
   ]
  },
  {
   "cell_type": "code",
   "execution_count": 18,
   "id": "6a6b45e0-9462-48de-8870-3eb0d56492e6",
   "metadata": {},
   "outputs": [
    {
     "data": {
      "text/plain": [
       "671"
      ]
     },
     "execution_count": 18,
     "metadata": {},
     "output_type": "execute_result"
    }
   ],
   "source": [
    "f.write(\"\"\"IND vs BAN LIVE Score, Champions Trophy 2025: After a constant tug-of-war between the cricket boards of \n",
    "India and Pakistan to decide where India would be playing during the Champions Trophy, it's time for the cricket to \n",
    "speak for itself – and as always, the Indian team enters with the weight of severe expectations and extreme pressure \n",
    "from home shores and abroad. India will be far removed from the heart of the action in Pakistan, designated to play\n",
    "out all their games in the UAE, beginning with the opening game of the tournament up against Bangladesh. In a tournament \n",
    "where every loss hits doubly hard, India will want to start off with a win, and a big one at \"\"\")"
   ]
  },
  {
   "cell_type": "code",
   "execution_count": 19,
   "id": "f916fea1-c44e-42ae-87ba-82410b0b002e",
   "metadata": {},
   "outputs": [],
   "source": [
    "f.close()"
   ]
  },
  {
   "cell_type": "code",
   "execution_count": 21,
   "id": "595d3a8e-6a0f-46c4-b517-aa8f8d49fb8b",
   "metadata": {},
   "outputs": [],
   "source": [
    "f = open('test.csv', mode='r+')"
   ]
  },
  {
   "cell_type": "code",
   "execution_count": 22,
   "id": "ba7902bf-7983-4857-a93a-fef83f27e2ea",
   "metadata": {},
   "outputs": [
    {
     "data": {
      "text/plain": [
       "\"IND vs BAN LIVE Score, Champions Trophy 2025: After a constant tug-of-war between the cricket boards of \\nIndia and Pakistan to decide where India would be playing during the Champions Trophy, it's time for the cricket to \\nspeak for itself – and as always, the Indian team enters with the weight of severe expectations and extreme pressure \\nfrom home shores and abroad. India will be far removed from the heart of the action in Pakistan, designated to play\\nout all their games in the UAE, beginning with the opening game of the tournament up against Bangladesh. In a tournament \\nwhere every loss hits doubly hard, India will want to start off with a win, and a big one at \""
      ]
     },
     "execution_count": 22,
     "metadata": {},
     "output_type": "execute_result"
    }
   ],
   "source": [
    "f.read()"
   ]
  },
  {
   "cell_type": "code",
   "execution_count": 23,
   "id": "f12d70f4-eef2-4aad-933c-714f11c50198",
   "metadata": {},
   "outputs": [
    {
     "data": {
      "text/plain": [
       "0"
      ]
     },
     "execution_count": 23,
     "metadata": {},
     "output_type": "execute_result"
    }
   ],
   "source": [
    "f.seek(0)"
   ]
  },
  {
   "cell_type": "code",
   "execution_count": 24,
   "id": "e6b7d1c8-c464-4203-ab4e-b997025dc1e5",
   "metadata": {},
   "outputs": [
    {
     "data": {
      "text/plain": [
       "'IND vs BAN LIVE Score, Champions Trophy 2025: After a constant tug-of-war between the cricket boards of \\n'"
      ]
     },
     "execution_count": 24,
     "metadata": {},
     "output_type": "execute_result"
    }
   ],
   "source": [
    "f.readline()"
   ]
  },
  {
   "cell_type": "code",
   "execution_count": 25,
   "id": "b8ad0975-931b-491b-bd0f-eb78f55d25c5",
   "metadata": {},
   "outputs": [
    {
     "data": {
      "text/plain": [
       "\"India and Pakistan to decide where India would be playing during the Champions Trophy, it's time for the cricket to \\n\""
      ]
     },
     "execution_count": 25,
     "metadata": {},
     "output_type": "execute_result"
    }
   ],
   "source": [
    "f.readline()"
   ]
  },
  {
   "cell_type": "code",
   "execution_count": 26,
   "id": "cd16ddc5-0ff7-45f8-b949-b644d61bcd7e",
   "metadata": {},
   "outputs": [
    {
     "data": {
      "text/plain": [
       "0"
      ]
     },
     "execution_count": 26,
     "metadata": {},
     "output_type": "execute_result"
    }
   ],
   "source": [
    "f.seek(0)"
   ]
  },
  {
   "cell_type": "code",
   "execution_count": 27,
   "id": "483a9195-e443-48cb-9710-1e32f10c01a2",
   "metadata": {},
   "outputs": [
    {
     "data": {
      "text/plain": [
       "['IND vs BAN LIVE Score, Champions Trophy 2025: After a constant tug-of-war between the cricket boards of \\n',\n",
       " \"India and Pakistan to decide where India would be playing during the Champions Trophy, it's time for the cricket to \\n\",\n",
       " 'speak for itself – and as always, the Indian team enters with the weight of severe expectations and extreme pressure \\n',\n",
       " 'from home shores and abroad. India will be far removed from the heart of the action in Pakistan, designated to play\\n',\n",
       " 'out all their games in the UAE, beginning with the opening game of the tournament up against Bangladesh. In a tournament \\n',\n",
       " 'where every loss hits doubly hard, India will want to start off with a win, and a big one at ']"
      ]
     },
     "execution_count": 27,
     "metadata": {},
     "output_type": "execute_result"
    }
   ],
   "source": [
    "f.readlines()"
   ]
  },
  {
   "cell_type": "code",
   "execution_count": 30,
   "id": "e11078c5-57d6-4ac0-b984-502ca8c8d340",
   "metadata": {},
   "outputs": [
    {
     "data": {
      "text/plain": [
       "0"
      ]
     },
     "execution_count": 30,
     "metadata": {},
     "output_type": "execute_result"
    }
   ],
   "source": [
    "f.seek(0)"
   ]
  },
  {
   "cell_type": "code",
   "execution_count": 31,
   "id": "61e56cc5-ad5c-4b48-a814-824922016cde",
   "metadata": {},
   "outputs": [
    {
     "name": "stdout",
     "output_type": "stream",
     "text": [
      "I\n",
      "N\n",
      "D\n",
      " \n",
      "v\n",
      "s\n",
      " \n",
      "B\n",
      "A\n",
      "N\n",
      " \n",
      "L\n",
      "I\n",
      "V\n",
      "E\n",
      " \n",
      "S\n",
      "c\n",
      "o\n",
      "r\n",
      "e\n",
      ",\n",
      " \n",
      "C\n",
      "h\n",
      "a\n",
      "m\n",
      "p\n",
      "i\n",
      "o\n",
      "n\n",
      "s\n",
      " \n",
      "T\n",
      "r\n",
      "o\n",
      "p\n",
      "h\n",
      "y\n",
      " \n",
      "2\n",
      "0\n",
      "2\n",
      "5\n",
      ":\n",
      " \n",
      "A\n",
      "f\n",
      "t\n",
      "e\n",
      "r\n",
      " \n",
      "a\n",
      " \n",
      "c\n",
      "o\n",
      "n\n",
      "s\n",
      "t\n",
      "a\n",
      "n\n",
      "t\n",
      " \n",
      "t\n",
      "u\n",
      "g\n",
      "-\n",
      "o\n",
      "f\n",
      "-\n",
      "w\n",
      "a\n",
      "r\n",
      " \n",
      "b\n",
      "e\n",
      "t\n",
      "w\n",
      "e\n",
      "e\n",
      "n\n",
      " \n",
      "t\n",
      "h\n",
      "e\n",
      " \n",
      "c\n",
      "r\n",
      "i\n",
      "c\n",
      "k\n",
      "e\n",
      "t\n",
      " \n",
      "b\n",
      "o\n",
      "a\n",
      "r\n",
      "d\n",
      "s\n",
      " \n",
      "o\n",
      "f\n",
      " \n",
      "\n",
      "\n"
     ]
    }
   ],
   "source": [
    "for i in f.readline():\n",
    "    print(i)"
   ]
  },
  {
   "cell_type": "code",
   "execution_count": 32,
   "id": "730bfb52-f3fd-4b98-8e28-1b4182dc5968",
   "metadata": {},
   "outputs": [
    {
     "data": {
      "text/plain": [
       "0"
      ]
     },
     "execution_count": 32,
     "metadata": {},
     "output_type": "execute_result"
    }
   ],
   "source": [
    "f.seek(0)"
   ]
  },
  {
   "cell_type": "code",
   "execution_count": 33,
   "id": "d3594e61-19f9-4f19-b7d6-dfa286323dbf",
   "metadata": {},
   "outputs": [
    {
     "name": "stdout",
     "output_type": "stream",
     "text": [
      "IND vs BAN LIVE Score, Champions Trophy 2025: After a constant tug-of-war between the cricket boards of \n",
      "\n",
      "India and Pakistan to decide where India would be playing during the Champions Trophy, it's time for the cricket to \n",
      "\n",
      "speak for itself – and as always, the Indian team enters with the weight of severe expectations and extreme pressure \n",
      "\n",
      "from home shores and abroad. India will be far removed from the heart of the action in Pakistan, designated to play\n",
      "\n",
      "out all their games in the UAE, beginning with the opening game of the tournament up against Bangladesh. In a tournament \n",
      "\n",
      "where every loss hits doubly hard, India will want to start off with a win, and a big one at \n"
     ]
    }
   ],
   "source": [
    "for i in f.readlines():\n",
    "    print(i)"
   ]
  },
  {
   "cell_type": "code",
   "execution_count": 45,
   "id": "b2e0e800-8565-4968-9bc7-1fe9ab74d8d7",
   "metadata": {},
   "outputs": [
    {
     "data": {
      "text/plain": [
       "0"
      ]
     },
     "execution_count": 45,
     "metadata": {},
     "output_type": "execute_result"
    }
   ],
   "source": [
    "f.seek(0)"
   ]
  },
  {
   "cell_type": "code",
   "execution_count": 46,
   "id": "57c3c735-8f82-42c8-8ab1-4cf67897bd0e",
   "metadata": {},
   "outputs": [],
   "source": [
    "sent = []"
   ]
  },
  {
   "cell_type": "code",
   "execution_count": 47,
   "id": "4932f09c-97ca-4b21-8a2e-db893ab4a86f",
   "metadata": {},
   "outputs": [],
   "source": [
    "for i in f.readlines():\n",
    "    sent.append(i)"
   ]
  },
  {
   "cell_type": "code",
   "execution_count": 48,
   "id": "02ab38b4-bfa9-4fad-b4b4-c440ce9e6f65",
   "metadata": {},
   "outputs": [
    {
     "data": {
      "text/plain": [
       "['IND vs BAN LIVE Score, Champions Trophy 2025: After a constant tug-of-war between the cricket boards of \\n',\n",
       " \"India and Pakistan to decide where India would be playing during the Champions Trophy, it's time for the cricket to \\n\",\n",
       " 'speak for itself – and as always, the Indian team enters with the weight of severe expectations and extreme pressure \\n',\n",
       " 'from home shores and abroad. India will be far removed from the heart of the action in Pakistan, designated to play\\n',\n",
       " 'out all their games in the UAE, beginning with the opening game of the tournament up against Bangladesh. In a tournament \\n',\n",
       " 'where every loss hits doubly hard, India will want to start off with a win, and a big one at ']"
      ]
     },
     "execution_count": 48,
     "metadata": {},
     "output_type": "execute_result"
    }
   ],
   "source": [
    "sent"
   ]
  },
  {
   "cell_type": "code",
   "execution_count": 49,
   "id": "bd2c42ff-d54a-4186-894a-e538390c1f32",
   "metadata": {},
   "outputs": [
    {
     "name": "stdout",
     "output_type": "stream",
     "text": [
      "IND vs BAN LIVE Score, Champions Trophy 2025: After a constant tug-of-war between the cricket boards of \n",
      "\n",
      "India and Pakistan to decide where India would be playing during the Champions Trophy, it's time for the cricket to \n",
      "\n",
      "speak for itself – and as always, the Indian team enters with the weight of severe expectations and extreme pressure \n",
      "\n",
      "from home shores and abroad. India will be far removed from the heart of the action in Pakistan, designated to play\n",
      "\n",
      "out all their games in the UAE, beginning with the opening game of the tournament up against Bangladesh. In a tournament \n",
      "\n",
      "where every loss hits doubly hard, India will want to start off with a win, and a big one at \n"
     ]
    }
   ],
   "source": [
    "for i in sent:\n",
    "    print(i)"
   ]
  },
  {
   "cell_type": "code",
   "execution_count": 50,
   "id": "56da4a8f-678e-44be-a380-ff433b01fc80",
   "metadata": {},
   "outputs": [
    {
     "data": {
      "text/plain": [
       "[\"'IND vs BAN LIVE Score, Champions Trophy 2025: After a constant tug-of-war between the cricket boards of \",\n",
       " '.',\n",
       " \"';\",\n",
       " \"'India and Pakistan to decide where India would be playing during the Champions Trophy, it's time for the cricket to\",\n",
       " \"' \"]"
      ]
     },
     "execution_count": 50,
     "metadata": {},
     "output_type": "execute_result"
    }
   ],
   "source": [
    "\"\"\"'IND vs BAN LIVE Score, Champions Trophy 2025: After a constant tug-of-war between the cricket boards of \n",
    ".\\n';\n",
    "'India and Pakistan to decide where India would be playing during the Champions Trophy, it's time for the cricket to\\n' \"\"\".split('\\n')"
   ]
  },
  {
   "cell_type": "code",
   "execution_count": 51,
   "id": "4d66a998-95b5-4af1-822d-329ef59d8af6",
   "metadata": {},
   "outputs": [
    {
     "data": {
      "text/plain": [
       "['IND vs BAN LIVE Score, Champions Trophy 2025: After a constant tug-of-war between the cricket boards of \\n',\n",
       " \"India and Pakistan to decide where India would be playing during the Champions Trophy, it's time for the cricket to \\n\",\n",
       " 'speak for itself – and as always, the Indian team enters with the weight of severe expectations and extreme pressure \\n',\n",
       " 'from home shores and abroad. India will be far removed from the heart of the action in Pakistan, designated to play\\n',\n",
       " 'out all their games in the UAE, beginning with the opening game of the tournament up against Bangladesh. In a tournament \\n',\n",
       " 'where every loss hits doubly hard, India will want to start off with a win, and a big one at ']"
      ]
     },
     "execution_count": 51,
     "metadata": {},
     "output_type": "execute_result"
    }
   ],
   "source": [
    "sent"
   ]
  },
  {
   "cell_type": "code",
   "execution_count": 54,
   "id": "8e68873c-a8cd-4a59-bd23-ee440c3723c1",
   "metadata": {},
   "outputs": [],
   "source": [
    "sent1=['IND vs BAN LIVE Score, Champions Trophy 2025: After a constant tug-of-war between the cricket boards of \\n']"
   ]
  },
  {
   "cell_type": "code",
   "execution_count": 56,
   "id": "80619b25-23c3-4b9a-a396-320e71540409",
   "metadata": {},
   "outputs": [
    {
     "name": "stdout",
     "output_type": "stream",
     "text": [
      "IND vs BAN LIVE Score, Champions Trophy 2025: After a constant tug-of-war between the cricket boards of \n",
      "\n"
     ]
    }
   ],
   "source": [
    "for i in sent1:\n",
    "    print(i)"
   ]
  },
  {
   "cell_type": "code",
   "execution_count": 58,
   "id": "8390538a-3e32-49e3-ac47-2c59aa300cc5",
   "metadata": {},
   "outputs": [
    {
     "name": "stdout",
     "output_type": "stream",
     "text": [
      "I\n",
      "N\n",
      "D\n",
      " \n",
      "v\n",
      "s\n",
      " \n",
      "B\n",
      "A\n",
      "N\n",
      " \n",
      "L\n",
      "I\n",
      "V\n",
      "E\n",
      " \n",
      "S\n",
      "c\n",
      "o\n",
      "r\n",
      "e\n",
      ",\n",
      " \n",
      "C\n",
      "h\n",
      "a\n",
      "m\n",
      "p\n",
      "i\n",
      "o\n",
      "n\n",
      "s\n",
      " \n",
      "T\n",
      "r\n",
      "o\n",
      "p\n",
      "h\n",
      "y\n",
      " \n",
      "2\n",
      "0\n",
      "2\n",
      "5\n",
      ":\n",
      " \n",
      "A\n",
      "f\n",
      "t\n",
      "e\n",
      "r\n",
      " \n",
      "a\n",
      " \n",
      "c\n",
      "o\n",
      "n\n",
      "s\n",
      "t\n",
      "a\n",
      "n\n",
      "t\n",
      " \n",
      "t\n",
      "u\n",
      "g\n",
      "-\n",
      "o\n",
      "f\n",
      "-\n",
      "w\n",
      "a\n",
      "r\n",
      " \n",
      "b\n",
      "e\n",
      "t\n",
      "w\n",
      "e\n",
      "e\n",
      "n\n",
      " \n",
      "t\n",
      "h\n",
      "e\n",
      " \n",
      "c\n",
      "r\n",
      "i\n",
      "c\n",
      "k\n",
      "e\n",
      "t\n",
      " \n",
      "b\n",
      "o\n",
      "a\n",
      "r\n",
      "d\n",
      "s\n",
      " \n",
      "o\n",
      "f\n",
      " \n",
      "\n",
      "\n"
     ]
    }
   ],
   "source": [
    "words1 = []\n",
    "for i in sent1:\n",
    "    for words in i:\n",
    "        print(words)\n",
    "        words1.append(words)"
   ]
  },
  {
   "cell_type": "code",
   "execution_count": 60,
   "id": "bf5dd273-88ae-4482-a55a-6fc764487c6d",
   "metadata": {},
   "outputs": [
    {
     "data": {
      "text/plain": [
       "['I',\n",
       " 'N',\n",
       " 'D',\n",
       " ' ',\n",
       " 'v',\n",
       " 's',\n",
       " ' ',\n",
       " 'B',\n",
       " 'A',\n",
       " 'N',\n",
       " ' ',\n",
       " 'L',\n",
       " 'I',\n",
       " 'V',\n",
       " 'E',\n",
       " ' ',\n",
       " 'S',\n",
       " 'c',\n",
       " 'o',\n",
       " 'r',\n",
       " 'e',\n",
       " ',',\n",
       " ' ',\n",
       " 'C',\n",
       " 'h',\n",
       " 'a',\n",
       " 'm',\n",
       " 'p',\n",
       " 'i',\n",
       " 'o',\n",
       " 'n',\n",
       " 's',\n",
       " ' ',\n",
       " 'T',\n",
       " 'r',\n",
       " 'o',\n",
       " 'p',\n",
       " 'h',\n",
       " 'y',\n",
       " ' ',\n",
       " '2',\n",
       " '0',\n",
       " '2',\n",
       " '5',\n",
       " ':',\n",
       " ' ',\n",
       " 'A',\n",
       " 'f',\n",
       " 't',\n",
       " 'e',\n",
       " 'r',\n",
       " ' ',\n",
       " 'a',\n",
       " ' ',\n",
       " 'c',\n",
       " 'o',\n",
       " 'n',\n",
       " 's',\n",
       " 't',\n",
       " 'a',\n",
       " 'n',\n",
       " 't',\n",
       " ' ',\n",
       " 't',\n",
       " 'u',\n",
       " 'g',\n",
       " '-',\n",
       " 'o',\n",
       " 'f',\n",
       " '-',\n",
       " 'w',\n",
       " 'a',\n",
       " 'r',\n",
       " ' ',\n",
       " 'b',\n",
       " 'e',\n",
       " 't',\n",
       " 'w',\n",
       " 'e',\n",
       " 'e',\n",
       " 'n',\n",
       " ' ',\n",
       " 't',\n",
       " 'h',\n",
       " 'e',\n",
       " ' ',\n",
       " 'c',\n",
       " 'r',\n",
       " 'i',\n",
       " 'c',\n",
       " 'k',\n",
       " 'e',\n",
       " 't',\n",
       " ' ',\n",
       " 'b',\n",
       " 'o',\n",
       " 'a',\n",
       " 'r',\n",
       " 'd',\n",
       " 's',\n",
       " ' ',\n",
       " 'o',\n",
       " 'f',\n",
       " ' ',\n",
       " '\\n']"
      ]
     },
     "execution_count": 60,
     "metadata": {},
     "output_type": "execute_result"
    }
   ],
   "source": [
    "words1"
   ]
  },
  {
   "cell_type": "markdown",
   "id": "c8abaa7f-4bcb-4896-97c4-9c74b0694c31",
   "metadata": {},
   "source": [
    "## Functions in python file"
   ]
  },
  {
   "cell_type": "code",
   "execution_count": 61,
   "id": "e04634b3-abbc-4544-8165-cae0655f9775",
   "metadata": {},
   "outputs": [],
   "source": [
    "def sum(a,b):\n",
    "    return a + b"
   ]
  },
  {
   "cell_type": "code",
   "execution_count": 62,
   "id": "105c6a41-845e-4e49-99e1-0b404dc8c26b",
   "metadata": {},
   "outputs": [],
   "source": [
    "f = open('my_functions.py', mode='w')"
   ]
  },
  {
   "cell_type": "code",
   "execution_count": 63,
   "id": "a0dfd791-aef1-4c34-8175-abf1296adfa8",
   "metadata": {},
   "outputs": [
    {
     "data": {
      "text/plain": [
       "77"
      ]
     },
     "execution_count": 63,
     "metadata": {},
     "output_type": "execute_result"
    }
   ],
   "source": [
    "f.write(\"\"\"def sum(a,b):\n",
    "    return a + b\n",
    "    \n",
    "def multiplication(a,b):\n",
    "    return a * b\"\"\")"
   ]
  },
  {
   "cell_type": "code",
   "execution_count": 64,
   "id": "dc13d2ef-26a3-4887-8ed5-3c5df976b9c1",
   "metadata": {},
   "outputs": [],
   "source": [
    "f.close()"
   ]
  }
 ],
 "metadata": {
  "kernelspec": {
   "display_name": "Python 3 (ipykernel)",
   "language": "python",
   "name": "python3"
  },
  "language_info": {
   "codemirror_mode": {
    "name": "ipython",
    "version": 3
   },
   "file_extension": ".py",
   "mimetype": "text/x-python",
   "name": "python",
   "nbconvert_exporter": "python",
   "pygments_lexer": "ipython3",
   "version": "3.12.4"
  }
 },
 "nbformat": 4,
 "nbformat_minor": 5
}
