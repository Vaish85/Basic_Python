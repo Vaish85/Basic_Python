{
 "cells": [
  {
   "cell_type": "markdown",
   "id": "1884c697-e80c-4f9e-bc93-2f49cda1e1d6",
   "metadata": {},
   "source": [
    "# File Handling"
   ]
  },
  {
   "cell_type": "markdown",
   "id": "29316515-65be-4869-97c7-24b6d952843f",
   "metadata": {},
   "source": [
    "#### It is used to read, write & manage files like text files,csv."
   ]
  },
  {
   "cell_type": "markdown",
   "id": "5a6f39b4-b657-4c24-a9ff-70dbec6aafe6",
   "metadata": {},
   "source": [
    "#### It helps in storing & retrieving data permanently."
   ]
  },
  {
   "cell_type": "markdown",
   "id": "ee8c6bad-a83f-4922-ada1-cd425c926784",
   "metadata": {},
   "source": [
    "#### It include functions like open(), read(), write(), close()."
   ]
  },
  {
   "cell_type": "markdown",
   "id": "c348fe55-fe4e-4ab5-809d-5403525e4aac",
   "metadata": {},
   "source": [
    "#### In real time projects it is used for logging errors, saving user data, processing reports."
   ]
  },
  {
   "cell_type": "code",
   "execution_count": 1,
   "id": "a0127922-b9e1-47cd-85d0-895041004658",
   "metadata": {},
   "outputs": [
    {
     "name": "stdout",
     "output_type": "stream",
     "text": [
      " Volume in drive C is OS\n",
      " Volume Serial Number is 5A40-0737\n",
      "\n",
      " Directory of C:\\Users\\Admin\\Basic Python\n",
      "\n",
      "19-02-2025  16:10    <DIR>          .\n",
      "19-02-2025  15:28    <DIR>          ..\n",
      "19-02-2025  16:00    <DIR>          .ipynb_checkpoints\n",
      "03-02-2025  13:36            10,664 Conditional Stm & Loops.ipynb\n",
      "01-02-2025  19:36            18,105 Data Structures.ipynb\n",
      "31-01-2025  15:07             5,323 Data Types.ipynb\n",
      "19-02-2025  14:27             2,720 File Handling.ipynb\n",
      "19-02-2025  16:10            36,394 Functions.ipynb\n",
      "19-02-2025  14:53             5,851 Iterators & Generators.ipynb\n",
      "19-02-2025  16:03               967 Lambda Function.ipynb\n",
      "19-02-2025  15:11             1,308 OOPs.ipynb\n",
      "31-01-2025  14:26            17,465 Variables & Operators.ipynb\n",
      "               9 File(s)         98,797 bytes\n",
      "               3 Dir(s)  18,675,855,360 bytes free\n"
     ]
    }
   ],
   "source": [
    "ls     "
   ]
  },
  {
   "cell_type": "code",
   "execution_count": 80,
   "id": "ebe5521b-8b0a-4689-9e3a-d6c68257ae9e",
   "metadata": {},
   "outputs": [],
   "source": [
    "c=open('student.csv', mode='w')    #Creates file "
   ]
  },
  {
   "cell_type": "code",
   "execution_count": 81,
   "id": "286e0128-6bca-4c0d-b9ac-0a4cf0b272bb",
   "metadata": {},
   "outputs": [
    {
     "data": {
      "text/plain": [
       "21"
      ]
     },
     "execution_count": 81,
     "metadata": {},
     "output_type": "execute_result"
    }
   ],
   "source": [
    "c.write('This is my first file')   #Writes that text in file"
   ]
  },
  {
   "cell_type": "code",
   "execution_count": 82,
   "id": "b65fa26c-4bdb-40ba-abb4-a0cbd3bfeb9b",
   "metadata": {},
   "outputs": [],
   "source": [
    "c.close()                         #Closes the file"
   ]
  },
  {
   "cell_type": "code",
   "execution_count": 83,
   "id": "dacab2c9-ce99-485e-b715-946babeacdd2",
   "metadata": {},
   "outputs": [],
   "source": [
    "c = open('student.csv', mode='r')  #Opens the file in read mode i.e we can only read file can't write in it"
   ]
  },
  {
   "cell_type": "raw",
   "id": "13012a5e-1b61-46b0-a16f-0868a0f05021",
   "metadata": {},
   "source": [
    "c.read()"
   ]
  },
  {
   "cell_type": "code",
   "execution_count": 84,
   "id": "61cd5d7b-a010-4667-880d-215640cad807",
   "metadata": {},
   "outputs": [
    {
     "data": {
      "text/plain": [
       "0"
      ]
     },
     "execution_count": 84,
     "metadata": {},
     "output_type": "execute_result"
    }
   ],
   "source": [
    "c.seek(0)                          # Keeps the cursour on 0th element"
   ]
  },
  {
   "cell_type": "code",
   "execution_count": 85,
   "id": "7541f3e7-fff4-4b44-8b62-ad363a65ef55",
   "metadata": {},
   "outputs": [
    {
     "data": {
      "text/plain": [
       "'This is my first file'"
      ]
     },
     "execution_count": 85,
     "metadata": {},
     "output_type": "execute_result"
    }
   ],
   "source": [
    "c.read()"
   ]
  },
  {
   "cell_type": "code",
   "execution_count": 86,
   "id": "537a27e5-ca33-4061-94af-e48a96c1d253",
   "metadata": {},
   "outputs": [
    {
     "data": {
      "text/plain": [
       "5"
      ]
     },
     "execution_count": 86,
     "metadata": {},
     "output_type": "execute_result"
    }
   ],
   "source": [
    "c.seek(5)"
   ]
  },
  {
   "cell_type": "code",
   "execution_count": 87,
   "id": "f0295412-f38a-4973-8c87-5bbb91f1d09d",
   "metadata": {},
   "outputs": [
    {
     "data": {
      "text/plain": [
       "'is my first file'"
      ]
     },
     "execution_count": 87,
     "metadata": {},
     "output_type": "execute_result"
    }
   ],
   "source": [
    "c.read()"
   ]
  },
  {
   "cell_type": "code",
   "execution_count": 88,
   "id": "2096312e-41dc-457a-a84c-b4bd485e2802",
   "metadata": {},
   "outputs": [
    {
     "ename": "UnsupportedOperation",
     "evalue": "not writable",
     "output_type": "error",
     "traceback": [
      "\u001b[1;31m---------------------------------------------------------------------------\u001b[0m",
      "\u001b[1;31mUnsupportedOperation\u001b[0m                      Traceback (most recent call last)",
      "Cell \u001b[1;32mIn[88], line 1\u001b[0m\n\u001b[1;32m----> 1\u001b[0m c\u001b[38;5;241m.\u001b[39mwrite(\u001b[38;5;124m'\u001b[39m\u001b[38;5;124mHello\u001b[39m\u001b[38;5;124m'\u001b[39m)\n",
      "\u001b[1;31mUnsupportedOperation\u001b[0m: not writable"
     ]
    }
   ],
   "source": [
    "c.write('Hello')  #Gives error as we have opend filem in read mode only."
   ]
  },
  {
   "cell_type": "code",
   "execution_count": 89,
   "id": "706bff25-de21-4b98-b97f-b6abd0d9d4aa",
   "metadata": {},
   "outputs": [],
   "source": [
    "c.close()"
   ]
  },
  {
   "cell_type": "code",
   "execution_count": 90,
   "id": "fc99818a-6446-4095-a606-3e36c1504177",
   "metadata": {},
   "outputs": [],
   "source": [
    "v = open('student.csv', mode='r+')   #r+ opend the file in both modes read & write"
   ]
  },
  {
   "cell_type": "code",
   "execution_count": 91,
   "id": "af2d5f5d-b594-4c9f-b4ab-6cdc0685f06e",
   "metadata": {},
   "outputs": [
    {
     "data": {
      "text/plain": [
       "'This is my first file'"
      ]
     },
     "execution_count": 91,
     "metadata": {},
     "output_type": "execute_result"
    }
   ],
   "source": [
    "v.read()"
   ]
  },
  {
   "cell_type": "code",
   "execution_count": 92,
   "id": "849dda4d-70d9-47c1-bc89-a884906e5967",
   "metadata": {},
   "outputs": [
    {
     "data": {
      "text/plain": [
       "5"
      ]
     },
     "execution_count": 92,
     "metadata": {},
     "output_type": "execute_result"
    }
   ],
   "source": [
    "v.write('Hello')"
   ]
  },
  {
   "cell_type": "code",
   "execution_count": 93,
   "id": "2629bf8d-8b70-4a5b-84fc-b480da9114bc",
   "metadata": {},
   "outputs": [
    {
     "data": {
      "text/plain": [
       "0"
      ]
     },
     "execution_count": 93,
     "metadata": {},
     "output_type": "execute_result"
    }
   ],
   "source": [
    "v.seek(0)"
   ]
  },
  {
   "cell_type": "code",
   "execution_count": 94,
   "id": "e3514884-da87-4b7b-9f8e-239c121330a2",
   "metadata": {},
   "outputs": [
    {
     "data": {
      "text/plain": [
       "'This is my first fileHello'"
      ]
     },
     "execution_count": 94,
     "metadata": {},
     "output_type": "execute_result"
    }
   ],
   "source": [
    "v.read()"
   ]
  },
  {
   "cell_type": "code",
   "execution_count": 95,
   "id": "97c62c6c-1d77-48b1-a6b0-6dcd6ba4f95e",
   "metadata": {},
   "outputs": [
    {
     "data": {
      "text/plain": [
       "0"
      ]
     },
     "execution_count": 95,
     "metadata": {},
     "output_type": "execute_result"
    }
   ],
   "source": [
    "v.seek(0)"
   ]
  },
  {
   "cell_type": "code",
   "execution_count": 96,
   "id": "12ce0e55-212b-45f3-a12d-4940ff4f843a",
   "metadata": {},
   "outputs": [],
   "source": [
    "v.close()"
   ]
  },
  {
   "cell_type": "code",
   "execution_count": 97,
   "id": "24672143-c9ad-401c-bb0e-7eda76e8ad97",
   "metadata": {},
   "outputs": [],
   "source": [
    "a = open('sentence-data.csv', mode= 'w')"
   ]
  },
  {
   "cell_type": "code",
   "execution_count": 98,
   "id": "d9be1da8-4fec-4152-99dc-86234eeed9a0",
   "metadata": {},
   "outputs": [
    {
     "data": {
      "text/plain": [
       "75"
      ]
     },
     "execution_count": 98,
     "metadata": {},
     "output_type": "execute_result"
    }
   ],
   "source": [
    "a.write(\"\"\"This is my sentence one.\n",
    "This is my sentence Two.\n",
    "This is my sentence Three\"\"\")"
   ]
  },
  {
   "cell_type": "code",
   "execution_count": 100,
   "id": "ce52f92d-720e-40d9-8270-3a922df3cd15",
   "metadata": {},
   "outputs": [],
   "source": [
    "a.close()"
   ]
  },
  {
   "cell_type": "code",
   "execution_count": 102,
   "id": "dad1f60c-99aa-42c9-8d18-1d29c6938bfa",
   "metadata": {},
   "outputs": [],
   "source": [
    "a = open('sentence-data.csv', mode='r+')"
   ]
  },
  {
   "cell_type": "code",
   "execution_count": 103,
   "id": "381e7b87-1eaa-402e-95ac-4fb9875bfb3e",
   "metadata": {},
   "outputs": [
    {
     "data": {
      "text/plain": [
       "'This is my sentence one.\\nThis is my sentence Two.\\nThis is my sentence Three'"
      ]
     },
     "execution_count": 103,
     "metadata": {},
     "output_type": "execute_result"
    }
   ],
   "source": [
    "a.read()"
   ]
  },
  {
   "cell_type": "code",
   "execution_count": 104,
   "id": "d611fca5-9e91-432b-be81-9be36f33007c",
   "metadata": {},
   "outputs": [
    {
     "name": "stdout",
     "output_type": "stream",
     "text": [
      "This is my sentence one.\n",
      "This is my sentence Two.\n",
      "This is my sentence Three\n"
     ]
    }
   ],
   "source": [
    "print('This is my sentence one.\\nThis is my sentence Two.\\nThis is my sentence Three')"
   ]
  },
  {
   "cell_type": "code",
   "execution_count": 105,
   "id": "342adc94-fbb6-4baf-809a-abeb653e83e3",
   "metadata": {},
   "outputs": [
    {
     "data": {
      "text/plain": [
       "0"
      ]
     },
     "execution_count": 105,
     "metadata": {},
     "output_type": "execute_result"
    }
   ],
   "source": [
    "a.seek(0)"
   ]
  },
  {
   "cell_type": "code",
   "execution_count": 106,
   "id": "a7ba5095-c78b-40a0-86b0-f6d113d038ab",
   "metadata": {},
   "outputs": [
    {
     "data": {
      "text/plain": [
       "'This is my sentence one.\\n'"
      ]
     },
     "execution_count": 106,
     "metadata": {},
     "output_type": "execute_result"
    }
   ],
   "source": [
    "a.readline()"
   ]
  },
  {
   "cell_type": "code",
   "execution_count": 107,
   "id": "67a24afe-e15e-409c-8acf-27998768ab50",
   "metadata": {},
   "outputs": [
    {
     "data": {
      "text/plain": [
       "'This is my sentence Two.\\n'"
      ]
     },
     "execution_count": 107,
     "metadata": {},
     "output_type": "execute_result"
    }
   ],
   "source": [
    "a.readline()"
   ]
  },
  {
   "cell_type": "code",
   "execution_count": 108,
   "id": "a763bc04-992c-4b9e-ad0b-44426f137fb1",
   "metadata": {},
   "outputs": [
    {
     "data": {
      "text/plain": [
       "'This is my sentence Three'"
      ]
     },
     "execution_count": 108,
     "metadata": {},
     "output_type": "execute_result"
    }
   ],
   "source": [
    "a.readline()"
   ]
  },
  {
   "cell_type": "code",
   "execution_count": 109,
   "id": "f91b459d-c8a7-4879-862b-105be1fe6b4d",
   "metadata": {},
   "outputs": [
    {
     "data": {
      "text/plain": [
       "0"
      ]
     },
     "execution_count": 109,
     "metadata": {},
     "output_type": "execute_result"
    }
   ],
   "source": [
    "a.seek(0)"
   ]
  },
  {
   "cell_type": "code",
   "execution_count": 110,
   "id": "a87cc908-50b7-43ae-9af9-e63fa8ad43be",
   "metadata": {},
   "outputs": [
    {
     "data": {
      "text/plain": [
       "['This is my sentence one.\\n',\n",
       " 'This is my sentence Two.\\n',\n",
       " 'This is my sentence Three']"
      ]
     },
     "execution_count": 110,
     "metadata": {},
     "output_type": "execute_result"
    }
   ],
   "source": [
    "a.readlines()"
   ]
  },
  {
   "cell_type": "code",
   "execution_count": 111,
   "id": "615282ed-f040-45ee-a3d4-ef6b558e6afc",
   "metadata": {},
   "outputs": [],
   "source": [
    "a.close()"
   ]
  }
 ],
 "metadata": {
  "kernelspec": {
   "display_name": "Python 3 (ipykernel)",
   "language": "python",
   "name": "python3"
  },
  "language_info": {
   "codemirror_mode": {
    "name": "ipython",
    "version": 3
   },
   "file_extension": ".py",
   "mimetype": "text/x-python",
   "name": "python",
   "nbconvert_exporter": "python",
   "pygments_lexer": "ipython3",
   "version": "3.12.4"
  }
 },
 "nbformat": 4,
 "nbformat_minor": 5
}
